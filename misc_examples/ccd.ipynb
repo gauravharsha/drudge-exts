{
 "cells": [
  {
   "cell_type": "markdown",
   "metadata": {},
   "source": [
    "# Derivation of CCSD theory\n",
    "\n",
    "This notebook serves as an example of interactive usage of drudge for complex symbolic manipulations in Jupyter notebooks.  Here we can see how the traditional CCD theory can be derived easily."
   ]
  },
  {
   "cell_type": "markdown",
   "metadata": {},
   "source": [
    "## Preparatory work\n",
    "\n",
    "First, we need to set up the Spark environment.  Here we just use parallelization on the local machine."
   ]
  },
  {
   "cell_type": "code",
   "execution_count": 1,
   "metadata": {},
   "outputs": [],
   "source": [
    "from pyspark import SparkContext\n",
    "ctx = SparkContext('local[*]', 'ccsd')"
   ]
  },
  {
   "cell_type": "markdown",
   "metadata": {},
   "source": [
    "Or we can also use the dummy spark to emulate the Spark environment in a purely serial way.  Note that we need just **one** Spark context.  These two cells should not be both evaluated."
   ]
  },
  {
   "cell_type": "code",
   "execution_count": null,
   "metadata": {},
   "outputs": [],
   "source": [
    "from dummy_spark import SparkContext\n",
    "ctx = SparkContext()"
   ]
  },
  {
   "cell_type": "markdown",
   "metadata": {},
   "source": [
    "With the Spark context, we can construct the drudge specific for this problem.  Then we can define some names that is going to be used frequently."
   ]
  },
  {
   "cell_type": "code",
   "execution_count": 2,
   "metadata": {},
   "outputs": [],
   "source": [
    "from sympy import *\n",
    "from drudge import *\n",
    "\n",
    "dr = PartHoleDrudge(ctx)\n",
    "dr.full_simplify = False\n",
    "p = dr.names\n",
    "\n",
    "c_ = p.c_\n",
    "c_dag = p.c_dag\n",
    "a, b = p.V_dumms[:2]\n",
    "i, j = p.O_dumms[:2]"
   ]
  },
  {
   "cell_type": "code",
   "execution_count": 3,
   "metadata": {},
   "outputs": [],
   "source": [
    "p,q,r,s = dr.all_orb_dumms[:4]"
   ]
  },
  {
   "cell_type": "markdown",
   "metadata": {},
   "source": [
    "## Define Hamiltonian\n",
    "\n",
    "Most drudge classes (not all) come with an inbuilt general Hamiltonian; but we can also define any specific Hamiltonian."
   ]
  },
  {
   "cell_type": "markdown",
   "metadata": {},
   "source": [
    "For defining our new Hamiltonian, we first need to define the matrix elements / integrals"
   ]
  },
  {
   "cell_type": "code",
   "execution_count": 4,
   "metadata": {},
   "outputs": [],
   "source": [
    "h = IndexedBase('h')\n",
    "v = IndexedBase('v')"
   ]
  },
  {
   "cell_type": "markdown",
   "metadata": {},
   "source": [
    "We know that the 1-electron integral will be symmetric (if real) and the 2-electron integral has a 4-fold symmetry"
   ]
  },
  {
   "cell_type": "code",
   "execution_count": 5,
   "metadata": {},
   "outputs": [
    {
     "data": {
      "text/plain": [
       "<drudge.canonpy.Group at 0x7fcb9c4ee678>"
      ]
     },
     "execution_count": 5,
     "metadata": {},
     "output_type": "execute_result"
    }
   ],
   "source": [
    "dr.set_symm(h,\n",
    "    Perm([1,0],IDENT),\n",
    "    valence=2\n",
    ")"
   ]
  },
  {
   "cell_type": "code",
   "execution_count": 6,
   "metadata": {},
   "outputs": [
    {
     "data": {
      "text/plain": [
       "<drudge.canonpy.Group at 0x7fcb9c4ee6a8>"
      ]
     },
     "execution_count": 6,
     "metadata": {},
     "output_type": "execute_result"
    }
   ],
   "source": [
    "dr.set_symm(v,\n",
    "    Perm([1,0,2,3],NEG),\n",
    "    Perm([0,1,3,2],NEG),\n",
    "    Perm([2,3,0,1],IDENT),\n",
    "    valence=4\n",
    ")"
   ]
  },
  {
   "cell_type": "markdown",
   "metadata": {},
   "source": [
    "Now the Hamiltonian - we use an einstein summation function `einst`"
   ]
  },
  {
   "cell_type": "code",
   "execution_count": 7,
   "metadata": {},
   "outputs": [],
   "source": [
    "ham_new = dr.einst(\n",
    "    h[p,q]*c_dag[p]*c_[q]\n",
    "    + v[p,q,r,s]*c_dag[p]*c_dag[q]*c_[s]*c_[r]/4\n",
    ")"
   ]
  },
  {
   "cell_type": "code",
   "execution_count": 8,
   "metadata": {},
   "outputs": [
    {
     "data": {
      "text/latex": [
       "$$\\sum_{a \\in V} \\sum_{b \\in V} \\sum_{c \\in V} \\sum_{d \\in V} \\frac{1}{4} v_{a,b,c,d}    c^{\\dagger}_{a} c^{\\dagger}_{b} c^{}_{d} c^{}_{c}  + \\sum_{i \\in O} \\sum_{j \\in O} \\sum_{a \\in V} \\sum_{b \\in V} \\frac{1}{4} v_{i,j,a,b}    c^{\\dagger}_{a} c^{\\dagger}_{b} c^{}_{j} c^{}_{i}  + \\sum_{i \\in O} \\sum_{a \\in V} h_{i,a}    c^{\\dagger}_{a} c^{}_{i}  + \\sum_{i \\in O} \\sum_{j \\in O} \\frac{1}{2} v_{i,j,i,j}  - \\sum_{i \\in O} \\sum_{a \\in V} \\sum_{b \\in V} \\sum_{c \\in V}  \\frac{1}{2} v_{i,a,b,c}    c^{\\dagger}_{a} c^{}_{c} c^{}_{b} c^{\\dagger}_{i}  + \\sum_{i \\in O} \\sum_{j \\in O} \\sum_{a \\in V} \\frac{1}{2} v_{i,j,j,a}    c^{}_{i} c^{\\dagger}_{a}  + \\sum_{a \\in V} \\sum_{b \\in V} h_{a,b}    c^{\\dagger}_{a} c^{}_{b} - \\sum_{i \\in O} \\sum_{a \\in V} h_{i,a}    c^{}_{a} c^{\\dagger}_{i} - \\sum_{i \\in O} \\sum_{j \\in O} h_{i,j}    c^{}_{j} c^{\\dagger}_{i} - \\sum_{i \\in O} \\sum_{j \\in O} \\sum_{k \\in O} v_{i,k,j,k}    c^{}_{j} c^{\\dagger}_{i}  + \\sum_{i \\in O} h_{i,i}   + \\sum_{i \\in O} \\sum_{j \\in O} \\sum_{a \\in V} \\sum_{b \\in V} v_{i,a,j,b}    c^{\\dagger}_{a} c^{}_{j} c^{}_{b} c^{\\dagger}_{i}  + \\sum_{i \\in O} \\sum_{j \\in O} \\sum_{a \\in V} v_{i,j,j,a}    c^{}_{a} c^{\\dagger}_{i} - \\sum_{i \\in O} \\sum_{j \\in O} \\sum_{k \\in O} \\sum_{a \\in V}  \\frac{1}{2} v_{j,k,i,a}    c^{\\dagger}_{a} c^{}_{k} c^{}_{j} c^{\\dagger}_{i}  + \\sum_{i \\in O} \\sum_{j \\in O} \\sum_{a \\in V} \\sum_{b \\in V} \\frac{1}{4} v_{i,j,a,b}    c^{}_{b} c^{}_{a} c^{\\dagger}_{i} c^{\\dagger}_{j} - \\sum_{i \\in O} \\sum_{j \\in O} \\sum_{k \\in O} \\sum_{a \\in V}  \\frac{1}{2} v_{i,j,k,a}    c^{}_{k} c^{}_{a} c^{\\dagger}_{i} c^{\\dagger}_{j}  + \\sum_{i \\in O} \\sum_{j \\in O} \\sum_{k \\in O} \\sum_{l \\in O} \\frac{1}{4} v_{i,j,k,l}    c^{}_{l} c^{}_{k} c^{\\dagger}_{i} c^{\\dagger}_{j} - \\sum_{i \\in O} \\sum_{a \\in V} \\sum_{b \\in V} \\sum_{c \\in V}  \\frac{1}{2} v_{i,c,a,b}    c^{\\dagger}_{a} c^{\\dagger}_{b} c^{}_{i} c^{}_{c}  + \\sum_{i \\in O} \\sum_{a \\in V} \\sum_{b \\in V} v_{i,a,i,b}    c^{\\dagger}_{a} c^{}_{b} - \\sum_{i \\in O} \\sum_{j \\in O} \\sum_{a \\in V}  \\frac{1}{2} v_{i,j,j,a}    c^{\\dagger}_{a} c^{}_{i}$$"
      ],
      "text/plain": [
       "<IPython.core.display.Math object>"
      ]
     },
     "execution_count": 8,
     "metadata": {},
     "output_type": "execute_result"
    }
   ],
   "source": [
    "ham_new.simplify().merge().display()"
   ]
  },
  {
   "cell_type": "markdown",
   "metadata": {},
   "source": [
    "We can also use the inbuilt Hamiltonian"
   ]
  },
  {
   "cell_type": "code",
   "execution_count": 9,
   "metadata": {},
   "outputs": [
    {
     "data": {
      "text/latex": [
       "$$\\sum_{a \\in V} \\sum_{b \\in V} \\sum_{c \\in V} \\sum_{d \\in V} \\frac{1}{4} u_{a,b,c,d}    c^{\\dagger}_{a} c^{\\dagger}_{b} c^{}_{d} c^{}_{c}  + \\sum_{i \\in O} \\sum_{j \\in O} \\sum_{a \\in V} \\sum_{b \\in V} \\frac{1}{4} u_{a,b,i,j}    c^{\\dagger}_{a} c^{\\dagger}_{b} c^{}_{j} c^{}_{i}  + \\sum_{i \\in O} \\sum_{a \\in V} f_{a,i}    c^{\\dagger}_{a} c^{}_{i}  + \\sum_{i \\in O} \\sum_{j \\in O} \\sum_{a \\in V} \\sum_{b \\in V} \\frac{1}{4} u_{i,j,a,b}    c^{\\dagger}_{i} c^{\\dagger}_{j} c^{}_{b} c^{}_{a} - \\sum_{i \\in O} \\sum_{j \\in O} \\sum_{k \\in O} \\sum_{a \\in V}  \\frac{1}{2} u_{i,j,k,a}    c^{}_{k} c^{\\dagger}_{i} c^{\\dagger}_{j} c^{}_{a}  + \\sum_{a \\in V} \\sum_{b \\in V} f_{a,b}    c^{\\dagger}_{a} c^{}_{b}  + \\sum_{i \\in O} \\sum_{a \\in V} f_{i,a}    c^{\\dagger}_{i} c^{}_{a} - \\sum_{i \\in O} \\sum_{j \\in O} f_{i,j}    c^{}_{j} c^{\\dagger}_{i} - \\sum_{i \\in O} \\sum_{j \\in O} \\sum_{k \\in O} \\sum_{a \\in V}  \\frac{1}{2} u_{i,a,j,k}    c^{\\dagger}_{a} c^{}_{k} c^{}_{j} c^{\\dagger}_{i}  + \\sum_{i \\in O} \\sum_{j \\in O} \\sum_{k \\in O} \\sum_{l \\in O} \\frac{1}{4} u_{i,j,k,l}    c^{}_{l} c^{}_{k} c^{\\dagger}_{i} c^{\\dagger}_{j} - \\sum_{i \\in O} \\sum_{a \\in V} \\sum_{b \\in V} \\sum_{c \\in V}  \\frac{1}{2} u_{a,b,i,c}    c^{\\dagger}_{a} c^{\\dagger}_{b} c^{}_{i} c^{}_{c} - \\sum_{i \\in O} \\sum_{a \\in V} \\sum_{b \\in V} \\sum_{c \\in V}  \\frac{1}{2} u_{i,a,b,c}    c^{\\dagger}_{a} c^{\\dagger}_{i} c^{}_{c} c^{}_{b} - \\sum_{i \\in O} \\sum_{j \\in O} \\sum_{a \\in V} \\sum_{b \\in V} u_{i,a,j,b}    c^{\\dagger}_{a} c^{}_{j} c^{\\dagger}_{i} c^{}_{b}$$"
      ],
      "text/plain": [
       "<IPython.core.display.Math object>"
      ]
     },
     "execution_count": 9,
     "metadata": {},
     "output_type": "execute_result"
    }
   ],
   "source": [
    "ham_inbuilt = dr.ham\n",
    "ham_inbuilt.simplify().display()"
   ]
  },
  {
   "cell_type": "markdown",
   "metadata": {},
   "source": [
    "## Cluster excitation operator\n",
    "\n",
    "Here, we by using the Einstein summation convention tensor creator, we can just define the cluster operator in a way very similar to how we would writen them down on paper."
   ]
  },
  {
   "cell_type": "code",
   "execution_count": 10,
   "metadata": {},
   "outputs": [],
   "source": [
    "t = IndexedBase('t')\n",
    "\n",
    "clusters = dr.einst(\n",
    "    t[a, b, i, j] * c_dag[a] * c_dag[b] * c_[j] * c_[i] / 4\n",
    ")"
   ]
  },
  {
   "cell_type": "markdown",
   "metadata": {},
   "source": [
    "We can have a peek at the cluster operator."
   ]
  },
  {
   "cell_type": "code",
   "execution_count": 11,
   "metadata": {},
   "outputs": [
    {
     "data": {
      "text/latex": [
       "$$\\sum_{i \\in O} \\sum_{j \\in O} \\sum_{a \\in V} \\sum_{b \\in V} \\frac{1}{4} t_{a,b,i,j}    c^{\\dagger}_{a} c^{\\dagger}_{b} c^{}_{j} c^{}_{i}$$"
      ],
      "text/plain": [
       "<IPython.core.display.Math object>"
      ]
     },
     "execution_count": 11,
     "metadata": {},
     "output_type": "execute_result"
    }
   ],
   "source": [
    "clusters.display()"
   ]
  },
  {
   "cell_type": "markdown",
   "metadata": {},
   "source": [
    "Now we need tell the system about the symmetry on $t^2$, so that it can be used in simplification."
   ]
  },
  {
   "cell_type": "markdown",
   "metadata": {
    "collapsed": true
   },
   "source": [
    "## Similarity transform of the Hamiltonian\n",
    "\n",
    "Here we can use a loop to nest the commutation conveniently.  And IPython magic can be used to time the operation.  Note that after the simplification, we explicitly redistribute the terms in the transformed Hamiltonian for better parallel performance in later operations.  Note that `drudge` does not automatically cache the result of tensor computations.  The `cache` method should be called explicitly when a tensor is going to be used multiple times."
   ]
  },
  {
   "cell_type": "code",
   "execution_count": 12,
   "metadata": {},
   "outputs": [
    {
     "name": "stdout",
     "output_type": "stream",
     "text": [
      "CPU times: user 276 ms, sys: 53.2 ms, total: 329 ms\n",
      "Wall time: 33.3 s\n"
     ]
    }
   ],
   "source": [
    "%%time\n",
    "\n",
    "curr = dr.ham\n",
    "h_bar = dr.ham\n",
    "for order in range(0, 4):\n",
    "    curr = (curr | clusters).simplify() / (order + 1)\n",
    "    curr.cache()\n",
    "    h_bar += curr\n",
    "h_bar.repartition(cache=True)"
   ]
  },
  {
   "cell_type": "markdown",
   "metadata": {
    "collapsed": true
   },
   "source": [
    "The transformed Hamiltonian can be very complex.  Instead of reading its terms, we can just have a peek by get a count of the number of terms it contains."
   ]
  },
  {
   "cell_type": "code",
   "execution_count": 13,
   "metadata": {},
   "outputs": [
    {
     "data": {
      "text/plain": [
       "232"
      ]
     },
     "execution_count": 13,
     "metadata": {},
     "output_type": "execute_result"
    }
   ],
   "source": [
    "h_bar.n_terms"
   ]
  },
  {
   "cell_type": "markdown",
   "metadata": {},
   "source": [
    "## Working equation derivation\n",
    "\n",
    "With the similarity transformed Hamiltonian, we are now ready to derive the actual working equations.  First, the energy equation can be derived by taking the vacuum expectation value of the transformed Hamiltonian."
   ]
  },
  {
   "cell_type": "code",
   "execution_count": 14,
   "metadata": {},
   "outputs": [],
   "source": [
    "en_eqn = h_bar.eval_fermi_vev().simplify()"
   ]
  },
  {
   "cell_type": "markdown",
   "metadata": {},
   "source": [
    "We can have a look at its contents to see if it is what we would expect."
   ]
  },
  {
   "cell_type": "code",
   "execution_count": 15,
   "metadata": {},
   "outputs": [
    {
     "data": {
      "text/latex": [
       "$$\\sum_{i \\in O} \\sum_{j \\in O} \\sum_{a \\in V} \\sum_{b \\in V} \\frac{1}{4} t_{a,b,i,j}  u_{i,j,a,b} $$"
      ],
      "text/plain": [
       "<IPython.core.display.Math object>"
      ]
     },
     "execution_count": 15,
     "metadata": {},
     "output_type": "execute_result"
    }
   ],
   "source": [
    "en_eqn.display()"
   ]
  },
  {
   "cell_type": "markdown",
   "metadata": {},
   "source": [
    "The working equation for the doubles amplitude can be done in the same way, just it can be slower."
   ]
  },
  {
   "cell_type": "code",
   "execution_count": 16,
   "metadata": {},
   "outputs": [
    {
     "name": "stdout",
     "output_type": "stream",
     "text": [
      "CPU times: user 76 ms, sys: 15.8 ms, total: 91.8 ms\n",
      "Wall time: 2min 29s\n"
     ]
    }
   ],
   "source": [
    "%%time\n",
    "\n",
    "proj = c_dag[i] * c_dag[j] * c_[b] * c_[a]\n",
    "t2_eqn = (proj * h_bar).eval_fermi_vev().simplify()"
   ]
  },
  {
   "cell_type": "markdown",
   "metadata": {},
   "source": [
    "Since the equation can be slightly complex, we can vaguely sort the terms in increasing complexity before display them."
   ]
  },
  {
   "cell_type": "code",
   "execution_count": 17,
   "metadata": {},
   "outputs": [
    {
     "data": {
      "text/latex": [
       "$$u_{a,b,i,j}   + \\sum_{k \\in O} \\frac{1}{4} f_{k,i}  t_{a,b,j,k}   + \\sum_{k \\in O} \\frac{1}{4} f_{k,i}  t_{b,a,k,j}   + \\sum_{k \\in O} \\frac{1}{4} f_{k,j}  t_{a,b,k,i}   + \\sum_{k \\in O} \\frac{1}{4} f_{k,j}  t_{b,a,i,k}  - \\sum_{k \\in O}  \\frac{1}{4} f_{k,i}  t_{a,b,k,j}  - \\sum_{k \\in O}  \\frac{1}{4} f_{k,i}  t_{b,a,j,k}  - \\sum_{k \\in O}  \\frac{1}{4} f_{k,j}  t_{a,b,i,k}  - \\sum_{k \\in O}  \\frac{1}{4} f_{k,j}  t_{b,a,k,i}   + \\sum_{c \\in V} \\frac{1}{4} f_{a,c}  t_{b,c,j,i}   + \\sum_{c \\in V} \\frac{1}{4} f_{a,c}  t_{c,b,i,j}   + \\sum_{c \\in V} \\frac{1}{4} f_{b,c}  t_{a,c,i,j}   + \\sum_{c \\in V} \\frac{1}{4} f_{b,c}  t_{c,a,j,i}  - \\sum_{c \\in V}  \\frac{1}{4} f_{a,c}  t_{b,c,i,j}  - \\sum_{c \\in V}  \\frac{1}{4} f_{a,c}  t_{c,b,j,i}  - \\sum_{c \\in V}  \\frac{1}{4} f_{b,c}  t_{a,c,j,i}  - \\sum_{c \\in V}  \\frac{1}{4} f_{b,c}  t_{c,a,i,j}   + \\sum_{k \\in O} \\sum_{l \\in O} \\frac{1}{4} t_{a,b,k,l}  u_{k,l,i,j}  - \\sum_{k \\in O} \\sum_{l \\in O}  \\frac{1}{4} t_{b,a,k,l}  u_{k,l,i,j}   + \\sum_{k \\in O} \\sum_{c \\in V} \\frac{1}{4} t_{a,c,k,i}  u_{b,k,c,j}   + \\sum_{k \\in O} \\sum_{c \\in V} \\frac{1}{4} t_{a,c,k,j}  u_{b,k,i,c}   + \\sum_{k \\in O} \\sum_{c \\in V} \\frac{1}{4} t_{b,c,i,k}  u_{a,k,c,j}   + \\sum_{k \\in O} \\sum_{c \\in V} \\frac{1}{4} t_{b,c,j,k}  u_{a,k,i,c}   + \\sum_{k \\in O} \\sum_{c \\in V} \\frac{1}{4} t_{c,a,i,k}  u_{b,k,c,j}   + \\sum_{k \\in O} \\sum_{c \\in V} \\frac{1}{4} t_{c,a,j,k}  u_{b,k,i,c}   + \\sum_{k \\in O} \\sum_{c \\in V} \\frac{1}{4} t_{c,b,k,i}  u_{a,k,c,j}   + \\sum_{k \\in O} \\sum_{c \\in V} \\frac{1}{4} t_{c,b,k,j}  u_{a,k,i,c}  - \\sum_{k \\in O} \\sum_{c \\in V}  \\frac{1}{4} t_{a,c,i,k}  u_{b,k,c,j}  - \\sum_{k \\in O} \\sum_{c \\in V}  \\frac{1}{4} t_{a,c,j,k}  u_{b,k,i,c}  - \\sum_{k \\in O} \\sum_{c \\in V}  \\frac{1}{4} t_{b,c,k,i}  u_{a,k,c,j}  - \\sum_{k \\in O} \\sum_{c \\in V}  \\frac{1}{4} t_{b,c,k,j}  u_{a,k,i,c}  - \\sum_{k \\in O} \\sum_{c \\in V}  \\frac{1}{4} t_{c,a,k,i}  u_{b,k,c,j}  - \\sum_{k \\in O} \\sum_{c \\in V}  \\frac{1}{4} t_{c,a,k,j}  u_{b,k,i,c}  - \\sum_{k \\in O} \\sum_{c \\in V}  \\frac{1}{4} t_{c,b,i,k}  u_{a,k,c,j}  - \\sum_{k \\in O} \\sum_{c \\in V}  \\frac{1}{4} t_{c,b,j,k}  u_{a,k,i,c}   + \\sum_{c \\in V} \\sum_{d \\in V} \\frac{1}{4} t_{c,d,i,j}  u_{a,b,c,d}  - \\sum_{c \\in V} \\sum_{d \\in V}  \\frac{1}{4} t_{c,d,j,i}  u_{a,b,c,d}   + \\sum_{k \\in O} \\sum_{l \\in O} \\sum_{c \\in V} \\sum_{d \\in V} \\frac{1}{16} t_{a,b,i,k}  t_{c,d,l,j}  u_{k,l,c,d}   + \\sum_{k \\in O} \\sum_{l \\in O} \\sum_{c \\in V} \\sum_{d \\in V} \\frac{1}{16} t_{a,b,j,k}  t_{c,d,i,l}  u_{k,l,c,d}   + \\sum_{k \\in O} \\sum_{l \\in O} \\sum_{c \\in V} \\sum_{d \\in V} \\frac{1}{16} t_{a,b,k,i}  t_{c,d,j,l}  u_{k,l,c,d}   + \\sum_{k \\in O} \\sum_{l \\in O} \\sum_{c \\in V} \\sum_{d \\in V} \\frac{1}{16} t_{a,b,k,j}  t_{c,d,l,i}  u_{k,l,c,d}   + \\sum_{k \\in O} \\sum_{l \\in O} \\sum_{c \\in V} \\sum_{d \\in V} \\frac{1}{16} t_{a,b,k,l}  t_{c,d,i,j}  u_{k,l,c,d}   + \\sum_{k \\in O} \\sum_{l \\in O} \\sum_{c \\in V} \\sum_{d \\in V} \\frac{1}{16} t_{a,c,i,j}  t_{d,b,k,l}  u_{k,l,c,d}   + \\sum_{k \\in O} \\sum_{l \\in O} \\sum_{c \\in V} \\sum_{d \\in V} \\frac{1}{16} t_{a,c,i,k}  t_{b,d,j,l}  u_{k,l,c,d}   + \\sum_{k \\in O} \\sum_{l \\in O} \\sum_{c \\in V} \\sum_{d \\in V} \\frac{1}{16} t_{a,c,i,k}  t_{d,b,l,j}  u_{k,l,c,d}   + \\sum_{k \\in O} \\sum_{l \\in O} \\sum_{c \\in V} \\sum_{d \\in V} \\frac{1}{16} t_{a,c,j,i}  t_{b,d,k,l}  u_{k,l,c,d}   + \\sum_{k \\in O} \\sum_{l \\in O} \\sum_{c \\in V} \\sum_{d \\in V} \\frac{1}{16} t_{a,c,j,k}  t_{b,d,l,i}  u_{k,l,c,d}   + \\sum_{k \\in O} \\sum_{l \\in O} \\sum_{c \\in V} \\sum_{d \\in V} \\frac{1}{16} t_{a,c,j,k}  t_{d,b,i,l}  u_{k,l,c,d}   + \\sum_{k \\in O} \\sum_{l \\in O} \\sum_{c \\in V} \\sum_{d \\in V} \\frac{1}{16} t_{a,c,k,i}  t_{b,d,l,j}  u_{k,l,c,d}   + \\sum_{k \\in O} \\sum_{l \\in O} \\sum_{c \\in V} \\sum_{d \\in V} \\frac{1}{16} t_{a,c,k,i}  t_{d,b,j,l}  u_{k,l,c,d}   + \\sum_{k \\in O} \\sum_{l \\in O} \\sum_{c \\in V} \\sum_{d \\in V} \\frac{1}{16} t_{a,c,k,j}  t_{b,d,i,l}  u_{k,l,c,d}   + \\sum_{k \\in O} \\sum_{l \\in O} \\sum_{c \\in V} \\sum_{d \\in V} \\frac{1}{16} t_{a,c,k,j}  t_{d,b,l,i}  u_{k,l,c,d}   + \\sum_{k \\in O} \\sum_{l \\in O} \\sum_{c \\in V} \\sum_{d \\in V} \\frac{1}{16} t_{a,c,k,l}  t_{b,d,j,i}  u_{k,l,c,d}   + \\sum_{k \\in O} \\sum_{l \\in O} \\sum_{c \\in V} \\sum_{d \\in V} \\frac{1}{16} t_{a,c,k,l}  t_{d,b,i,j}  u_{k,l,c,d}   + \\sum_{k \\in O} \\sum_{l \\in O} \\sum_{c \\in V} \\sum_{d \\in V} \\frac{1}{16} t_{b,a,i,k}  t_{c,d,j,l}  u_{k,l,c,d}   + \\sum_{k \\in O} \\sum_{l \\in O} \\sum_{c \\in V} \\sum_{d \\in V} \\frac{1}{16} t_{b,a,j,k}  t_{c,d,l,i}  u_{k,l,c,d}   + \\sum_{k \\in O} \\sum_{l \\in O} \\sum_{c \\in V} \\sum_{d \\in V} \\frac{1}{16} t_{b,a,k,i}  t_{c,d,l,j}  u_{k,l,c,d}   + \\sum_{k \\in O} \\sum_{l \\in O} \\sum_{c \\in V} \\sum_{d \\in V} \\frac{1}{16} t_{b,a,k,j}  t_{c,d,i,l}  u_{k,l,c,d}   + \\sum_{k \\in O} \\sum_{l \\in O} \\sum_{c \\in V} \\sum_{d \\in V} \\frac{1}{16} t_{b,a,k,l}  t_{c,d,j,i}  u_{k,l,c,d}   + \\sum_{k \\in O} \\sum_{l \\in O} \\sum_{c \\in V} \\sum_{d \\in V} \\frac{1}{16} t_{b,d,i,j}  t_{c,a,k,l}  u_{k,l,c,d}   + \\sum_{k \\in O} \\sum_{l \\in O} \\sum_{c \\in V} \\sum_{d \\in V} \\frac{1}{16} t_{b,d,i,l}  t_{c,a,j,k}  u_{k,l,c,d}   + \\sum_{k \\in O} \\sum_{l \\in O} \\sum_{c \\in V} \\sum_{d \\in V} \\frac{1}{16} t_{b,d,j,l}  t_{c,a,k,i}  u_{k,l,c,d}   + \\sum_{k \\in O} \\sum_{l \\in O} \\sum_{c \\in V} \\sum_{d \\in V} \\frac{1}{16} t_{b,d,k,l}  t_{c,a,i,j}  u_{k,l,c,d}   + \\sum_{k \\in O} \\sum_{l \\in O} \\sum_{c \\in V} \\sum_{d \\in V} \\frac{1}{16} t_{b,d,l,i}  t_{c,a,k,j}  u_{k,l,c,d}   + \\sum_{k \\in O} \\sum_{l \\in O} \\sum_{c \\in V} \\sum_{d \\in V} \\frac{1}{16} t_{b,d,l,j}  t_{c,a,i,k}  u_{k,l,c,d}   + \\sum_{k \\in O} \\sum_{l \\in O} \\sum_{c \\in V} \\sum_{d \\in V} \\frac{1}{16} t_{c,a,i,k}  t_{d,b,j,l}  u_{k,l,c,d}   + \\sum_{k \\in O} \\sum_{l \\in O} \\sum_{c \\in V} \\sum_{d \\in V} \\frac{1}{16} t_{c,a,j,i}  t_{d,b,k,l}  u_{k,l,c,d}   + \\sum_{k \\in O} \\sum_{l \\in O} \\sum_{c \\in V} \\sum_{d \\in V} \\frac{1}{16} t_{c,a,j,k}  t_{d,b,l,i}  u_{k,l,c,d}   + \\sum_{k \\in O} \\sum_{l \\in O} \\sum_{c \\in V} \\sum_{d \\in V} \\frac{1}{16} t_{c,a,k,i}  t_{d,b,l,j}  u_{k,l,c,d}   + \\sum_{k \\in O} \\sum_{l \\in O} \\sum_{c \\in V} \\sum_{d \\in V} \\frac{1}{16} t_{c,a,k,j}  t_{d,b,i,l}  u_{k,l,c,d}   + \\sum_{k \\in O} \\sum_{l \\in O} \\sum_{c \\in V} \\sum_{d \\in V} \\frac{1}{16} t_{c,a,k,l}  t_{d,b,j,i}  u_{k,l,c,d}  - \\sum_{k \\in O} \\sum_{l \\in O} \\sum_{c \\in V} \\sum_{d \\in V}  \\frac{1}{16} t_{a,b,i,k}  t_{c,d,j,l}  u_{k,l,c,d}  - \\sum_{k \\in O} \\sum_{l \\in O} \\sum_{c \\in V} \\sum_{d \\in V}  \\frac{1}{16} t_{a,b,j,k}  t_{c,d,l,i}  u_{k,l,c,d}  - \\sum_{k \\in O} \\sum_{l \\in O} \\sum_{c \\in V} \\sum_{d \\in V}  \\frac{1}{16} t_{a,b,k,i}  t_{c,d,l,j}  u_{k,l,c,d}  - \\sum_{k \\in O} \\sum_{l \\in O} \\sum_{c \\in V} \\sum_{d \\in V}  \\frac{1}{16} t_{a,b,k,j}  t_{c,d,i,l}  u_{k,l,c,d}  - \\sum_{k \\in O} \\sum_{l \\in O} \\sum_{c \\in V} \\sum_{d \\in V}  \\frac{1}{16} t_{a,b,k,l}  t_{c,d,j,i}  u_{k,l,c,d}  - \\sum_{k \\in O} \\sum_{l \\in O} \\sum_{c \\in V} \\sum_{d \\in V}  \\frac{1}{16} t_{a,c,i,j}  t_{b,d,k,l}  u_{k,l,c,d}  - \\sum_{k \\in O} \\sum_{l \\in O} \\sum_{c \\in V} \\sum_{d \\in V}  \\frac{1}{16} t_{a,c,i,k}  t_{b,d,l,j}  u_{k,l,c,d}  - \\sum_{k \\in O} \\sum_{l \\in O} \\sum_{c \\in V} \\sum_{d \\in V}  \\frac{1}{16} t_{a,c,i,k}  t_{d,b,j,l}  u_{k,l,c,d}  - \\sum_{k \\in O} \\sum_{l \\in O} \\sum_{c \\in V} \\sum_{d \\in V}  \\frac{1}{16} t_{a,c,j,i}  t_{d,b,k,l}  u_{k,l,c,d}  - \\sum_{k \\in O} \\sum_{l \\in O} \\sum_{c \\in V} \\sum_{d \\in V}  \\frac{1}{16} t_{a,c,j,k}  t_{b,d,i,l}  u_{k,l,c,d}  - \\sum_{k \\in O} \\sum_{l \\in O} \\sum_{c \\in V} \\sum_{d \\in V}  \\frac{1}{16} t_{a,c,j,k}  t_{d,b,l,i}  u_{k,l,c,d}  - \\sum_{k \\in O} \\sum_{l \\in O} \\sum_{c \\in V} \\sum_{d \\in V}  \\frac{1}{16} t_{a,c,k,i}  t_{b,d,j,l}  u_{k,l,c,d}  - \\sum_{k \\in O} \\sum_{l \\in O} \\sum_{c \\in V} \\sum_{d \\in V}  \\frac{1}{16} t_{a,c,k,i}  t_{d,b,l,j}  u_{k,l,c,d}  - \\sum_{k \\in O} \\sum_{l \\in O} \\sum_{c \\in V} \\sum_{d \\in V}  \\frac{1}{16} t_{a,c,k,j}  t_{b,d,l,i}  u_{k,l,c,d}  - \\sum_{k \\in O} \\sum_{l \\in O} \\sum_{c \\in V} \\sum_{d \\in V}  \\frac{1}{16} t_{a,c,k,j}  t_{d,b,i,l}  u_{k,l,c,d}  - \\sum_{k \\in O} \\sum_{l \\in O} \\sum_{c \\in V} \\sum_{d \\in V}  \\frac{1}{16} t_{a,c,k,l}  t_{b,d,i,j}  u_{k,l,c,d}  - \\sum_{k \\in O} \\sum_{l \\in O} \\sum_{c \\in V} \\sum_{d \\in V}  \\frac{1}{16} t_{a,c,k,l}  t_{d,b,j,i}  u_{k,l,c,d}  - \\sum_{k \\in O} \\sum_{l \\in O} \\sum_{c \\in V} \\sum_{d \\in V}  \\frac{1}{16} t_{b,a,i,k}  t_{c,d,l,j}  u_{k,l,c,d}  - \\sum_{k \\in O} \\sum_{l \\in O} \\sum_{c \\in V} \\sum_{d \\in V}  \\frac{1}{16} t_{b,a,j,k}  t_{c,d,i,l}  u_{k,l,c,d}  - \\sum_{k \\in O} \\sum_{l \\in O} \\sum_{c \\in V} \\sum_{d \\in V}  \\frac{1}{16} t_{b,a,k,i}  t_{c,d,j,l}  u_{k,l,c,d}  - \\sum_{k \\in O} \\sum_{l \\in O} \\sum_{c \\in V} \\sum_{d \\in V}  \\frac{1}{16} t_{b,a,k,j}  t_{c,d,l,i}  u_{k,l,c,d}  - \\sum_{k \\in O} \\sum_{l \\in O} \\sum_{c \\in V} \\sum_{d \\in V}  \\frac{1}{16} t_{b,a,k,l}  t_{c,d,i,j}  u_{k,l,c,d}  - \\sum_{k \\in O} \\sum_{l \\in O} \\sum_{c \\in V} \\sum_{d \\in V}  \\frac{1}{16} t_{b,d,i,l}  t_{c,a,k,j}  u_{k,l,c,d}  - \\sum_{k \\in O} \\sum_{l \\in O} \\sum_{c \\in V} \\sum_{d \\in V}  \\frac{1}{16} t_{b,d,j,i}  t_{c,a,k,l}  u_{k,l,c,d}  - \\sum_{k \\in O} \\sum_{l \\in O} \\sum_{c \\in V} \\sum_{d \\in V}  \\frac{1}{16} t_{b,d,j,l}  t_{c,a,i,k}  u_{k,l,c,d}  - \\sum_{k \\in O} \\sum_{l \\in O} \\sum_{c \\in V} \\sum_{d \\in V}  \\frac{1}{16} t_{b,d,k,l}  t_{c,a,j,i}  u_{k,l,c,d}  - \\sum_{k \\in O} \\sum_{l \\in O} \\sum_{c \\in V} \\sum_{d \\in V}  \\frac{1}{16} t_{b,d,l,i}  t_{c,a,j,k}  u_{k,l,c,d}  - \\sum_{k \\in O} \\sum_{l \\in O} \\sum_{c \\in V} \\sum_{d \\in V}  \\frac{1}{16} t_{b,d,l,j}  t_{c,a,k,i}  u_{k,l,c,d}  - \\sum_{k \\in O} \\sum_{l \\in O} \\sum_{c \\in V} \\sum_{d \\in V}  \\frac{1}{16} t_{c,a,i,j}  t_{d,b,k,l}  u_{k,l,c,d}  - \\sum_{k \\in O} \\sum_{l \\in O} \\sum_{c \\in V} \\sum_{d \\in V}  \\frac{1}{16} t_{c,a,i,k}  t_{d,b,l,j}  u_{k,l,c,d}  - \\sum_{k \\in O} \\sum_{l \\in O} \\sum_{c \\in V} \\sum_{d \\in V}  \\frac{1}{16} t_{c,a,j,k}  t_{d,b,i,l}  u_{k,l,c,d}  - \\sum_{k \\in O} \\sum_{l \\in O} \\sum_{c \\in V} \\sum_{d \\in V}  \\frac{1}{16} t_{c,a,k,i}  t_{d,b,j,l}  u_{k,l,c,d}  - \\sum_{k \\in O} \\sum_{l \\in O} \\sum_{c \\in V} \\sum_{d \\in V}  \\frac{1}{16} t_{c,a,k,j}  t_{d,b,l,i}  u_{k,l,c,d}  - \\sum_{k \\in O} \\sum_{l \\in O} \\sum_{c \\in V} \\sum_{d \\in V}  \\frac{1}{16} t_{c,a,k,l}  t_{d,b,i,j}  u_{k,l,c,d} $$"
      ],
      "text/plain": [
       "<IPython.core.display.Math object>"
      ]
     },
     "execution_count": 17,
     "metadata": {},
     "output_type": "execute_result"
    }
   ],
   "source": [
    "t2_eqn = t2_eqn.sort()\n",
    "t2_eqn.display()"
   ]
  },
  {
   "cell_type": "markdown",
   "metadata": {},
   "source": [
    "## Working equation optimization\n",
    "\n",
    "Evaluating the working equation takes a lot of effort.  Outside ``drudge``, a sister package named ``gristmill`` is available for the optimization and automatic code generation for tensor contractions.  To start with, we need to put the working equations into a tensor definitions with external indices and import the ``gristmill`` package."
   ]
  },
  {
   "cell_type": "code",
   "execution_count": 18,
   "metadata": {},
   "outputs": [],
   "source": [
    "from gristmill import *\n",
    "\n",
    "r = IndexedBase('r')\n",
    "working_eqn = [\n",
    "    dr.define(Symbol('e'), en_eqn), \n",
    "    dr.define(r[a, b, i, j], t2_eqn)\n",
    "]"
   ]
  },
  {
   "cell_type": "markdown",
   "metadata": {},
   "source": [
    "We can have an estimation of the FLOP cost without any optimization."
   ]
  },
  {
   "cell_type": "code",
   "execution_count": 19,
   "metadata": {},
   "outputs": [
    {
     "data": {
      "image/png": "[encoded data removed]",
      "text/latex": [
       "$$204 no^{4} nv^{4}$$"
      ],
      "text/plain": [
       "      4   4\n",
       "204⋅no ⋅nv "
      ]
     },
     "execution_count": 19,
     "metadata": {},
     "output_type": "execute_result"
    }
   ],
   "source": [
    "orig_cost = get_flop_cost(working_eqn, leading=True)\n",
    "init_printing()\n",
    "orig_cost"
   ]
  },
  {
   "cell_type": "markdown",
   "metadata": {},
   "source": [
    "Since normally we have far more virtual orbitals than occupied orbitals, we have make the optimization based on this."
   ]
  },
  {
   "cell_type": "code",
   "execution_count": 21,
   "metadata": {},
   "outputs": [
    {
     "name": "stderr",
     "output_type": "stream",
     "text": [
      "/projects/guscus/apps-python/drudge/gristmill/build/lib.linux-x86_64-3.6/gristmill/optimize.py:1985: UserWarning: Internal deficiency: summation intermediate may not be fully canonicalized\n",
      "  'Internal deficiency: '\n"
     ]
    },
    {
     "name": "stdout",
     "output_type": "stream",
     "text": [
      "CPU times: user 3.7 s, sys: 260 ms, total: 3.96 s\n",
      "Wall time: 24.2 s\n"
     ]
    }
   ],
   "source": [
    "%%time\n",
    "p = dr.names\n",
    "eval_seq = optimize(\n",
    "    working_eqn, substs={p.nv: 50, p.no: 10}\n",
    ")"
   ]
  },
  {
   "cell_type": "markdown",
   "metadata": {},
   "source": [
    "Now we can have some inspection of the evaluation sequence."
   ]
  },
  {
   "cell_type": "code",
   "execution_count": 22,
   "metadata": {},
   "outputs": [
    {
     "data": {
      "image/png": "[encoded data removed]",
      "text/latex": [
       "$$41$$"
      ],
      "text/plain": [
       "41"
      ]
     },
     "execution_count": 22,
     "metadata": {},
     "output_type": "execute_result"
    }
   ],
   "source": [
    "len(eval_seq)"
   ]
  },
  {
   "cell_type": "code",
   "execution_count": 23,
   "metadata": {},
   "outputs": [
    {
     "data": {
      "image/png": "[encoded data removed]",
      "text/latex": [
       "$$6 no^{4} nv^{2} + 24 no^{3} nv^{3} + 2 no^{2} nv^{4}$$"
      ],
      "text/plain": [
       "    4   2        3   3       2   4\n",
       "6⋅no ⋅nv  + 24⋅no ⋅nv  + 2⋅no ⋅nv "
      ]
     },
     "execution_count": 23,
     "metadata": {},
     "output_type": "execute_result"
    }
   ],
   "source": [
    "opt_cost = get_flop_cost(eval_seq, leading=True)\n",
    "opt_cost"
   ]
  },
  {
   "cell_type": "markdown",
   "metadata": {},
   "source": [
    "Significant optimization can be seen.  Finally we can verify the correctness of the evaluation sequence.  This step can be very slow.  But it is adviced for mission-critical tasks."
   ]
  },
  {
   "cell_type": "code",
   "execution_count": null,
   "metadata": {},
   "outputs": [],
   "source": [
    "verify_eval_seq(eval_seq, working_eqn, simplify=True)"
   ]
  },
  {
   "cell_type": "markdown",
   "metadata": {
    "collapsed": true
   },
   "source": [
    "Finally, we have have a peek at the details of the intermediates."
   ]
  },
  {
   "cell_type": "code",
   "execution_count": 24,
   "metadata": {},
   "outputs": [
    {
     "data": {
      "text/latex": [
       "$$\\tau^{0}_{i,j,a,b} = \\sum_{k \\in O} f_{k,i}  t_{a,b,j,k} $$"
      ],
      "text/plain": [
       "<IPython.core.display.Math object>"
      ]
     },
     "metadata": {},
     "output_type": "display_data"
    },
    {
     "data": {
      "text/latex": [
       "$$\\tau^{1}_{i,j,a,b} = \\sum_{c \\in V} f_{a,c}  t_{b,c,i,j} $$"
      ],
      "text/plain": [
       "<IPython.core.display.Math object>"
      ]
     },
     "metadata": {},
     "output_type": "display_data"
    },
    {
     "data": {
      "text/latex": [
       "$$\\tau^{2}_{i,j,a,b} = \\sum_{k \\in O} \\sum_{c \\in V} t_{c,a,k,i}  u_{k,b,j,c} $$"
      ],
      "text/plain": [
       "<IPython.core.display.Math object>"
      ]
     },
     "metadata": {},
     "output_type": "display_data"
    },
    {
     "data": {
      "text/latex": [
       "$$\\tau^{3}_{i,j} = \\sum_{k \\in O} \\sum_{a \\in V} \\sum_{b \\in V} t_{a,b,k,i}  u_{k,j,b,a} $$"
      ],
      "text/plain": [
       "<IPython.core.display.Math object>"
      ]
     },
     "metadata": {},
     "output_type": "display_data"
    },
    {
     "data": {
      "text/latex": [
       "$$\\tau^{4}_{i,j,a,b} = \\sum_{k \\in O} \\tau^{3}_{j,k}  t_{a,b,k,i} $$"
      ],
      "text/plain": [
       "<IPython.core.display.Math object>"
      ]
     },
     "metadata": {},
     "output_type": "display_data"
    },
    {
     "data": {
      "text/latex": [
       "$$\\tau^{5}_{a,b} = \\sum_{i \\in O} \\sum_{j \\in O} \\sum_{c \\in V} t_{c,a,i,j}  u_{j,i,c,b} $$"
      ],
      "text/plain": [
       "<IPython.core.display.Math object>"
      ]
     },
     "metadata": {},
     "output_type": "display_data"
    },
    {
     "data": {
      "text/latex": [
       "$$\\tau^{6}_{i,j,a,b} = \\sum_{c \\in V} \\tau^{5}_{b,c}  t_{c,a,i,j} $$"
      ],
      "text/plain": [
       "<IPython.core.display.Math object>"
      ]
     },
     "metadata": {},
     "output_type": "display_data"
    },
    {
     "data": {
      "text/latex": [
       "$$\\tau^{7}_{i,j,k,l} = - \\sum_{a \\in V} \\sum_{b \\in V} t_{a,b,i,j}  u_{k,l,b,a} $$"
      ],
      "text/plain": [
       "<IPython.core.display.Math object>"
      ]
     },
     "metadata": {},
     "output_type": "display_data"
    },
    {
     "data": {
      "text/latex": [
       "$$\\tau^{8}_{i,j,a,b} = - \\sum_{k \\in O} \\sum_{l \\in O} t_{a,b,k,l}  \\tau^{7}_{i,j,l,k} $$"
      ],
      "text/plain": [
       "<IPython.core.display.Math object>"
      ]
     },
     "metadata": {},
     "output_type": "display_data"
    },
    {
     "data": {
      "text/latex": [
       "$$\\tau^{9}_{i,j,a,b} = \\sum_{k \\in O} \\sum_{c \\in V} t_{c,a,i,k}  u_{k,j,c,b} $$"
      ],
      "text/plain": [
       "<IPython.core.display.Math object>"
      ]
     },
     "metadata": {},
     "output_type": "display_data"
    },
    {
     "data": {
      "text/latex": [
       "$$\\tau^{10}_{i,j,a,b} = - \\sum_{k \\in O} \\sum_{c \\in V} t_{a,c,k,j}  \\tau^{9}_{i,k,b,c} $$"
      ],
      "text/plain": [
       "<IPython.core.display.Math object>"
      ]
     },
     "metadata": {},
     "output_type": "display_data"
    },
    {
     "data": {
      "text/latex": [
       "$$\\tau^{11}_{i,j,a,b} = - t_{a,b,i,j}   + t_{b,a,i,j}   + t_{a,b,j,i} $$"
      ],
      "text/plain": [
       "<IPython.core.display.Math object>"
      ]
     },
     "metadata": {},
     "output_type": "display_data"
    },
    {
     "data": {
      "text/latex": [
       "$$\\tau^{12}_{i,j,a,b} = \\sum_{k \\in O} \\sum_{c \\in V} t_{c,a,k,i}  u_{k,j,c,b} $$"
      ],
      "text/plain": [
       "<IPython.core.display.Math object>"
      ]
     },
     "metadata": {},
     "output_type": "display_data"
    },
    {
     "data": {
      "text/latex": [
       "$$\\tau^{13}_{i,j,a,b} = 4 u_{j,a,i,b}  - \\tau^{12}_{i,j,a,b} $$"
      ],
      "text/plain": [
       "<IPython.core.display.Math object>"
      ]
     },
     "metadata": {},
     "output_type": "display_data"
    },
    {
     "data": {
      "text/latex": [
       "$$\\tau^{14}_{i,j,a,b} = \\sum_{k \\in O} \\sum_{c \\in V} \\tau^{11}_{i,k,a,c}  \\tau^{13}_{j,k,b,c} $$"
      ],
      "text/plain": [
       "<IPython.core.display.Math object>"
      ]
     },
     "metadata": {},
     "output_type": "display_data"
    },
    {
     "data": {
      "text/latex": [
       "$$\\tau^{15}_{i,j,a,b} = \\sum_{k \\in O} \\sum_{c \\in V} t_{a,c,i,k}  u_{j,k,b,c} $$"
      ],
      "text/plain": [
       "<IPython.core.display.Math object>"
      ]
     },
     "metadata": {},
     "output_type": "display_data"
    },
    {
     "data": {
      "text/latex": [
       "$$\\tau^{16}_{i,j,a,b} = t_{a,b,i,j}   + t_{b,a,j,i} $$"
      ],
      "text/plain": [
       "<IPython.core.display.Math object>"
      ]
     },
     "metadata": {},
     "output_type": "display_data"
    },
    {
     "data": {
      "text/latex": [
       "$$\\tau^{17}_{i,j,a,b} = \\sum_{k \\in O} \\sum_{c \\in V} \\tau^{15}_{i,k,a,c}  \\tau^{16}_{k,j,b,c} $$"
      ],
      "text/plain": [
       "<IPython.core.display.Math object>"
      ]
     },
     "metadata": {},
     "output_type": "display_data"
    },
    {
     "data": {
      "text/latex": [
       "$$\\tau^{18}_{a,b} = \\sum_{i \\in O} \\sum_{j \\in O} \\sum_{c \\in V} t_{a,c,i,j}  u_{j,i,c,b} $$"
      ],
      "text/plain": [
       "<IPython.core.display.Math object>"
      ]
     },
     "metadata": {},
     "output_type": "display_data"
    },
    {
     "data": {
      "text/latex": [
       "$$\\tau^{19}_{a,b} = 4 f_{a,b}  - \\tau^{18}_{a,b} $$"
      ],
      "text/plain": [
       "<IPython.core.display.Math object>"
      ]
     },
     "metadata": {},
     "output_type": "display_data"
    },
    {
     "data": {
      "text/latex": [
       "$$\\tau^{20}_{i,j,a,b} = \\sum_{c \\in V} \\tau^{19}_{b,c}  t_{c,a,i,j} $$"
      ],
      "text/plain": [
       "<IPython.core.display.Math object>"
      ]
     },
     "metadata": {},
     "output_type": "display_data"
    },
    {
     "data": {
      "text/latex": [
       "$$\\tau^{21}_{i,j,a,b} = - t_{a,b,i,j}   + t_{b,a,i,j} $$"
      ],
      "text/plain": [
       "<IPython.core.display.Math object>"
      ]
     },
     "metadata": {},
     "output_type": "display_data"
    },
    {
     "data": {
      "text/latex": [
       "$$\\tau^{22}_{a,b} = \\sum_{i \\in O} \\sum_{j \\in O} \\sum_{c \\in V} \\tau^{21}_{j,i,b,c}  u_{i,j,c,a} $$"
      ],
      "text/plain": [
       "<IPython.core.display.Math object>"
      ]
     },
     "metadata": {},
     "output_type": "display_data"
    },
    {
     "data": {
      "text/latex": [
       "$$\\tau^{23}_{i,j,a,b} = - \\sum_{c \\in V} \\tau^{22}_{c,b}  t_{a,c,i,j} $$"
      ],
      "text/plain": [
       "<IPython.core.display.Math object>"
      ]
     },
     "metadata": {},
     "output_type": "display_data"
    },
    {
     "data": {
      "text/latex": [
       "$$\\tau^{24}_{i,j} = \\sum_{k \\in O} \\sum_{a \\in V} \\sum_{b \\in V} t_{a,b,i,k}  u_{k,j,b,a} $$"
      ],
      "text/plain": [
       "<IPython.core.display.Math object>"
      ]
     },
     "metadata": {},
     "output_type": "display_data"
    },
    {
     "data": {
      "text/latex": [
       "$$\\tau^{25}_{i,j} = 4 f_{j,i}   + \\tau^{24}_{i,j} $$"
      ],
      "text/plain": [
       "<IPython.core.display.Math object>"
      ]
     },
     "metadata": {},
     "output_type": "display_data"
    },
    {
     "data": {
      "text/latex": [
       "$$\\tau^{26}_{i,j,a,b} = \\sum_{k \\in O} \\tau^{25}_{j,k}  t_{a,b,k,i} $$"
      ],
      "text/plain": [
       "<IPython.core.display.Math object>"
      ]
     },
     "metadata": {},
     "output_type": "display_data"
    },
    {
     "data": {
      "text/latex": [
       "$$\\tau^{27}_{i,j,a,b} = t_{a,b,i,j}  - t_{a,b,j,i} $$"
      ],
      "text/plain": [
       "<IPython.core.display.Math object>"
      ]
     },
     "metadata": {},
     "output_type": "display_data"
    },
    {
     "data": {
      "text/latex": [
       "$$\\tau^{28}_{i,j} = \\sum_{k \\in O} \\sum_{a \\in V} \\sum_{b \\in V} \\tau^{27}_{k,j,b,a}  u_{k,i,a,b} $$"
      ],
      "text/plain": [
       "<IPython.core.display.Math object>"
      ]
     },
     "metadata": {},
     "output_type": "display_data"
    },
    {
     "data": {
      "text/latex": [
       "$$\\tau^{29}_{i,j,a,b} = - \\sum_{k \\in O} \\tau^{28}_{k,j}  t_{a,b,i,k} $$"
      ],
      "text/plain": [
       "<IPython.core.display.Math object>"
      ]
     },
     "metadata": {},
     "output_type": "display_data"
    },
    {
     "data": {
      "text/latex": [
       "$$\\tau^{30}_{i,j,a,b} = - 4 \\tau^{0}_{i,j,a,b}   + 4 \\tau^{1}_{i,j,a,b}   + 4 \\tau^{2}_{i,j,a,b}   + \\tau^{4}_{i,j,a,b}   + \\tau^{6}_{i,j,a,b}  - \\tau^{8}_{i,j,a,b}  - \\tau^{10}_{i,j,a,b}  - \\tau^{14}_{i,j,a,b}   + \\tau^{17}_{i,j,a,b}  - \\tau^{20}_{i,j,b,a}   + \\tau^{23}_{i,j,a,b}   + \\tau^{26}_{j,i,a,b}   + \\tau^{29}_{i,j,a,b} $$"
      ],
      "text/plain": [
       "<IPython.core.display.Math object>"
      ]
     },
     "metadata": {},
     "output_type": "display_data"
    },
    {
     "data": {
      "text/latex": [
       "$$\\tau^{31}_{i,j,a,b} = - \\sum_{k \\in O} \\sum_{l \\in O} t_{a,b,k,l}  u_{l,k,i,j} $$"
      ],
      "text/plain": [
       "<IPython.core.display.Math object>"
      ]
     },
     "metadata": {},
     "output_type": "display_data"
    },
    {
     "data": {
      "text/latex": [
       "$$\\tau^{32}_{i,j,a,b} = \\sum_{k \\in O} \\sum_{c \\in V} t_{a,c,i,k}  \\tau^{15}_{j,k,b,c} $$"
      ],
      "text/plain": [
       "<IPython.core.display.Math object>"
      ]
     },
     "metadata": {},
     "output_type": "display_data"
    },
    {
     "data": {
      "text/latex": [
       "$$\\tau^{33}_{i,j,a,b} = \\sum_{k \\in O} \\sum_{c \\in V} t_{a,c,k,i}  u_{k,j,c,b} $$"
      ],
      "text/plain": [
       "<IPython.core.display.Math object>"
      ]
     },
     "metadata": {},
     "output_type": "display_data"
    },
    {
     "data": {
      "text/latex": [
       "$$\\tau^{34}_{i,j,a,b} = \\sum_{k \\in O} \\sum_{c \\in V} t_{a,c,k,i}  \\tau^{33}_{j,k,b,c} $$"
      ],
      "text/plain": [
       "<IPython.core.display.Math object>"
      ]
     },
     "metadata": {},
     "output_type": "display_data"
    },
    {
     "data": {
      "text/latex": [
       "$$\\tau^{35}_{i,j,a,b} = \\sum_{k \\in O} \\sum_{c \\in V} t_{c,a,i,k}  \\tau^{9}_{j,k,b,c} $$"
      ],
      "text/plain": [
       "<IPython.core.display.Math object>"
      ]
     },
     "metadata": {},
     "output_type": "display_data"
    },
    {
     "data": {
      "text/latex": [
       "$$\\tau^{36}_{i,j,a,b} = \\sum_{k \\in O} \\sum_{c \\in V} t_{c,a,k,i}  \\tau^{12}_{j,k,b,c} $$"
      ],
      "text/plain": [
       "<IPython.core.display.Math object>"
      ]
     },
     "metadata": {},
     "output_type": "display_data"
    },
    {
     "data": {
      "text/latex": [
       "$$\\tau^{37}_{i,j,a,b} = 4 \\tau^{31}_{j,i,a,b}   + \\tau^{32}_{i,j,b,a}   + \\tau^{34}_{i,j,b,a}   + \\tau^{35}_{i,j,b,a}   + \\tau^{36}_{i,j,b,a} $$"
      ],
      "text/plain": [
       "<IPython.core.display.Math object>"
      ]
     },
     "metadata": {},
     "output_type": "display_data"
    },
    {
     "data": {
      "text/latex": [
       "$$\\tau^{38}_{i,j,a,b} = - \\sum_{c \\in V} \\sum_{d \\in V} t_{c,d,i,j}  u_{a,b,d,c} $$"
      ],
      "text/plain": [
       "<IPython.core.display.Math object>"
      ]
     },
     "metadata": {},
     "output_type": "display_data"
    },
    {
     "data": {
      "text/latex": [
       "$$e = \\sum_{i \\in O} \\sum_{j \\in O} \\sum_{a \\in V} \\sum_{b \\in V} \\frac{1}{4} t_{a,b,i,j}  u_{j,i,b,a} $$"
      ],
      "text/plain": [
       "<IPython.core.display.Math object>"
      ]
     },
     "metadata": {},
     "output_type": "display_data"
    },
    {
     "data": {
      "text/latex": [
       "$$r_{a,b,i,j} = u_{b,a,j,i}  -  \\frac{1}{16} \\tau^{30}_{i,j,a,b}   + \\frac{1}{16} \\tau^{30}_{i,j,b,a}   + \\frac{1}{16} \\tau^{30}_{j,i,a,b}  -  \\frac{1}{16} \\tau^{30}_{j,i,b,a}  -  \\frac{1}{16} \\tau^{37}_{i,j,a,b}   + \\frac{1}{16} \\tau^{37}_{i,j,b,a}  -  \\frac{1}{4} \\tau^{38}_{i,j,b,a}   + \\frac{1}{4} \\tau^{38}_{j,i,b,a} $$"
      ],
      "text/plain": [
       "<IPython.core.display.Math object>"
      ]
     },
     "metadata": {},
     "output_type": "display_data"
    }
   ],
   "source": [
    "for eqn in eval_seq:\n",
    "    eqn.display(False)"
   ]
  },
  {
   "cell_type": "code",
   "execution_count": null,
   "metadata": {},
   "outputs": [],
   "source": []
  }
 ],
 "metadata": {
  "kernelspec": {
   "display_name": "Python 3",
   "language": "python",
   "name": "python3"
  },
  "language_info": {
   "codemirror_mode": {
    "name": "ipython",
    "version": 3
   },
   "file_extension": ".py",
   "mimetype": "text/x-python",
   "name": "python",
   "nbconvert_exporter": "python",
   "pygments_lexer": "ipython3",
   "version": "3.6.2"
  }
 },
 "nbformat": 4,
 "nbformat_minor": 2
}
