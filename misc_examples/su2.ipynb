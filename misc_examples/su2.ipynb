{
 "cells": [
  {
   "cell_type": "markdown",
   "metadata": {},
   "source": [
    "# SU2 Drudge Example"
   ]
  },
  {
   "cell_type": "markdown",
   "metadata": {},
   "source": [
    "In this example, we use the SU2 Drudge to show the various components - vectors, terms, etc. in the drudge structure. We then show how to use these objects to do some simple algebra by using the commutation relations."
   ]
  },
  {
   "cell_type": "markdown",
   "metadata": {},
   "source": [
    "## Initializing stuff"
   ]
  },
  {
   "cell_type": "markdown",
   "metadata": {},
   "source": [
    "`pyspark` is a general-purpose parallel cluster-computing framework.\n",
    "`dummy_spark` is a serialized emulator for the same."
   ]
  },
  {
   "cell_type": "code",
   "execution_count": 1,
   "metadata": {},
   "outputs": [],
   "source": [
    "# from pyspark import SparkContext\n",
    "from dummy_spark import SparkContext\n",
    "ctx = SparkContext()"
   ]
  },
  {
   "cell_type": "code",
   "execution_count": 2,
   "metadata": {},
   "outputs": [],
   "source": [
    "from sympy import *\n",
    "from drudge import *"
   ]
  },
  {
   "cell_type": "markdown",
   "metadata": {},
   "source": [
    "Initialize the SU2LatticeDrudge. More parameters can be passed into the initialization - check by using the help option"
   ]
  },
  {
   "cell_type": "code",
   "execution_count": 3,
   "metadata": {},
   "outputs": [],
   "source": [
    "dr = SU2LatticeDrudge(ctx)"
   ]
  },
  {
   "cell_type": "code",
   "execution_count": 4,
   "metadata": {},
   "outputs": [
    {
     "name": "stdout",
     "output_type": "stream",
     "text": [
      "Help on class SU2LatticeDrudge in module drudge.su2:\n",
      "\n",
      "class SU2LatticeDrudge(drudge.genquad.GenQuadLatticeDrudge)\n",
      " |  Drudge for a lattice of su(2) algebras.\n",
      " |  \n",
      " |  This drudge has the commutation rules for :math:`\\mathfrak{su}(2)` algebras\n",
      " |  in Cartan-Weyl form (Ladder operators).  Here both the shift and Cartan\n",
      " |  operators can have additional *lattice indices*.  Operators on different\n",
      " |  lattice sites always commute.  In detail, with a generator of the Cartan\n",
      " |  subalgebra denoted :math:`h`, and its raising and lowering operators by\n",
      " |  :math:`e` and :math:`f`, the commutation rules among the generators with the\n",
      " |  same lattice index can be summarized as,\n",
      " |  \n",
      " |  .. math::\n",
      " |  \n",
      " |      [h, e] &= root \\cdot e \\\\\n",
      " |      [h, f] &= -root \\cdot f \\\\\n",
      " |      [e, f] &= norm \\cdot h + shift \\\\\n",
      " |  \n",
      " |  where :math:`root`, :math:`norm`, and :math:`shift` are all tunable.  This\n",
      " |  is basically the common Serre relations.\n",
      " |  \n",
      " |  Parameters\n",
      " |  ----------\n",
      " |  \n",
      " |  ctx\n",
      " |      The Spark context for the drudge.\n",
      " |  \n",
      " |  cartan\n",
      " |      The basis operator for the Cartan subalgebra (:math:`J^z` operator\n",
      " |      for spin problem).  It is registered in the name archive by the\n",
      " |      first letter in its label followed by an underscore.\n",
      " |  \n",
      " |  raise_\n",
      " |      The raising operator.  It is also also registered in the name\n",
      " |      archive by the first letter in its label followed by ``_p``.\n",
      " |  \n",
      " |  lower\n",
      " |      The lowering operator, registered by the first letter followed by\n",
      " |      ``_m``.\n",
      " |  \n",
      " |  root\n",
      " |      The coefficient for the commutator between the Cartan and shift\n",
      " |      operators.\n",
      " |  \n",
      " |  norm\n",
      " |      The coefficient for the commutator between the raising and lowering\n",
      " |      operators.\n",
      " |  \n",
      " |  shift\n",
      " |      The scalar shift in the commutator between the raising and the lowering\n",
      " |      operators.\n",
      " |  \n",
      " |  order\n",
      " |      The normal order for the generators.  By default, the the\n",
      " |      normal-ordering operation would try to put raising operators before the\n",
      " |      Cartan operators, which come before the lowering operators.\n",
      " |  \n",
      " |  special\n",
      " |      Special commutators customized.\n",
      " |  \n",
      " |  kwargs\n",
      " |      All other keyword arguments are given to the base class\n",
      " |      :py:class:`GenQuadDrudge`.\n",
      " |  \n",
      " |  Method resolution order:\n",
      " |      SU2LatticeDrudge\n",
      " |      drudge.genquad.GenQuadLatticeDrudge\n",
      " |      drudge.genquad.GenQuadDrudge\n",
      " |      drudge.drudge.Drudge\n",
      " |      abc.ABC\n",
      " |      builtins.object\n",
      " |  \n",
      " |  Methods defined here:\n",
      " |  \n",
      " |  __init__(self, ctx, cartan=Vec('J^z', ()), raise_=Vec('J^+', ()), lower=Vec('J^-', ()), root=1, norm=2, shift=0, order=None, specials=None, **kwargs)\n",
      " |      Initialize the drudge.\n",
      " |  \n",
      " |  ----------------------------------------------------------------------\n",
      " |  Data and other attributes defined here:\n",
      " |  \n",
      " |  DEFAULT_CARTAN = Vec('J^z', ())\n",
      " |  \n",
      " |  DEFAULT_LOWER = Vec('J^-', ())\n",
      " |  \n",
      " |  DEFAULT_RAISE = Vec('J^+', ())\n",
      " |  \n",
      " |  __abstractmethods__ = frozenset()\n",
      " |  \n",
      " |  ----------------------------------------------------------------------\n",
      " |  Data descriptors inherited from drudge.genquad.GenQuadLatticeDrudge:\n",
      " |  \n",
      " |  swapper\n",
      " |      The swapper based on the given order and commutators.\n",
      " |  \n",
      " |  ----------------------------------------------------------------------\n",
      " |  Methods inherited from drudge.genquad.GenQuadDrudge:\n",
      " |  \n",
      " |  normal_order(self, terms:pyspark.rdd.RDD, **kwargs)\n",
      " |      Normal order the terms in the RDD.\n",
      " |  \n",
      " |  ----------------------------------------------------------------------\n",
      " |  Data descriptors inherited from drudge.genquad.GenQuadDrudge:\n",
      " |  \n",
      " |  full_balance\n",
      " |      If full load-balancing is to be performed during normal-ordering.\n",
      " |  \n",
      " |  ----------------------------------------------------------------------\n",
      " |  Data and other attributes inherited from drudge.genquad.GenQuadDrudge:\n",
      " |  \n",
      " |  Swapper = typing.Callable[[drudge.term.Vec, drudge.term.Ve...y.core.ex...\n",
      " |      Callable type; Callable[[int], str] is a function of (int) -> str.\n",
      " |      \n",
      " |      The subscription syntax must always be used with exactly two\n",
      " |      values: the argument list and the return type.  The argument list\n",
      " |      must be a list of types or ellipsis; the return type must be a single type.\n",
      " |      \n",
      " |      There is no syntax to indicate optional or keyword arguments,\n",
      " |      such function types are rarely used as callback types.\n",
      " |  \n",
      " |  ----------------------------------------------------------------------\n",
      " |  Methods inherited from drudge.drudge.Drudge:\n",
      " |  \n",
      " |  add_default_resolver(self, range_)\n",
      " |      Add a default resolver.\n",
      " |      \n",
      " |      The default resolver will resolve *any* expression to the given range.\n",
      " |      Note that all later resolvers will not be invoked at all after this\n",
      " |      resolver is added.\n",
      " |  \n",
      " |  add_resolver(self, resolver)\n",
      " |      Append a resolver to the list of resolvers.\n",
      " |      \n",
      " |      The given resolver can be either a mapping from SymPy expression,\n",
      " |      including atomic symbols, to the corresponding ranges.  Or a callable to\n",
      " |      be called with SymPy expressions.  For callable resolvers, None can be\n",
      " |      returned to signal the incapability to resolve the expression.  Then the\n",
      " |      resolution will be dispatched to the next resolver.\n",
      " |  \n",
      " |  add_resolver_for_dumms(self, ranges=None, strict=False)\n",
      " |      Add the resolver for the dummies.\n",
      " |      \n",
      " |      With this method, the default dummies for each range will be resolved to\n",
      " |      be within the range for all of them.  This method should normally be\n",
      " |      called by all subclasses after the dummies for all ranges have been\n",
      " |      properly set.\n",
      " |      \n",
      " |      Note that dummies added later will not be automatically added.  This\n",
      " |      method can be called again.\n",
      " |      \n",
      " |      Parameters\n",
      " |      ----------\n",
      " |      \n",
      " |      ranges\n",
      " |          By default, resolver for all ranges will be attempted to be added.\n",
      " |          Or a specific iterable of ranges can also be given to add resolver\n",
      " |          only for the given ranges.\n",
      " |      \n",
      " |      strict\n",
      " |          By default, any expression contains a dummy of the range will be\n",
      " |          considered to be of the range.  If strict is set to true, only the\n",
      " |          dummy appearing by themself will be resolved.\n",
      " |  \n",
      " |  create_tensor(self, terms)\n",
      " |      Create a tensor with the terms given in the argument.\n",
      " |      \n",
      " |      The terms should be given as an iterable of Term objects.  This function\n",
      " |      should not be necessary in user code.\n",
      " |  \n",
      " |  def_(self, *args) -> drudge.drudge.TensorDef\n",
      " |      Make a tensor definition according to convention set in drudge.\n",
      " |      \n",
      " |      This method is a convenient utility for making tensor definitions.\n",
      " |      Basically it calls :py:meth:`define` or :py:meth:`define_einst`\n",
      " |      according to the value of the property :py:meth:`default_einst`.\n",
      " |      \n",
      " |      It is also the operations used for tensor definition operations inside\n",
      " |      drudge scripts.\n",
      " |  \n",
      " |  define(self, *args) -> drudge.drudge.TensorDef\n",
      " |      Make a tensor definition.\n",
      " |      \n",
      " |      This is a helper method for the creation of :py:class:`TensorDef`\n",
      " |      instances.\n",
      " |      \n",
      " |      Parameters\n",
      " |      ----------\n",
      " |      \n",
      " |      initial arguments\n",
      " |          The left-hand side of the definition.  It can be given as an indexed\n",
      " |          quantity, either SymPy Indexed instances or an indexed vector, with\n",
      " |          all the plain symbol indices having their range is able to be\n",
      " |          resolved.  Or a base can be given, followed by the symbol/range\n",
      " |          pairs for the external indices.\n",
      " |      \n",
      " |      final argument\n",
      " |          The definition of the LHS, can be tensor instances, or anything\n",
      " |          capable of being interpreted as such.  Note that no summation is\n",
      " |          going to be automatically added.\n",
      " |  \n",
      " |  define_einst(self, *args, auto_exts=False) -> drudge.drudge.TensorDef\n",
      " |      Make a tensor definition based on Einstein summation convention.\n",
      " |      \n",
      " |      This method basically performs function very similar to the\n",
      " |      :py:meth:`define` method, just the content will be interpreted according\n",
      " |      to the Einstein summation convention.  When the argument ``auto_exts``\n",
      " |      is set, the lhs of the definition is read in the same way as the\n",
      " |      :py:meth:`define` method.  When it is turned on, the lhs can be given\n",
      " |      only by a base and the external indices will be attempted to be\n",
      " |      inferred, as described in :py:meth:`einst`.\n",
      " |  \n",
      " |  einst(self, summand, auto_exts:bool=False) -> Union[drudge.drudge.Tensor, Tuple[drudge.drudge.Tensor, AbstractSet[sympy.core.symbol.Symbol]]]\n",
      " |      Create a tensor from Einstein summation convention.\n",
      " |      \n",
      " |      By calling this function, summations according to the Einstein summation\n",
      " |      convention will be added to the terms.  Note that this function is\n",
      " |      mostly designed for the most conventional tensor problems.  For a symbol\n",
      " |      to be recognized as a summation, it must appear twice or more in its\n",
      " |      **original form** in indices, and its range needs to be able to be\n",
      " |      resolved.  When a symbol is used in compound form as tensor indices, it\n",
      " |      will be considered to be for non-conventional purposes and will no\n",
      " |      longer be automatically recognized as summations.\n",
      " |      \n",
      " |      For instance, we can have the following fairly conventional Einstein\n",
      " |      form,\n",
      " |      \n",
      " |      .. doctest::\n",
      " |      \n",
      " |          >>> dr = Drudge(SparkContext())\n",
      " |          >>> r = Range('R')\n",
      " |          >>> a, b, c = dr.set_dumms(r, symbols('a b c'))\n",
      " |          >>> dr.add_resolver_for_dumms()\n",
      " |          >>> x = IndexedBase('x')\n",
      " |          >>> tensor = dr.einst(x[a, b] * x[b, c])\n",
      " |          >>> str(tensor)\n",
      " |          'sum_{b} x[a, b]*x[b, c]'\n",
      " |      \n",
      " |      Note that in addition to creating tensors from scratch, this method can\n",
      " |      also be called on an existing tensor to add new summations.  In that\n",
      " |      case, no existing summations will be touched.\n",
      " |      \n",
      " |      For indices whose range is resolved to a tuple of multiple ranges, the\n",
      " |      term will be expanded to sum over all the given ranges.\n",
      " |      \n",
      " |      Parameters\n",
      " |      ----------\n",
      " |      \n",
      " |      summand\n",
      " |      \n",
      " |          The summand to be applied the Einstein summation convention.\n",
      " |      \n",
      " |      auto_exts\n",
      " |      \n",
      " |          If external indices will tried to be recognized automatically and\n",
      " |          returned as a second return value.  For each term, symbols appearing\n",
      " |          exactly once **in its raw form as indices** will be considered as\n",
      " |          external indices.  When the set of external indices are the same for\n",
      " |          all terms, it will be returned as the second return value, or a\n",
      " |          ``ValueError`` will be raised.\n",
      " |  \n",
      " |  exec_drs(self, src, filename='<unknown>')\n",
      " |      Execute the drudge script.\n",
      " |      \n",
      " |      Drudge script are Python scripts tweaked to be executed in special\n",
      " |      environments.  This domain-specific language is made for the\n",
      " |      convenience users for simple tasks, especially for users unfamiliar\n",
      " |      with Python.\n",
      " |      \n",
      " |      Being a Python script executed inside the current interpreter,\n",
      " |      drudge script differs from normal Python scripts by\n",
      " |      \n",
      " |      1. All integer literal are resolved into SymPy symbolic integers.\n",
      " |      \n",
      " |      2. Global names are resolved in the order of,\n",
      " |      \n",
      " |         - the name archive in the current drudge,\n",
      " |         - the special drudge script functions in the drudge,\n",
      " |         - the drudge package exported names,\n",
      " |         - the gristmill package exported names (if installed),\n",
      " |         - the SymPy exported names,\n",
      " |         - built-in Python names.\n",
      " |      \n",
      " |      3. All unresolved names are created as a special kind of symbolic\n",
      " |         object, which behaves basically like SymPy ``Symbol``, but with\n",
      " |         differences,\n",
      " |      \n",
      " |         1. They are be directly subscripted, like ``IndexedBase``.\n",
      " |      \n",
      " |         2. ``def_as`` method can be used to make a tensor definition with\n",
      " |            such symbols or its indexing on the left-hand side, the other\n",
      " |            operand on its right-hand side.  The resulted definition is also\n",
      " |            added to the name archive of the drudge.\n",
      " |      \n",
      " |         3. ``<=`` operator can be used similar to ``def_as``, except the\n",
      " |            definition is not added to the archive.  The result can be put\n",
      " |            into local variables.\n",
      " |      \n",
      " |      4. All left-shift augmented assignment ``<<=`` operations are\n",
      " |         replaced by ``def_as`` method calling.\n",
      " |      \n",
      " |      5. Some operations could have slightly different behaviour more suitable\n",
      " |         inside drudge scripts.  For developers, the :py:meth:`inside_drs`\n",
      " |         property can be used to query if the function is called inside a\n",
      " |         drudge script.\n",
      " |      \n",
      " |      6. The pickling environment is set.\n",
      " |      \n",
      " |      For a non-technical introduction to drudge script, please see\n",
      " |      :ref:`drs intro`.\n",
      " |  \n",
      " |  form_base_name(self, tensor_def:drudge.drudge.TensorDef) -> Union[str, NoneType]\n",
      " |      Form the name for the base to use for tensor definitions.\n",
      " |      \n",
      " |      This method is called by :py:meth:`set_name` to get a formatted string\n",
      " |      for the base of the tensor definition, which is to be used as the\n",
      " |      name for the base in the name archive.  ``None`` can be returned to\n",
      " |      stop the base from being added.\n",
      " |      \n",
      " |      By default, an underscore is put in front of the string form of the\n",
      " |      base.\n",
      " |  \n",
      " |  form_def_name(self, tensor_def:drudge.drudge.TensorDef) -> Union[str, NoneType]\n",
      " |      Form the name for a tensor definition in name archive.\n",
      " |      \n",
      " |      The result will be used by :py:meth:`set_name` as the name of the\n",
      " |      tensor definition itself in the name archive.  By default, it is set\n",
      " |      just to be plain string form of the base of the definition.\n",
      " |  \n",
      " |  format_latex(self, inp, sep_lines=False, align_terms=False, proc=None, no_sum=False, bounds=False, scalar_mul='')\n",
      " |      Get the LaTeX form of a given tensor or tensor definition.\n",
      " |      \n",
      " |      Subclasses should fine-tune the appearance of the resulted LaTeX form by\n",
      " |      overriding methods ``_latex_sympy``, ``_latex_vec``, and\n",
      " |      ``_latex_vec_mul``.\n",
      " |      \n",
      " |      Parameters\n",
      " |      ==========\n",
      " |      \n",
      " |      inp\n",
      " |      \n",
      " |          The input tensor or tensor definition.\n",
      " |      \n",
      " |      sep_lines\n",
      " |      \n",
      " |          If terms should be put into separate lines by separating them with\n",
      " |          ``\\\\``.\n",
      " |      \n",
      " |      align_terms\n",
      " |      \n",
      " |          If ``&`` is going to be prepended to each term to have them aligned.\n",
      " |          This option is intended for cases where the LaTeX form is going to\n",
      " |          be put inside environments supporting alignment.\n",
      " |      \n",
      " |      proc\n",
      " |      \n",
      " |          A callable to be called with the string of the original LaTeX\n",
      " |          formatting of each of the terms to return a processed final form.\n",
      " |          The callable is also going to be given keyword arguments ``term``\n",
      " |          for the actual tensor term and ``idx`` for the index of the term\n",
      " |          within the tensor.\n",
      " |      \n",
      " |      no_sum : bool\n",
      " |      \n",
      " |          If summation is going to be suppressed in the printing, useful for\n",
      " |          cases where a convention, like the Einstein's, exists for the\n",
      " |          summations.\n",
      " |      \n",
      " |      bounds : bool\n",
      " |      \n",
      " |          If the bounds of summations should be printed when they are\n",
      " |          explicitly present.\n",
      " |      \n",
      " |      scalar_mul : str\n",
      " |      \n",
      " |          The text for scalar multiplication.  By default, scalar\n",
      " |          multiplication is just rendered as juxtaposition.  When a string is\n",
      " |          given for this argument, it is going to be placed between scalar\n",
      " |          factors and between the amplitude and the vectors.  In LaTeX output\n",
      " |          of tensors with terms with many factors, special command\n",
      " |          ``\\invismult`` can be used, which just makes a small space but\n",
      " |          enables the factors to be automatically split by the ``breqn``\n",
      " |          package.  Note that this option has effect only for expanded terms,\n",
      " |          where the scalar multiplication occurs on the top-level.\n",
      " |  \n",
      " |  get_tensor_method(self, name)\n",
      " |      Get a tensor method with given name.\n",
      " |      \n",
      " |      When the name cannot be resolved, KeyError will be raised.\n",
      " |  \n",
      " |  inject_names(self, prefix='', suffix='')\n",
      " |      Inject the names in the name archive into the current global scope.\n",
      " |      \n",
      " |      This function is for the convenience of users, especially interactive\n",
      " |      users.  Itself is not used in official drudge code except its own tests.\n",
      " |      \n",
      " |      Note that this function injects the names in the name archive into the\n",
      " |      **global** scope of the caller, rather than the local scope, even when\n",
      " |      called inside a function.\n",
      " |  \n",
      " |  lvt_inv(self, defs:Iterable[drudge.drudge.TensorDef], rhs_vecs=None)\n",
      " |      Inverse a linear transformation of vectors.\n",
      " |      \n",
      " |      This method internally utilizes :py:meth:`lvt_defs2mat` to get the\n",
      " |      matrix for the transformation, then with the matrix inverted and\n",
      " |      simplified symbolically, the inverse definition is cast back to the\n",
      " |      definitions form.\n",
      " |  \n",
      " |  lvt_mat2defs(self, mat:sympy.matrices.dense.MutableDenseMatrix, lhs_vecs:Iterable[drudge.term.Vec], rhs_vecs:Iterable[drudge.term.Vec])\n",
      " |      Form definitions from a linear transformation matrix.\n",
      " |      \n",
      " |      This is the exact inverse of the operation defined in\n",
      " |      :py:meth:`lvt_defs2mat`.\n",
      " |  \n",
      " |  memoize(self, comput, filename, log=None, log_header='Memoize:')\n",
      " |      Preserve/lookup result of computation into/from pickle file.\n",
      " |      \n",
      " |      When the file with the given name exists, it will be opened and\n",
      " |      attempted to be unpickled, with the deserialized content returned and\n",
      " |      the given computation skipped.  When the file is absent or does not\n",
      " |      contain valid pickle, the given computation will be performed, with the\n",
      " |      result both pickled into a file created with the given name and\n",
      " |      returned.\n",
      " |      \n",
      " |      Parameters\n",
      " |      ----------\n",
      " |      \n",
      " |      comput\n",
      " |      \n",
      " |          The callable giving the computation to be performed.  To be called\n",
      " |          with no arguments.\n",
      " |      \n",
      " |      filename\n",
      " |      \n",
      " |          The name of the pickle file to read from or write to.\n",
      " |      \n",
      " |      log\n",
      " |      \n",
      " |          The file object to write log information to.  ``None`` if no logging\n",
      " |          is desired, ``True`` if they are to be written to the standard\n",
      " |          output, or any writable file object can be given.\n",
      " |      \n",
      " |      log_header\n",
      " |      \n",
      " |          The header to be prepended to lines of the log texts.\n",
      " |      \n",
      " |      Returns\n",
      " |      -------\n",
      " |      \n",
      " |      The result of the computation, either read from existing file or newly\n",
      " |      computed.\n",
      " |      \n",
      " |      Examples\n",
      " |      --------\n",
      " |      \n",
      " |      .. doctest::\n",
      " |          :options: +SKIP\n",
      " |      \n",
      " |          >>> dr = Drudge(SparkContext())\n",
      " |          >>> res = dr.memoize(lambda: 10, 'intermediate.pickle')\n",
      " |          >>> res\n",
      " |          10\n",
      " |          >>> dr.memoize(lambda: 10, 'intermediate.pickle')\n",
      " |          10\n",
      " |      \n",
      " |      Note that in the second execution, the number 10 should be read from the\n",
      " |      file rather than being computed again.  Normally, rather than a trivial\n",
      " |      number, expensive intermediate results can be memoized in this way so\n",
      " |      that the script can be restarted readily.\n",
      " |  \n",
      " |  pickle_env(self)\n",
      " |      Prepare the environment for unpickling contents with tensors.\n",
      " |      \n",
      " |      Pickled contents containing tensors cannot be directly unpickled by the\n",
      " |      functions from the pickle module directly.  They should be used within\n",
      " |      the context created by this function.  Note that the content does not\n",
      " |      have to have a single tensor object.  Anything containing tensor objects\n",
      " |      needs to be loaded within the context.\n",
      " |      \n",
      " |      Note that this context is unnecessary inside drudge scripts.\n",
      " |      \n",
      " |      .. warning::\n",
      " |      \n",
      " |          All tensors read within this environment will have the current\n",
      " |          drudge as their drudge.  No checking is, or can be, done to make\n",
      " |          sure that the tensors are sensible for the current drudge.  Normally\n",
      " |          it should be the same drudge as the drudge used for their creation\n",
      " |          be used.\n",
      " |      \n",
      " |      Examples\n",
      " |      --------\n",
      " |      \n",
      " |      .. doctest::\n",
      " |      \n",
      " |          >>> dr = Drudge(SparkContext())\n",
      " |          >>> tensor = dr.sum(IndexedBase('x')[Symbol('a')])\n",
      " |          >>> import pickle\n",
      " |          >>> serialized = pickle.dumps(tensor)\n",
      " |          >>> with dr.pickle_env():\n",
      " |          ...     res = pickle.loads(serialized)\n",
      " |          >>> print(tensor == res)\n",
      " |          True\n",
      " |  \n",
      " |  report(self, filename, title)\n",
      " |      Make a report for results.\n",
      " |      \n",
      " |      This function should be used within a ``with`` statement to open a\n",
      " |      report (:py:class:`Report`) for results.\n",
      " |      \n",
      " |      Parameters\n",
      " |      ----------\n",
      " |      \n",
      " |      filename : str\n",
      " |      \n",
      " |          The name of the report file, whose extension gives the type of the\n",
      " |          report.  Currently, ``.html`` gives reports in HTML format, where\n",
      " |          the ``MathJAX`` library is used for rendering the math.  ``.tex``\n",
      " |          gives reports in LaTeX format, while ``.pdf`` will automatically\n",
      " |          compile the LaTeX source by program ``pdflatex`` in the path.\n",
      " |          Normally for LaTeX output, finer tuning of the display environment\n",
      " |          in :py:meth:`Report.add` is required, especially for long\n",
      " |          equations.\n",
      " |      \n",
      " |      title\n",
      " |      \n",
      " |          The title to be printed in the report.\n",
      " |      \n",
      " |      Examples\n",
      " |      --------\n",
      " |      \n",
      " |      .. doctest::\n",
      " |          :options: +SKIP\n",
      " |      \n",
      " |          >>> dr = Drudge(SparkContext())\n",
      " |          >>> tensor = dr.sum(IndexedBase('x')[Symbol('a')])\n",
      " |          >>> with dr.report('report.html', 'A simple tensor') as report:\n",
      " |          ...     report.add('Simple tensor', tensor)\n",
      " |  \n",
      " |  set_dumms(self, range_:drudge.term.Range, dumms, set_range_name=True, dumms_suffix='_dumms', set_dumm_names=True)\n",
      " |      Set the dummies for a range.\n",
      " |      \n",
      " |      Note that this function overwrites the existing dummies if the range has\n",
      " |      already been given.\n",
      " |  \n",
      " |  set_name(self, *args, **kwargs)\n",
      " |      Set objects into the name archive of the drudge.\n",
      " |      \n",
      " |      For positional arguments, the str form of the given label is going to\n",
      " |      be used for the name of the object.  Special treatment is given to\n",
      " |      tensor definitions, the base and and definition itself will be added\n",
      " |      under names given by the methods :py:meth:`form_base_name`,\n",
      " |      and :py:meth:`form_def_name`.\n",
      " |      \n",
      " |      For keyword arguments, the keyword will be used for the name.\n",
      " |  \n",
      " |  set_symm(self, base, *symms, valence=None, set_base_name=True)\n",
      " |      Set the symmetry for a given base.\n",
      " |      \n",
      " |      Permutation objects in the arguments are interpreted as single\n",
      " |      generators, other values will be attempted to be iterated over to get\n",
      " |      their entries, which should all be permutations.\n",
      " |      \n",
      " |      Parameters\n",
      " |      ----------\n",
      " |      \n",
      " |      base\n",
      " |          The SymPy indexed base object or vectors whose symmetry is to be\n",
      " |          set.  Their label can be used as well.\n",
      " |      \n",
      " |      symms\n",
      " |          The generators of the symmetry.  It can be a single None to remove\n",
      " |          the symmetry of the given base.\n",
      " |      \n",
      " |      valence : int\n",
      " |          When it is set, only the indexed quantity of the base with the given\n",
      " |          valence will have the given symmetry.\n",
      " |      \n",
      " |      set_base_name\n",
      " |          If the base name is to be added to the name archive of the drudge.\n",
      " |  \n",
      " |  set_tensor_method(self, name, func)\n",
      " |      Set a new tensor method under the given name.\n",
      " |      \n",
      " |      A tensor method is a method that can be called from tensors created from\n",
      " |      the current drudge as if it is a method of the given tensor. This could\n",
      " |      give cleaner and more consistent code for all tensor manipulations.\n",
      " |      \n",
      " |      The given function, or bounded method, should be able to accept the\n",
      " |      tensor as the first argument.\n",
      " |  \n",
      " |  simplify(self, arg, **kwargs)\n",
      " |      Make simplification for both SymPy expressions and tensors.\n",
      " |      \n",
      " |      This method is mostly designed to be used in drudge scripts.  But it\n",
      " |      can also be used inside Python scripts for convenience.\n",
      " |      \n",
      " |      The actual simplification is dispatched based on the type of the given\n",
      " |      argument. Simple SymPy simplification for SymPy expressions, drudge\n",
      " |      simplification for drudge tensors or tensor definitions, or the argument\n",
      " |      will be attempted to be converted into a tensor.\n",
      " |  \n",
      " |  sum(self, *args, predicate=None) -> drudge.drudge.Tensor\n",
      " |      Create a tensor for the given summation.\n",
      " |      \n",
      " |      This is the core function for creating tensors from scratch.  The\n",
      " |      arguments should start with the summations, each of which should be\n",
      " |      given as a sequence, normally a tuple, starting with a SymPy symbol for\n",
      " |      the summation dummy in the first entry.  Then comes possibly multiple\n",
      " |      domains that the dummy is going to be summed over, which can be symbolic\n",
      " |      range, SymPy expression, or iterable over them.  When symbolic ranges\n",
      " |      are given as :py:class:`Range` objects, the given dummy will be set to\n",
      " |      be summed over the ranges symbolically.  When SymPy expressions are\n",
      " |      given, the given values will substitute all appearances of the dummy in\n",
      " |      the summand.  When we have multiple summations, terms in the result are\n",
      " |      generated from the Cartesian product of them.\n",
      " |      \n",
      " |      The last argument should give the actual thing to be summed, which can\n",
      " |      be something that can be interpreted as a collection of terms, or a\n",
      " |      callable that is going to return the summand when given a dictionary\n",
      " |      giving the action on each of the dummies.  The dictionary has an entry\n",
      " |      for all the dummies.  Dummies summed over symbolic ranges will have the\n",
      " |      actual range as its value, or the actual SymPy expression when it is\n",
      " |      given a concrete range.  In the returned summand, if dummies still\n",
      " |      exist, they are going to be treated in the same way as statically-given\n",
      " |      summands.\n",
      " |      \n",
      " |      The predicate can be a callable going to return a boolean when called\n",
      " |      with same dictionary.  False values can be used the skip some terms.  It\n",
      " |      is guaranteed that the same dictionary will be used for both predicate\n",
      " |      and the summand when they are given as callables.\n",
      " |      \n",
      " |      For instance, mostly commonly, we can create a tensor by having simple\n",
      " |      summations over symbolic ranges,\n",
      " |      \n",
      " |      .. doctest::\n",
      " |      \n",
      " |          >>> dr = Drudge(SparkContext())\n",
      " |          >>> r = Range('R')\n",
      " |          >>> a = Symbol('a')\n",
      " |          >>> b = Symbol('b')\n",
      " |          >>> x = IndexedBase('x')\n",
      " |          >>> v = Vec('v')\n",
      " |          >>> tensor = dr.sum((a, r), (b, r), x[a, b] * v[a] * v[b])\n",
      " |          >>> str(tensor)\n",
      " |          'sum_{a, b} x[a, b] * v[a] * v[b]'\n",
      " |      \n",
      " |      And we can also give multiple symbolic ranges for a single dummy to sum\n",
      " |      over all of them,\n",
      " |      \n",
      " |      .. doctest::\n",
      " |      \n",
      " |          >>> s = Range('S')\n",
      " |          >>> tensor = dr.sum((a, r, s), x[a] * v[a])\n",
      " |          >>> print(str(tensor))\n",
      " |          sum_{a} x[a] * v[a]\n",
      " |           + sum_{a} x[a] * v[a]\n",
      " |      \n",
      " |      When the objects to sum over are not symbolic ranges, we are in the\n",
      " |      concrete summation mode, for instance,\n",
      " |      \n",
      " |      .. doctest::\n",
      " |      \n",
      " |          >>> tensor = dr.sum((a, 1, 2), x[a] * v[a])\n",
      " |          >>> print(str(tensor))\n",
      " |          x[1] * v[1]\n",
      " |           + x[2] * v[2]\n",
      " |      \n",
      " |      The concrete and symbolic summation mode can be put together freely in\n",
      " |      the same summation,\n",
      " |      \n",
      " |      .. doctest::\n",
      " |      \n",
      " |          >>> tensor = dr.sum((a, r, s), (b, 1, 2), x[b, a] * v[a])\n",
      " |          >>> print(str(tensor))\n",
      " |          sum_{a} x[1, a] * v[a]\n",
      " |           + sum_{a} x[2, a] * v[a]\n",
      " |           + sum_{a} x[1, a] * v[a]\n",
      " |           + sum_{a} x[2, a] * v[a]\n",
      " |      \n",
      " |      Note that this function can also be called on existing tensor objects\n",
      " |      with the same semantics on the terms.  Existing summations are not\n",
      " |      touched by it.  For instance,\n",
      " |      \n",
      " |      .. doctest::\n",
      " |      \n",
      " |          >>> tensor = dr.sum(x[a] * v[a])\n",
      " |          >>> str(tensor)\n",
      " |          'x[a] * v[a]'\n",
      " |          >>> tensor = dr.sum((a, r), tensor)\n",
      " |          >>> str(tensor)\n",
      " |          'sum_{a} x[a] * v[a]'\n",
      " |      \n",
      " |      where we have used summation with only summand (no sums) to create\n",
      " |      simple tensor of only one term without any summation.\n",
      " |  \n",
      " |  unset_name(self, *args, **kwargs)\n",
      " |      Unset names from name archive.\n",
      " |      \n",
      " |      This method is mostly used to undo the effect of :py:meth:`set_name`.\n",
      " |      Here, names that are not actually present in the name archive will be\n",
      " |      skipped without error.\n",
      " |  \n",
      " |  ----------------------------------------------------------------------\n",
      " |  Static methods inherited from drudge.drudge.Drudge:\n",
      " |  \n",
      " |  lvt_defs2mat(defs:Iterable[drudge.drudge.TensorDef], rhs_vecs=None, ret_rhs=False)\n",
      " |      Turn a linear vector transformation into matrix form.\n",
      " |      \n",
      " |      A linear vector transformation is a set of definitions of vectors as\n",
      " |      simple linear combinations of another set of vectors, where the linear\n",
      " |      combination only has plain symbolic scalar coefficients without any\n",
      " |      symbolic summations.\n",
      " |      \n",
      " |      With this method, given a linear vector transformation as a list of\n",
      " |      tensor definitions, the matrix :math:`M` of the transformation will be\n",
      " |      formed, which makes\n",
      " |      \n",
      " |      .. math::\n",
      " |      \n",
      " |          \\mathbf{L} = M \\mathbf{R}\n",
      " |      \n",
      " |      where :math:`\\mathbf{L}` is the column vector of the vectors on the\n",
      " |      left-hand side and :math:`\\mathbf{R}` is the column vector of the\n",
      " |      vectors on the right-hand side.\n",
      " |      \n",
      " |      Parameters\n",
      " |      ----------\n",
      " |      \n",
      " |      defs\n",
      " |          An iterable giving all the definitions.  No vector should be\n",
      " |          redefined and non-vector definitions will be construed as definition\n",
      " |          of unity.\n",
      " |      \n",
      " |      rhs_vecs\n",
      " |          The vectors on the right-hand side.  When it is given as None, all\n",
      " |          vectors appearing in the RHSes of the definitions will be ordered in\n",
      " |          an non-deterministic way.\n",
      " |      \n",
      " |      ret_rhs\n",
      " |          If the actual list of RHS vectors is going to be returned.\n",
      " |  \n",
      " |  ----------------------------------------------------------------------\n",
      " |  Data descriptors inherited from drudge.drudge.Drudge:\n",
      " |  \n",
      " |  __dict__\n",
      " |      dictionary for instance variables (if defined)\n",
      " |  \n",
      " |  __weakref__\n",
      " |      list of weak references to the object (if defined)\n",
      " |  \n",
      " |  ctx\n",
      " |      The Spark context of the drudge.\n",
      " |  \n",
      " |  default_einst\n",
      " |      If :py:meth:`def_` takes Einstein convention.\n",
      " |      \n",
      " |      This property tunes the behaviour of :py:meth:`def_`.  When it is\n",
      " |      set, the Einstein summation convention is always assumed for the\n",
      " |      right-hand side for that function.\n",
      " |  \n",
      " |  dumms\n",
      " |      The broadcast form of the dummies dictionary.\n",
      " |  \n",
      " |  full_simplify\n",
      " |      If full simplification is to be performed on amplitudes.\n",
      " |      \n",
      " |      It can be used to disable full simplification of the amplitude\n",
      " |      expression by SymPy.  For simple polynomial amplitude, this option is\n",
      " |      generally safe to be disabled.\n",
      " |  \n",
      " |  inside_drs\n",
      " |      If we are currently inside a drudge script.\n",
      " |  \n",
      " |  names\n",
      " |      The name archive for the drudge.\n",
      " |      \n",
      " |      The name archive object can be used for convenient accessing of objects\n",
      " |      related to the problem.\n",
      " |  \n",
      " |  num_partitions\n",
      " |      The preferred number of partitions for data.\n",
      " |  \n",
      " |  resolvers\n",
      " |      The broadcast form of the resolvers.\n",
      " |  \n",
      " |  simple_merge\n",
      " |      If only simple merge is to be carried out.\n",
      " |      \n",
      " |      When it is set to true, only terms with same factors involving dummies\n",
      " |      are going to be merged.  This might be helpful for cases where the\n",
      " |      amplitude are all simple polynomials of tensorial quantities.  Note that\n",
      " |      this could disable some SymPy simplification.\n",
      " |      \n",
      " |      .. warning::\n",
      " |      \n",
      " |          This option might not give much more than disabling full\n",
      " |          simplification but taketh away many simplifications.  It is in\n",
      " |          general not recommended to be used.\n",
      " |  \n",
      " |  symms\n",
      " |      The broadcast form of the symmetries.\n",
      " |  \n",
      " |  vec_colour\n",
      " |      The vector colour function.\n",
      " |      \n",
      " |      Note that this accessor accesses the **function**, rather than directly\n",
      " |      computes the colour for any vector.\n",
      "\n"
     ]
    }
   ],
   "source": [
    "help(SU2LatticeDrudge)"
   ]
  },
  {
   "cell_type": "markdown",
   "metadata": {},
   "source": [
    "Every Drudge comes with a `namespace` which stores the names to various attributes/elements of the drudge."
   ]
  },
  {
   "cell_type": "code",
   "execution_count": 5,
   "metadata": {},
   "outputs": [],
   "source": [
    "p = dr.names\n",
    "j_z = p.J_\n",
    "j_p = p.J_p\n",
    "j_m = p.J_m"
   ]
  },
  {
   "cell_type": "markdown",
   "metadata": {},
   "source": [
    "The basic operators are recognized as `Vectors` - these are the building blocks of a `Term`"
   ]
  },
  {
   "cell_type": "code",
   "execution_count": 6,
   "metadata": {},
   "outputs": [
    {
     "data": {
      "text/plain": [
       "drudge.term.Vec"
      ]
     },
     "execution_count": 6,
     "metadata": {},
     "output_type": "execute_result"
    }
   ],
   "source": [
    "type(j_z)"
   ]
  },
  {
   "cell_type": "code",
   "execution_count": 7,
   "metadata": {},
   "outputs": [
    {
     "data": {
      "text/plain": [
       "drudge.term.Terms"
      ]
     },
     "execution_count": 7,
     "metadata": {},
     "output_type": "execute_result"
    }
   ],
   "source": [
    "x = (j_z | j_p)\n",
    "type(x)"
   ]
  },
  {
   "cell_type": "markdown",
   "metadata": {},
   "source": [
    "Terms / Vectors alone do not come with display, simplify, etc. options. These are associated with Tensors."
   ]
  },
  {
   "cell_type": "code",
   "execution_count": 8,
   "metadata": {},
   "outputs": [],
   "source": [
    "jp = dr.sum(j_p)\n",
    "jm = dr.simplify(j_m)\n",
    "jz = dr.einst(j_z)"
   ]
  },
  {
   "cell_type": "code",
   "execution_count": 9,
   "metadata": {},
   "outputs": [
    {
     "data": {
      "text/plain": [
       "drudge.drudge.Tensor"
      ]
     },
     "execution_count": 9,
     "metadata": {},
     "output_type": "execute_result"
    }
   ],
   "source": [
    "type(jz)"
   ]
  },
  {
   "cell_type": "code",
   "execution_count": 10,
   "metadata": {},
   "outputs": [
    {
     "data": {
      "text/latex": [
       "$$ \\mathbf{J^z}$$"
      ],
      "text/plain": [
       "<IPython.core.display.Math object>"
      ]
     },
     "execution_count": 10,
     "metadata": {},
     "output_type": "execute_result"
    }
   ],
   "source": [
    "jz.simplify().display()"
   ]
  },
  {
   "cell_type": "code",
   "execution_count": 11,
   "metadata": {},
   "outputs": [
    {
     "data": {
      "text/latex": [
       "$$ \\mathbf{J^+}$$"
      ],
      "text/plain": [
       "<IPython.core.display.Math object>"
      ]
     },
     "execution_count": 11,
     "metadata": {},
     "output_type": "execute_result"
    }
   ],
   "source": [
    "jp.display()"
   ]
  },
  {
   "cell_type": "code",
   "execution_count": 12,
   "metadata": {},
   "outputs": [
    {
     "data": {
      "text/latex": [
       "$$ \\mathbf{J^-}$$"
      ],
      "text/plain": [
       "<IPython.core.display.Math object>"
      ]
     },
     "execution_count": 12,
     "metadata": {},
     "output_type": "execute_result"
    }
   ],
   "source": [
    "jm.display()"
   ]
  },
  {
   "cell_type": "markdown",
   "metadata": {},
   "source": [
    "## Commutators"
   ]
  },
  {
   "cell_type": "markdown",
   "metadata": {},
   "source": [
    "Let's verify the SU(2) commutation rules"
   ]
  },
  {
   "cell_type": "markdown",
   "metadata": {},
   "source": [
    "\\begin{align}\n",
    "[ J^+ , J^-] &= 2J^z\\\\\n",
    "[ J^z , J^+] &= J^+\\\\\n",
    "[ J^z , J^-] &= -J^-\n",
    "\\end{align}"
   ]
  },
  {
   "cell_type": "markdown",
   "metadata": {},
   "source": [
    "**First commutator**"
   ]
  },
  {
   "cell_type": "code",
   "execution_count": 13,
   "metadata": {},
   "outputs": [
    {
     "data": {
      "text/latex": [
       "$$ \\mathbf{J^+} \\mathbf{J^-} -  \\mathbf{J^-} \\mathbf{J^+}$$"
      ],
      "text/plain": [
       "<IPython.core.display.Math object>"
      ]
     },
     "execution_count": 13,
     "metadata": {},
     "output_type": "execute_result"
    }
   ],
   "source": [
    "comm1 = (jp | jm)\n",
    "comm1.display()"
   ]
  },
  {
   "cell_type": "code",
   "execution_count": 14,
   "metadata": {},
   "outputs": [
    {
     "data": {
      "text/latex": [
       "$$2  \\mathbf{J^z}$$"
      ],
      "text/plain": [
       "<IPython.core.display.Math object>"
      ]
     },
     "execution_count": 14,
     "metadata": {},
     "output_type": "execute_result"
    }
   ],
   "source": [
    "comm1 = dr.simplify(comm1)\n",
    "comm1.display()"
   ]
  },
  {
   "cell_type": "markdown",
   "metadata": {},
   "source": [
    "**Second Commutator**"
   ]
  },
  {
   "cell_type": "code",
   "execution_count": 15,
   "metadata": {},
   "outputs": [],
   "source": [
    "comm2 = (jz | jp)"
   ]
  },
  {
   "cell_type": "code",
   "execution_count": 16,
   "metadata": {},
   "outputs": [
    {
     "data": {
      "text/latex": [
       "$$ \\mathbf{J^+}$$"
      ],
      "text/plain": [
       "<IPython.core.display.Math object>"
      ]
     },
     "execution_count": 16,
     "metadata": {},
     "output_type": "execute_result"
    }
   ],
   "source": [
    "comm2.simplify().display()"
   ]
  },
  {
   "cell_type": "markdown",
   "metadata": {},
   "source": [
    "## Coupled Cluster (CCD) for a Spin Hamiltonian"
   ]
  },
  {
   "cell_type": "markdown",
   "metadata": {},
   "source": [
    "We will use the Lipkin model Hamiltonian here to demonstrate CCD equations generation. Hamiltonian is parametrized by interaction strengths `x` and `y`\n",
    "\n",
    "$$\n",
    "H = xJ^z + y \\left( J^+ J^+ + J^- J^-\\right)\n",
    "$$"
   ]
  },
  {
   "cell_type": "code",
   "execution_count": 17,
   "metadata": {},
   "outputs": [
    {
     "data": {
      "text/latex": [
       "$$y  \\mathbf{J^+} \\mathbf{J^+}  + y  \\mathbf{J^-} \\mathbf{J^-}  + x  \\mathbf{J^z}$$"
      ],
      "text/plain": [
       "<IPython.core.display.Math object>"
      ]
     },
     "execution_count": 17,
     "metadata": {},
     "output_type": "execute_result"
    }
   ],
   "source": [
    "#Constructing the Hamiltonian\n",
    "hx = Symbol('x')\n",
    "hy = Symbol('y')\n",
    "\n",
    "ham = hx*jz + hy*(jp*jp + jm*jm)\n",
    "ham.simplify().display()"
   ]
  },
  {
   "cell_type": "markdown",
   "metadata": {},
   "source": [
    "The Hartree Fock part of the Hamiltonian is\n",
    "\n",
    "$$ H_0 = x J^z $$\n",
    "\n",
    "So we use \n",
    "\n",
    "$$ T = t J^+J^+ $$\n",
    "\n",
    "to build Coupled Cluster excitations."
   ]
  },
  {
   "cell_type": "code",
   "execution_count": 18,
   "metadata": {},
   "outputs": [],
   "source": [
    "#Cluster excitation operator definition\n",
    "t = Symbol('t')\n",
    "\n",
    "clusters = t * jp*jp"
   ]
  },
  {
   "cell_type": "markdown",
   "metadata": {},
   "source": [
    "Use the Baker-Campbell-Hausdorff expansion to build the effective Hamiltonian $\\bar{H}$"
   ]
  },
  {
   "cell_type": "code",
   "execution_count": 19,
   "metadata": {},
   "outputs": [
    {
     "name": "stdout",
     "output_type": "stream",
     "text": [
      "CPU times: user 3 µs, sys: 1 µs, total: 4 µs\n",
      "Wall time: 6.2 µs\n"
     ]
    }
   ],
   "source": [
    "#Similarity Transform of the Hamiltonian\n",
    "%time\n",
    "\n",
    "curr = ham\n",
    "h_bar = ham\n",
    "for order in range(0,5):\n",
    "    curr = (curr | clusters).simplify() / (order + 1)\n",
    "    h_bar += curr"
   ]
  },
  {
   "cell_type": "markdown",
   "metadata": {},
   "source": [
    "Every tensor has an attribute `n_terms` that keeps a track of the total number of terms"
   ]
  },
  {
   "cell_type": "code",
   "execution_count": 20,
   "metadata": {},
   "outputs": [
    {
     "data": {
      "text/plain": [
       "15"
      ]
     },
     "execution_count": 20,
     "metadata": {},
     "output_type": "execute_result"
    }
   ],
   "source": [
    "h_bar.n_terms"
   ]
  },
  {
   "cell_type": "code",
   "execution_count": 21,
   "metadata": {},
   "outputs": [
    {
     "data": {
      "text/latex": [
       "$$x  \\mathbf{J^z}  + y  \\mathbf{J^+} \\mathbf{J^+}  + y  \\mathbf{J^-} \\mathbf{J^-}  + 2 t x  \\mathbf{J^+} \\mathbf{J^+}  + 4 t y  \\mathbf{J^z} -  8 t y  \\mathbf{J^+} \\mathbf{J^z} \\mathbf{J^-}  + 8 t y  \\mathbf{J^z} \\mathbf{J^z} -  8 t y  \\mathbf{J^+} \\mathbf{J^-}  + 16 t^{2} y  \\mathbf{J^+} \\mathbf{J^+} \\mathbf{J^z} \\mathbf{J^z}  + 56 t^{2} y  \\mathbf{J^+} \\mathbf{J^+} \\mathbf{J^z} -  8 t^{2} y  \\mathbf{J^+} \\mathbf{J^+} \\mathbf{J^+} \\mathbf{J^-}  + 36 t^{2} y  \\mathbf{J^+} \\mathbf{J^+}  + 32 t^{3} y  \\mathbf{J^+} \\mathbf{J^+} \\mathbf{J^+} \\mathbf{J^+} \\mathbf{J^z}  + 64 t^{3} y  \\mathbf{J^+} \\mathbf{J^+} \\mathbf{J^+} \\mathbf{J^+}  + 16 t^{4} y  \\mathbf{J^+} \\mathbf{J^+} \\mathbf{J^+} \\mathbf{J^+} \\mathbf{J^+} \\mathbf{J^+}$$"
      ],
      "text/plain": [
       "<IPython.core.display.Math object>"
      ]
     },
     "execution_count": 21,
     "metadata": {},
     "output_type": "execute_result"
    }
   ],
   "source": [
    "h_bar.display()"
   ]
  },
  {
   "cell_type": "markdown",
   "metadata": {},
   "source": [
    "**MERGE function**: Generally, when we simplify any expression in drudge or sympy, the resulting expression is a expanded set of normal-ordered terms. But if you see the above expression, there are several terms which have the same operator part but different coefficients. The `merge` function grabs these operators together."
   ]
  },
  {
   "cell_type": "code",
   "execution_count": 22,
   "metadata": {},
   "outputs": [
    {
     "data": {
      "text/latex": [
       "$$32 t^{3} y  \\mathbf{J^+} \\mathbf{J^+} \\mathbf{J^+} \\mathbf{J^+} \\mathbf{J^z}  + \\left(4 t y + x\\right)  \\mathbf{J^z}  + 16 t^{2} y  \\mathbf{J^+} \\mathbf{J^+} \\mathbf{J^z} \\mathbf{J^z}  + 64 t^{3} y  \\mathbf{J^+} \\mathbf{J^+} \\mathbf{J^+} \\mathbf{J^+}  + 16 t^{4} y  \\mathbf{J^+} \\mathbf{J^+} \\mathbf{J^+} \\mathbf{J^+} \\mathbf{J^+} \\mathbf{J^+} -  8 t y  \\mathbf{J^+} \\mathbf{J^z} \\mathbf{J^-}  + 56 t^{2} y  \\mathbf{J^+} \\mathbf{J^+} \\mathbf{J^z} -  8 t^{2} y  \\mathbf{J^+} \\mathbf{J^+} \\mathbf{J^+} \\mathbf{J^-}  + y  \\mathbf{J^-} \\mathbf{J^-}  + 8 t y  \\mathbf{J^z} \\mathbf{J^z} -  8 t y  \\mathbf{J^+} \\mathbf{J^-}  + \\left(36 t^{2} y + 2 t x + y\\right)  \\mathbf{J^+} \\mathbf{J^+}$$"
      ],
      "text/plain": [
       "<IPython.core.display.Math object>"
      ]
     },
     "execution_count": 22,
     "metadata": {},
     "output_type": "execute_result"
    }
   ],
   "source": [
    "h_bar.merge().map2amps(factor).display()"
   ]
  },
  {
   "cell_type": "markdown",
   "metadata": {},
   "source": [
    "## Preparing Reports"
   ]
  },
  {
   "cell_type": "markdown",
   "metadata": {},
   "source": [
    "Jupyter-notebooks are generally quite-convenient to see outputs - but when you are **in a galaxy far far away ...** and prefer using python scripts to do the job instead, the display() command cannot do what it wants to.\n",
    "\n",
    "In such cases, you can use the `report` functionality of drudge, which can print out the expressions into an HTML or a LaTeX file"
   ]
  },
  {
   "cell_type": "code",
   "execution_count": 23,
   "metadata": {},
   "outputs": [],
   "source": [
    "with dr.report('report.html','Title of the Report') as rep:\n",
    "    rep.add('Hamiltonian',ham)\n",
    "    rep.add('Cluster Operator', clusters)\n",
    "    rep.add('HBar',h_bar.merge())\n",
    "\n",
    "with dr.report('report.tex','Title of the Report') as rep:\n",
    "    rep.add('Hamiltonian',ham)\n",
    "    rep.add('Cluster Operator', clusters)\n",
    "    rep.add('HBar',h_bar.merge())"
   ]
  },
  {
   "cell_type": "markdown",
   "metadata": {},
   "source": [
    "## The Bind and the Filter Functions"
   ]
  },
  {
   "cell_type": "markdown",
   "metadata": {},
   "source": [
    "Now, we want to compute the expressions for CCD energy and amplitude equations. Unlike fermionic drudges like `GenMBDrudge` or `PartHoleDrudge`, there is no inbuilt `eval_vev` or `eval_fermi_vev` (VEV: Vacuum Expectation Value) function for SU2 drudge.\n",
    "\n",
    "For Lipkin, while evaluating the expectation value over the Hartree Fock state, only the terms that include all $J^z$ survives (after normal ordering).\n",
    "\n",
    "Let's say \n",
    "\n",
    "\\begin{equation}\n",
    "\\langle \\phi \\left \\vert J^z \\right \\vert \\phi \\rangle = -N/2\n",
    "\\end{equation}\n",
    "\n",
    "then we can extract the expectation value by visual inspection or something similar with the help of the `filter` and `bind` functions in drudge."
   ]
  },
  {
   "cell_type": "markdown",
   "metadata": {},
   "source": [
    "**Filter out the terms with $J^z$ only**"
   ]
  },
  {
   "cell_type": "markdown",
   "metadata": {},
   "source": [
    "    Syntax: Tensor.filter( function )\n",
    "    function returns True / False for the terms we want to keep / discard respectively"
   ]
  },
  {
   "cell_type": "code",
   "execution_count": 24,
   "metadata": {},
   "outputs": [
    {
     "data": {
      "text/latex": [
       "$$32 t^{3} y  \\mathbf{J^+} \\mathbf{J^+} \\mathbf{J^+} \\mathbf{J^+} \\mathbf{J^z}  + \\left(4 t y + x\\right)  \\mathbf{J^z}  + 16 t^{2} y  \\mathbf{J^+} \\mathbf{J^+} \\mathbf{J^z} \\mathbf{J^z}  + 64 t^{3} y  \\mathbf{J^+} \\mathbf{J^+} \\mathbf{J^+} \\mathbf{J^+}  + 16 t^{4} y  \\mathbf{J^+} \\mathbf{J^+} \\mathbf{J^+} \\mathbf{J^+} \\mathbf{J^+} \\mathbf{J^+} -  8 t y  \\mathbf{J^+} \\mathbf{J^z} \\mathbf{J^-}  + 56 t^{2} y  \\mathbf{J^+} \\mathbf{J^+} \\mathbf{J^z} -  8 t^{2} y  \\mathbf{J^+} \\mathbf{J^+} \\mathbf{J^+} \\mathbf{J^-}  + y  \\mathbf{J^-} \\mathbf{J^-}  + 8 t y  \\mathbf{J^z} \\mathbf{J^z} -  8 t y  \\mathbf{J^+} \\mathbf{J^-}  + \\left(36 t^{2} y + 2 t x + y\\right)  \\mathbf{J^+} \\mathbf{J^+}$$"
      ],
      "text/plain": [
       "<IPython.core.display.Math object>"
      ]
     },
     "execution_count": 24,
     "metadata": {},
     "output_type": "execute_result"
    }
   ],
   "source": [
    "h_bar.merge().display()"
   ]
  },
  {
   "cell_type": "code",
   "execution_count": 25,
   "metadata": {},
   "outputs": [],
   "source": [
    "def jz_filter(term):\n",
    "    vecs = term.vecs\n",
    "    if len(vecs)==0:\n",
    "        return True\n",
    "    elif all(v.base == dr.cartan for v in vecs):\n",
    "        return True\n",
    "    else:\n",
    "        return False"
   ]
  },
  {
   "cell_type": "code",
   "execution_count": 26,
   "metadata": {},
   "outputs": [
    {
     "data": {
      "text/latex": [
       "$$x  \\mathbf{J^z}  + 4 t y  \\mathbf{J^z}  + 8 t y  \\mathbf{J^z} \\mathbf{J^z}$$"
      ],
      "text/plain": [
       "<IPython.core.display.Math object>"
      ]
     },
     "execution_count": 26,
     "metadata": {},
     "output_type": "execute_result"
    }
   ],
   "source": [
    "energy_op = h_bar.filter(jz_filter)\n",
    "energy_op.display()"
   ]
  },
  {
   "cell_type": "markdown",
   "metadata": {},
   "source": [
    "**Replace Vectors / Operators with the scalar expectation value**"
   ]
  },
  {
   "cell_type": "markdown",
   "metadata": {},
   "source": [
    "    Syntax: Tensor.bind( function )\n",
    "    function: maps the vectors (or more appropriately terms) into some scalar (or maybe another operator)"
   ]
  },
  {
   "cell_type": "markdown",
   "metadata": {},
   "source": [
    "First we define a function which creates the map"
   ]
  },
  {
   "cell_type": "code",
   "execution_count": 27,
   "metadata": {},
   "outputs": [],
   "source": [
    "def get_vev_of_term(term):\n",
    "    vecs = term.vecs\n",
    "    m = Symbol('N')\n",
    "    if len(vecs) == 0:\n",
    "        return term\n",
    "    \n",
    "    if all(i.base == j_z for i in vecs):\n",
    "        return [Term(sums=term.sums, amp=term.amp * (-m / 2) ** len(vecs), vecs=())]\n",
    "    else:\n",
    "        return []\n"
   ]
  },
  {
   "cell_type": "markdown",
   "metadata": {},
   "source": [
    "Energy equation"
   ]
  },
  {
   "cell_type": "code",
   "execution_count": 28,
   "metadata": {},
   "outputs": [
    {
     "data": {
      "text/latex": [
       "$$-  \\frac{N x}{2}  -  2 N t y   + 2 N^{2} t y $$"
      ],
      "text/plain": [
       "<IPython.core.display.Math object>"
      ]
     },
     "execution_count": 28,
     "metadata": {},
     "output_type": "execute_result"
    }
   ],
   "source": [
    "en_eqn = h_bar.bind(get_vev_of_term)\n",
    "en_eqn.simplify().display()"
   ]
  },
  {
   "cell_type": "markdown",
   "metadata": {},
   "source": [
    "Amplitude equation $ \\quad R = \\langle \\phi \\left \\vert J^-J^- \\bar{H} \\right \\vert \\phi \\rangle$"
   ]
  },
  {
   "cell_type": "code",
   "execution_count": 29,
   "metadata": {},
   "outputs": [],
   "source": [
    "jm2_hbar = (jm * jm * h_bar).simplify()"
   ]
  },
  {
   "cell_type": "code",
   "execution_count": 30,
   "metadata": {},
   "outputs": [],
   "source": [
    "r_eq = jm2_hbar.bind(get_vev_of_term)"
   ]
  },
  {
   "cell_type": "code",
   "execution_count": 31,
   "metadata": {},
   "outputs": [
    {
     "data": {
      "text/latex": [
       "$$-  2 N y   + 2 N^{2} y  -  72 N t^{2} y  -  64 N^{3} t^{2} y  -  4 N t x   + 4 N^{2} t x   + 8 N^{4} t^{2} y   + 128 N^{2} t^{2} y $$"
      ],
      "text/plain": [
       "<IPython.core.display.Math object>"
      ]
     },
     "execution_count": 31,
     "metadata": {},
     "output_type": "execute_result"
    }
   ],
   "source": [
    "r_eq.simplify().display()"
   ]
  }
 ],
 "metadata": {
  "kernelspec": {
   "display_name": "Python 3",
   "language": "python",
   "name": "python3"
  },
  "language_info": {
   "codemirror_mode": {
    "name": "ipython",
    "version": 3
   },
   "file_extension": ".py",
   "mimetype": "text/x-python",
   "name": "python",
   "nbconvert_exporter": "python",
   "pygments_lexer": "ipython3",
   "version": "3.6.2"
  }
 },
 "nbformat": 4,
 "nbformat_minor": 2
}
