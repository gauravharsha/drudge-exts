{
 "cells": [
  {
   "cell_type": "markdown",
   "metadata": {},
   "source": [
    "# SU2 Drudge Example"
   ]
  },
  {
   "cell_type": "markdown",
   "metadata": {},
   "source": [
    "In this example, we use the SU2 Drudge to show the various components - vectors, terms, etc. in the drudge structure. We then show how to use these objects to do some simple algebra by using the commutation relations."
   ]
  },
  {
   "cell_type": "markdown",
   "metadata": {},
   "source": [
    "## Initializing stuff"
   ]
  },
  {
   "cell_type": "markdown",
   "metadata": {},
   "source": [
    "`pyspark` is a general-purpose parallel cluster-computing framework.\n",
    "`dummy_spark` is a serialized emulator for the same."
   ]
  },
  {
   "cell_type": "code",
   "execution_count": 1,
   "metadata": {},
   "outputs": [],
   "source": [
    "# from pyspark import SparkContext\n",
    "from dummy_spark import SparkContext\n",
    "ctx = SparkContext()"
   ]
  },
  {
   "cell_type": "code",
   "execution_count": 2,
   "metadata": {},
   "outputs": [],
   "source": [
    "from sympy import *\n",
    "from drudge import *"
   ]
  },
  {
   "cell_type": "markdown",
   "metadata": {},
   "source": [
    "Initialize the SU2LatticeDrudge. More parameters can be passed into the initialization - check by using the help option"
   ]
  },
  {
   "cell_type": "code",
   "execution_count": 3,
   "metadata": {},
   "outputs": [],
   "source": [
    "dr = SU2LatticeDrudge(ctx)"
   ]
  },
  {
   "cell_type": "code",
   "execution_count": null,
   "metadata": {},
   "outputs": [],
   "source": [
    "help(SU2LatticeDrudge)"
   ]
  },
  {
   "cell_type": "markdown",
   "metadata": {},
   "source": [
    "Every Drudge comes with a `namespace` which stores the names to various attributes/elements of the drudge."
   ]
  },
  {
   "cell_type": "code",
   "execution_count": 4,
   "metadata": {},
   "outputs": [],
   "source": [
    "p = dr.names\n",
    "j_z = p.J_\n",
    "j_p = p.J_p\n",
    "j_m = p.J_m"
   ]
  },
  {
   "cell_type": "markdown",
   "metadata": {},
   "source": [
    "The basic operators are recognized as `Vectors` - these are the building blocks of a `Term`"
   ]
  },
  {
   "cell_type": "code",
   "execution_count": 5,
   "metadata": {},
   "outputs": [
    {
     "data": {
      "text/plain": [
       "drudge.term.Vec"
      ]
     },
     "execution_count": 5,
     "metadata": {},
     "output_type": "execute_result"
    }
   ],
   "source": [
    "type(j_z)"
   ]
  },
  {
   "cell_type": "code",
   "execution_count": 6,
   "metadata": {},
   "outputs": [
    {
     "data": {
      "text/plain": [
       "drudge.term.Terms"
      ]
     },
     "execution_count": 6,
     "metadata": {},
     "output_type": "execute_result"
    }
   ],
   "source": [
    "x = (j_z | j_p)\n",
    "type(x)"
   ]
  },
  {
   "cell_type": "markdown",
   "metadata": {},
   "source": [
    "Terms / Vectors alone do not come with display, simplify, etc. options. These are associated with Tensors."
   ]
  },
  {
   "cell_type": "code",
   "execution_count": 7,
   "metadata": {},
   "outputs": [],
   "source": [
    "jp = dr.sum(j_p)\n",
    "jm = dr.simplify(j_m)\n",
    "jz = dr.einst(j_z)"
   ]
  },
  {
   "cell_type": "code",
   "execution_count": 8,
   "metadata": {},
   "outputs": [
    {
     "data": {
      "text/plain": [
       "drudge.drudge.Tensor"
      ]
     },
     "execution_count": 8,
     "metadata": {},
     "output_type": "execute_result"
    }
   ],
   "source": [
    "type(jz)"
   ]
  },
  {
   "cell_type": "code",
   "execution_count": 9,
   "metadata": {},
   "outputs": [
    {
     "data": {
      "text/latex": [
       "$$ \\mathbf{J^z}$$"
      ],
      "text/plain": [
       "<IPython.core.display.Math object>"
      ]
     },
     "execution_count": 9,
     "metadata": {},
     "output_type": "execute_result"
    }
   ],
   "source": [
    "jz.simplify().display()"
   ]
  },
  {
   "cell_type": "code",
   "execution_count": 10,
   "metadata": {},
   "outputs": [
    {
     "data": {
      "text/latex": [
       "$$ \\mathbf{J^+}$$"
      ],
      "text/plain": [
       "<IPython.core.display.Math object>"
      ]
     },
     "execution_count": 10,
     "metadata": {},
     "output_type": "execute_result"
    }
   ],
   "source": [
    "jp.display()"
   ]
  },
  {
   "cell_type": "code",
   "execution_count": 11,
   "metadata": {},
   "outputs": [
    {
     "data": {
      "text/latex": [
       "$$ \\mathbf{J^-}$$"
      ],
      "text/plain": [
       "<IPython.core.display.Math object>"
      ]
     },
     "execution_count": 11,
     "metadata": {},
     "output_type": "execute_result"
    }
   ],
   "source": [
    "jm.display()"
   ]
  },
  {
   "cell_type": "markdown",
   "metadata": {},
   "source": [
    "## Commutators"
   ]
  },
  {
   "cell_type": "markdown",
   "metadata": {},
   "source": [
    "Let's verify the SU(2) commutation rules"
   ]
  },
  {
   "cell_type": "markdown",
   "metadata": {},
   "source": [
    "\\begin{align}\n",
    "[ J^+ , J^-] &= 2J^z\\\\\n",
    "[ J^z , J^+] &= J^+\\\\\n",
    "[ J^z , J^-] &= -J^-\n",
    "\\end{align}"
   ]
  },
  {
   "cell_type": "markdown",
   "metadata": {},
   "source": [
    "**First commutator**"
   ]
  },
  {
   "cell_type": "code",
   "execution_count": 12,
   "metadata": {},
   "outputs": [
    {
     "data": {
      "text/latex": [
       "$$ \\mathbf{J^+} \\mathbf{J^-} -  \\mathbf{J^-} \\mathbf{J^+}$$"
      ],
      "text/plain": [
       "<IPython.core.display.Math object>"
      ]
     },
     "execution_count": 12,
     "metadata": {},
     "output_type": "execute_result"
    }
   ],
   "source": [
    "comm1 = (jp | jm)\n",
    "comm1.display()"
   ]
  },
  {
   "cell_type": "code",
   "execution_count": 13,
   "metadata": {},
   "outputs": [
    {
     "data": {
      "text/latex": [
       "$$2  \\mathbf{J^z}$$"
      ],
      "text/plain": [
       "<IPython.core.display.Math object>"
      ]
     },
     "execution_count": 13,
     "metadata": {},
     "output_type": "execute_result"
    }
   ],
   "source": [
    "comm1 = dr.simplify(comm1)\n",
    "comm1.display()"
   ]
  },
  {
   "cell_type": "markdown",
   "metadata": {},
   "source": [
    "**Second Commutator**"
   ]
  },
  {
   "cell_type": "code",
   "execution_count": 14,
   "metadata": {},
   "outputs": [],
   "source": [
    "comm2 = (jz | jp)"
   ]
  },
  {
   "cell_type": "code",
   "execution_count": 15,
   "metadata": {},
   "outputs": [
    {
     "data": {
      "text/latex": [
       "$$ \\mathbf{J^+}$$"
      ],
      "text/plain": [
       "<IPython.core.display.Math object>"
      ]
     },
     "execution_count": 15,
     "metadata": {},
     "output_type": "execute_result"
    }
   ],
   "source": [
    "comm2.simplify().display()"
   ]
  },
  {
   "cell_type": "markdown",
   "metadata": {},
   "source": [
    "## Coupled Cluster (CCD) for a Spin Hamiltonian"
   ]
  },
  {
   "cell_type": "markdown",
   "metadata": {},
   "source": [
    "We will use the Lipkin model Hamiltonian here to demonstrate CCD equations generation. Hamiltonian is parametrized by interaction strengths `x` and `y`\n",
    "\n",
    "$$\n",
    "H = xJ^z + y \\left( J^+ J^+ + J^- J^-\\right)\n",
    "$$"
   ]
  },
  {
   "cell_type": "code",
   "execution_count": 16,
   "metadata": {},
   "outputs": [
    {
     "data": {
      "text/latex": [
       "$$y  \\mathbf{J^+} \\mathbf{J^+}  + x  \\mathbf{J^z}  + y  \\mathbf{J^-} \\mathbf{J^-}$$"
      ],
      "text/plain": [
       "<IPython.core.display.Math object>"
      ]
     },
     "execution_count": 16,
     "metadata": {},
     "output_type": "execute_result"
    }
   ],
   "source": [
    "#Constructing the Hamiltonian\n",
    "hx = Symbol('x')\n",
    "hy = Symbol('y')\n",
    "\n",
    "ham = hx*jz + hy*(jp*jp + jm*jm)\n",
    "ham.simplify().display()"
   ]
  },
  {
   "cell_type": "markdown",
   "metadata": {},
   "source": [
    "The Hartree Fock part of the Hamiltonian is\n",
    "\n",
    "$$ H_0 = x J^z $$\n",
    "\n",
    "So we use \n",
    "\n",
    "$$ T = t J^+J^+ $$\n",
    "\n",
    "to build Coupled Cluster excitations."
   ]
  },
  {
   "cell_type": "code",
   "execution_count": 17,
   "metadata": {},
   "outputs": [],
   "source": [
    "#Cluster excitation operator definition\n",
    "t = Symbol('t')\n",
    "\n",
    "clusters = t * jp*jp"
   ]
  },
  {
   "cell_type": "markdown",
   "metadata": {},
   "source": [
    "Use the Baker-Campbell-Hausdorff expansion to build the effective Hamiltonian $\\bar{H}$"
   ]
  },
  {
   "cell_type": "code",
   "execution_count": 18,
   "metadata": {},
   "outputs": [
    {
     "name": "stdout",
     "output_type": "stream",
     "text": [
      "CPU times: user 1e+03 ns, sys: 0 ns, total: 1e+03 ns\n",
      "Wall time: 4.29 µs\n"
     ]
    }
   ],
   "source": [
    "#Similarity Transform of the Hamiltonian\n",
    "%time\n",
    "\n",
    "curr = ham\n",
    "h_bar = ham\n",
    "for order in range(0,5):\n",
    "    curr = (curr | clusters).simplify() / (order + 1)\n",
    "    h_bar += curr"
   ]
  },
  {
   "cell_type": "markdown",
   "metadata": {},
   "source": [
    "Every tensor has an attribute `n_terms` that keeps a track of the total number of terms"
   ]
  },
  {
   "cell_type": "code",
   "execution_count": 19,
   "metadata": {},
   "outputs": [
    {
     "data": {
      "text/plain": [
       "15"
      ]
     },
     "execution_count": 19,
     "metadata": {},
     "output_type": "execute_result"
    }
   ],
   "source": [
    "h_bar.n_terms"
   ]
  },
  {
   "cell_type": "code",
   "execution_count": 20,
   "metadata": {},
   "outputs": [
    {
     "data": {
      "text/latex": [
       "$$x  \\mathbf{J^z}  + y  \\mathbf{J^+} \\mathbf{J^+}  + y  \\mathbf{J^-} \\mathbf{J^-}  + 4 t y  \\mathbf{J^z}  + 8 t y  \\mathbf{J^z} \\mathbf{J^z}  + 2 t x  \\mathbf{J^+} \\mathbf{J^+} -  8 t y  \\mathbf{J^+} \\mathbf{J^-} -  8 t y  \\mathbf{J^+} \\mathbf{J^z} \\mathbf{J^-} -  8 t^{2} y  \\mathbf{J^+} \\mathbf{J^+} \\mathbf{J^+} \\mathbf{J^-}  + 36 t^{2} y  \\mathbf{J^+} \\mathbf{J^+}  + 16 t^{2} y  \\mathbf{J^+} \\mathbf{J^+} \\mathbf{J^z} \\mathbf{J^z}  + 56 t^{2} y  \\mathbf{J^+} \\mathbf{J^+} \\mathbf{J^z}  + 64 t^{3} y  \\mathbf{J^+} \\mathbf{J^+} \\mathbf{J^+} \\mathbf{J^+}  + 32 t^{3} y  \\mathbf{J^+} \\mathbf{J^+} \\mathbf{J^+} \\mathbf{J^+} \\mathbf{J^z}  + 16 t^{4} y  \\mathbf{J^+} \\mathbf{J^+} \\mathbf{J^+} \\mathbf{J^+} \\mathbf{J^+} \\mathbf{J^+}$$"
      ],
      "text/plain": [
       "<IPython.core.display.Math object>"
      ]
     },
     "execution_count": 20,
     "metadata": {},
     "output_type": "execute_result"
    }
   ],
   "source": [
    "h_bar.display()"
   ]
  },
  {
   "cell_type": "markdown",
   "metadata": {},
   "source": [
    "**MERGE function**: Generally, when we simplify any expression in drudge or sympy, the resulting expression is a expanded set of normal-ordered terms. But if you see the above expression, there are several terms which have the same operator part but different coefficients. The `merge` function grabs these operators together."
   ]
  },
  {
   "cell_type": "code",
   "execution_count": 22,
   "metadata": {},
   "outputs": [
    {
     "data": {
      "text/latex": [
       "$$\\left(4 t y + x\\right)  \\mathbf{J^z} -  8 t^{2} y  \\mathbf{J^+} \\mathbf{J^+} \\mathbf{J^+} \\mathbf{J^-}  + 16 t^{4} y  \\mathbf{J^+} \\mathbf{J^+} \\mathbf{J^+} \\mathbf{J^+} \\mathbf{J^+} \\mathbf{J^+}  + 8 t y  \\mathbf{J^z} \\mathbf{J^z}  + 32 t^{3} y  \\mathbf{J^+} \\mathbf{J^+} \\mathbf{J^+} \\mathbf{J^+} \\mathbf{J^z}  + \\left(36 t^{2} y + 2 t x + y\\right)  \\mathbf{J^+} \\mathbf{J^+}  + 16 t^{2} y  \\mathbf{J^+} \\mathbf{J^+} \\mathbf{J^z} \\mathbf{J^z} -  8 t y  \\mathbf{J^+} \\mathbf{J^-}  + 64 t^{3} y  \\mathbf{J^+} \\mathbf{J^+} \\mathbf{J^+} \\mathbf{J^+}  + 56 t^{2} y  \\mathbf{J^+} \\mathbf{J^+} \\mathbf{J^z}  + y  \\mathbf{J^-} \\mathbf{J^-} -  8 t y  \\mathbf{J^+} \\mathbf{J^z} \\mathbf{J^-}$$"
      ],
      "text/plain": [
       "<IPython.core.display.Math object>"
      ]
     },
     "execution_count": 22,
     "metadata": {},
     "output_type": "execute_result"
    }
   ],
   "source": [
    "h_bar.merge().map2amps(factor).display()"
   ]
  },
  {
   "cell_type": "markdown",
   "metadata": {},
   "source": [
    "## Preparing Reports"
   ]
  },
  {
   "cell_type": "markdown",
   "metadata": {},
   "source": [
    "Jupyter-notebooks are generally quite-convenient to see outputs - but when you are **in a galaxy far far away ...** and prefer using python scripts to do the job instead, the display() command cannot do what it wants to.\n",
    "\n",
    "In such cases, you can use the `report` functionality of drudge, which can print out the expressions into an HTML or a LaTeX file"
   ]
  },
  {
   "cell_type": "code",
   "execution_count": 23,
   "metadata": {},
   "outputs": [],
   "source": [
    "with dr.report('report.html','Title of the Report') as rep:\n",
    "    rep.add('Hamiltonian',ham)\n",
    "    rep.add('Cluster Operator', clusters)\n",
    "    rep.add('HBar',h_bar.merge())\n",
    "\n",
    "with dr.report('report.tex','Title of the Report') as rep:\n",
    "    rep.add('Hamiltonian',ham)\n",
    "    rep.add('Cluster Operator', clusters)\n",
    "    rep.add('HBar',h_bar.merge())"
   ]
  },
  {
   "cell_type": "markdown",
   "metadata": {},
   "source": [
    "## The Bind and the Filter Functions"
   ]
  },
  {
   "cell_type": "markdown",
   "metadata": {},
   "source": [
    "Now, we want to compute the expressions for CCD energy and amplitude equations. Unlike fermionic drudges like `GenMBDrudge` or `PartHoleDrudge`, there is no inbuilt `eval_vev` or `eval_fermi_vev` (VEV: Vacuum Expectation Value) function for SU2 drudge.\n",
    "\n",
    "For Lipkin, while evaluating the expectation value over the Hartree Fock state, only the terms that include all $J^z$ survives (after normal ordering).\n",
    "\n",
    "Let's say \n",
    "\n",
    "\\begin{equation}\n",
    "\\langle \\phi \\left \\vert J^z \\right \\vert \\phi \\rangle = -N/2\n",
    "\\end{equation}\n",
    "\n",
    "then we can extract the expectation value by visual inspection or something similar with the help of the `filter` and `bind` functions in drudge."
   ]
  },
  {
   "cell_type": "markdown",
   "metadata": {},
   "source": [
    "**Filter out the terms with $J^z$ only**"
   ]
  },
  {
   "cell_type": "markdown",
   "metadata": {},
   "source": [
    "    Syntax: Tensor.filter( function )\n",
    "    function returns True / False for the terms we want to keep / discard respectively"
   ]
  },
  {
   "cell_type": "code",
   "execution_count": 24,
   "metadata": {},
   "outputs": [
    {
     "data": {
      "text/latex": [
       "$$\\left(4 t y + x\\right)  \\mathbf{J^z} -  8 t^{2} y  \\mathbf{J^+} \\mathbf{J^+} \\mathbf{J^+} \\mathbf{J^-}  + 16 t^{4} y  \\mathbf{J^+} \\mathbf{J^+} \\mathbf{J^+} \\mathbf{J^+} \\mathbf{J^+} \\mathbf{J^+}  + 8 t y  \\mathbf{J^z} \\mathbf{J^z}  + 32 t^{3} y  \\mathbf{J^+} \\mathbf{J^+} \\mathbf{J^+} \\mathbf{J^+} \\mathbf{J^z}  + \\left(36 t^{2} y + 2 t x + y\\right)  \\mathbf{J^+} \\mathbf{J^+}  + 16 t^{2} y  \\mathbf{J^+} \\mathbf{J^+} \\mathbf{J^z} \\mathbf{J^z} -  8 t y  \\mathbf{J^+} \\mathbf{J^-}  + 64 t^{3} y  \\mathbf{J^+} \\mathbf{J^+} \\mathbf{J^+} \\mathbf{J^+}  + 56 t^{2} y  \\mathbf{J^+} \\mathbf{J^+} \\mathbf{J^z}  + y  \\mathbf{J^-} \\mathbf{J^-} -  8 t y  \\mathbf{J^+} \\mathbf{J^z} \\mathbf{J^-}$$"
      ],
      "text/plain": [
       "<IPython.core.display.Math object>"
      ]
     },
     "execution_count": 24,
     "metadata": {},
     "output_type": "execute_result"
    }
   ],
   "source": [
    "h_bar.merge().display()"
   ]
  },
  {
   "cell_type": "code",
   "execution_count": 26,
   "metadata": {},
   "outputs": [],
   "source": [
    "def jz_filter(term):\n",
    "    vecs = term.vecs\n",
    "    if len(vecs)==0:\n",
    "        return True\n",
    "    elif all(v.base == dr.cartan for v in vecs):\n",
    "        return True\n",
    "    else:\n",
    "        return False"
   ]
  },
  {
   "cell_type": "code",
   "execution_count": 27,
   "metadata": {},
   "outputs": [
    {
     "data": {
      "text/latex": [
       "$$x  \\mathbf{J^z}  + 4 t y  \\mathbf{J^z}  + 8 t y  \\mathbf{J^z} \\mathbf{J^z}$$"
      ],
      "text/plain": [
       "<IPython.core.display.Math object>"
      ]
     },
     "execution_count": 27,
     "metadata": {},
     "output_type": "execute_result"
    }
   ],
   "source": [
    "energy_op = h_bar.filter(jz_filter)\n",
    "energy_op.display()"
   ]
  },
  {
   "cell_type": "markdown",
   "metadata": {},
   "source": [
    "**Replace Vectors / Operators with the scalar expectation value**"
   ]
  },
  {
   "cell_type": "markdown",
   "metadata": {},
   "source": [
    "    Syntax: Tensor.bind( function )\n",
    "    function: maps the vectors (or more appropriately terms) into some scalar (or maybe another operator)"
   ]
  },
  {
   "cell_type": "markdown",
   "metadata": {},
   "source": [
    "First we define a function which creates the map"
   ]
  },
  {
   "cell_type": "code",
   "execution_count": 28,
   "metadata": {},
   "outputs": [],
   "source": [
    "def get_vev_of_term(term):\n",
    "    vecs = term.vecs\n",
    "    m = Symbol('N')\n",
    "    if len(vecs) == 0:\n",
    "        return term\n",
    "    \n",
    "    if all(i.base == j_z for i in vecs):\n",
    "        return [Term(sums=term.sums, amp=term.amp * (-m / 2) ** len(vecs), vecs=())]\n",
    "    else:\n",
    "        return []\n"
   ]
  },
  {
   "cell_type": "markdown",
   "metadata": {},
   "source": [
    "Energy equation"
   ]
  },
  {
   "cell_type": "code",
   "execution_count": 29,
   "metadata": {},
   "outputs": [
    {
     "data": {
      "text/latex": [
       "$$-  \\frac{N x}{2}  -  2 N t y   + 2 N^{2} t y $$"
      ],
      "text/plain": [
       "<IPython.core.display.Math object>"
      ]
     },
     "execution_count": 29,
     "metadata": {},
     "output_type": "execute_result"
    }
   ],
   "source": [
    "en_eqn = h_bar.bind(get_vev_of_term)\n",
    "en_eqn.simplify().display()"
   ]
  },
  {
   "cell_type": "markdown",
   "metadata": {},
   "source": [
    "Amplitude equation $ \\quad R = \\langle \\phi \\left \\vert J^-J^- \\bar{H} \\right \\vert \\phi \\rangle$"
   ]
  },
  {
   "cell_type": "code",
   "execution_count": 30,
   "metadata": {},
   "outputs": [],
   "source": [
    "jm2_hbar = (jm * jm * h_bar).simplify()"
   ]
  },
  {
   "cell_type": "code",
   "execution_count": 31,
   "metadata": {},
   "outputs": [],
   "source": [
    "r_eq = jm2_hbar.bind(get_vev_of_term)"
   ]
  },
  {
   "cell_type": "code",
   "execution_count": 32,
   "metadata": {},
   "outputs": [
    {
     "data": {
      "text/latex": [
       "$$-  2 N y   + 2 N^{2} y  -  72 N t^{2} y  -  64 N^{3} t^{2} y  -  4 N t x   + 4 N^{2} t x   + 8 N^{4} t^{2} y   + 128 N^{2} t^{2} y $$"
      ],
      "text/plain": [
       "<IPython.core.display.Math object>"
      ]
     },
     "execution_count": 32,
     "metadata": {},
     "output_type": "execute_result"
    }
   ],
   "source": [
    "r_eq.simplify().display()"
   ]
  },
  {
   "cell_type": "code",
   "execution_count": null,
   "metadata": {},
   "outputs": [],
   "source": []
  }
 ],
 "metadata": {
  "kernelspec": {
   "display_name": "Python 3",
   "language": "python",
   "name": "python3"
  },
  "language_info": {
   "codemirror_mode": {
    "name": "ipython",
    "version": 3
   },
   "file_extension": ".py",
   "mimetype": "text/x-python",
   "name": "python",
   "nbconvert_exporter": "python",
   "pygments_lexer": "ipython3",
   "version": "3.6.2"
  }
 },
 "nbformat": 4,
 "nbformat_minor": 2
}
