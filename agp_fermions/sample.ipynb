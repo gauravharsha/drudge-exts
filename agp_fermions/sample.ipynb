{
 "cells": [
  {
   "cell_type": "markdown",
   "metadata": {},
   "source": [
    "## Initialize"
   ]
  },
  {
   "cell_type": "code",
   "execution_count": 1,
   "metadata": {},
   "outputs": [],
   "source": [
    "from dummy_spark import SparkContext\n",
    "# from pyspark import SparkContext"
   ]
  },
  {
   "cell_type": "code",
   "execution_count": 2,
   "metadata": {},
   "outputs": [],
   "source": [
    "from sympy import *\n",
    "from drudge import *\n",
    "from agp_fermi import *"
   ]
  },
  {
   "cell_type": "code",
   "execution_count": 3,
   "metadata": {},
   "outputs": [],
   "source": [
    "ctx = SparkContext()"
   ]
  },
  {
   "cell_type": "code",
   "execution_count": 4,
   "metadata": {},
   "outputs": [],
   "source": [
    "dr = AGPFermi(ctx)"
   ]
  },
  {
   "cell_type": "code",
   "execution_count": 5,
   "metadata": {},
   "outputs": [],
   "source": [
    "names = dr.names"
   ]
  },
  {
   "cell_type": "code",
   "execution_count": 6,
   "metadata": {},
   "outputs": [],
   "source": [
    "p, q, r, s  = names.A_dumms[:4]"
   ]
  },
  {
   "cell_type": "markdown",
   "metadata": {},
   "source": [
    "## Creation / annihilation operators"
   ]
  },
  {
   "cell_type": "code",
   "execution_count": 7,
   "metadata": {},
   "outputs": [],
   "source": [
    "c_p = dr.sum(names.c_[p, UP])"
   ]
  },
  {
   "cell_type": "code",
   "execution_count": 8,
   "metadata": {},
   "outputs": [],
   "source": [
    "cdag_p = dr.sum(names.c_dag[p, DOWN])"
   ]
  },
  {
   "cell_type": "code",
   "execution_count": 9,
   "metadata": {},
   "outputs": [
    {
     "data": {
      "text/plain": [
       "drudge.term.Vec"
      ]
     },
     "execution_count": 9,
     "metadata": {},
     "output_type": "execute_result"
    }
   ],
   "source": [
    "cp2 = names.c_[p, UP]\n",
    "type(cp2)"
   ]
  },
  {
   "cell_type": "code",
   "execution_count": 10,
   "metadata": {},
   "outputs": [
    {
     "name": "stdout",
     "output_type": "stream",
     "text": [
      "c\n",
      "(CranChar.AN, p, SpinOneHalf.UP)\n"
     ]
    }
   ],
   "source": [
    "print(cp2.base)\n",
    "print(cp2.indices)"
   ]
  },
  {
   "cell_type": "code",
   "execution_count": 11,
   "metadata": {},
   "outputs": [
    {
     "data": {
      "text/latex": [
       "$\\displaystyle  c^{}_{p, \\uparrow} c^{\\dagger}_{p, \\downarrow}  +  c^{\\dagger}_{p, \\downarrow} c^{}_{p, \\uparrow}$"
      ],
      "text/plain": [
       "<IPython.core.display.Math object>"
      ]
     },
     "execution_count": 11,
     "metadata": {},
     "output_type": "execute_result"
    }
   ],
   "source": [
    "(c_p*cdag_p + cdag_p*c_p).display()"
   ]
  },
  {
   "cell_type": "code",
   "execution_count": 12,
   "metadata": {},
   "outputs": [
    {
     "data": {
      "text/latex": [
       "$\\displaystyle 0$"
      ],
      "text/plain": [
       "<IPython.core.display.Math object>"
      ]
     },
     "execution_count": 12,
     "metadata": {},
     "output_type": "execute_result"
    }
   ],
   "source": [
    "dr.simplify(c_p*cdag_p + cdag_p*c_p).display()"
   ]
  },
  {
   "cell_type": "code",
   "execution_count": 13,
   "metadata": {},
   "outputs": [
    {
     "data": {
      "text/latex": [
       "$\\displaystyle  c^{\\dagger}_{p, \\uparrow}$"
      ],
      "text/plain": [
       "<IPython.core.display.Math object>"
      ]
     },
     "execution_count": 13,
     "metadata": {},
     "output_type": "execute_result"
    }
   ],
   "source": [
    "(dr.fermi_dr.dagger(c_p)).display()"
   ]
  },
  {
   "cell_type": "markdown",
   "metadata": {},
   "source": [
    "## Pairing operators"
   ]
  },
  {
   "cell_type": "code",
   "execution_count": 14,
   "metadata": {},
   "outputs": [],
   "source": [
    "P_p = dr.sum( dr.P[p] )\n",
    "Pdag_q = dr.sum( dr.Pdag[q] )"
   ]
  },
  {
   "cell_type": "code",
   "execution_count": 15,
   "metadata": {},
   "outputs": [
    {
     "data": {
      "text/latex": [
       "$\\displaystyle  \\mathbf{P^\\dagger}_{q}$"
      ],
      "text/plain": [
       "<IPython.core.display.Math object>"
      ]
     },
     "execution_count": 15,
     "metadata": {},
     "output_type": "execute_result"
    }
   ],
   "source": [
    "Pdag_q.display()"
   ]
  },
  {
   "cell_type": "code",
   "execution_count": 16,
   "metadata": {},
   "outputs": [
    {
     "data": {
      "text/latex": [
       "$\\displaystyle  \\mathbf{P}_{p}$"
      ],
      "text/plain": [
       "<IPython.core.display.Math object>"
      ]
     },
     "execution_count": 16,
     "metadata": {},
     "output_type": "execute_result"
    }
   ],
   "source": [
    "P_p.display()"
   ]
  },
  {
   "cell_type": "code",
   "execution_count": 17,
   "metadata": {},
   "outputs": [
    {
     "data": {
      "text/latex": [
       "$\\displaystyle \\delta_{p q}  -  \\delta_{p q}  \\mathbf{N}_{p}$"
      ],
      "text/plain": [
       "<IPython.core.display.Math object>"
      ]
     },
     "execution_count": 17,
     "metadata": {},
     "output_type": "execute_result"
    }
   ],
   "source": [
    "expr = dr.simplify(P_p * Pdag_q - Pdag_q * P_p)\n",
    "expr.display()"
   ]
  },
  {
   "cell_type": "markdown",
   "metadata": {},
   "source": [
    "## Spin range sum"
   ]
  },
  {
   "cell_type": "code",
   "execution_count": 18,
   "metadata": {},
   "outputs": [
    {
     "data": {
      "text/latex": [
       "$\\displaystyle  c^{}_{p, \\uparrow}$"
      ],
      "text/plain": [
       "<IPython.core.display.Math object>"
      ]
     },
     "execution_count": 18,
     "metadata": {},
     "output_type": "execute_result"
    }
   ],
   "source": [
    "dr.sum(names.c_[p,UP]).display()"
   ]
  },
  {
   "cell_type": "code",
   "execution_count": 19,
   "metadata": {},
   "outputs": [
    {
     "data": {
      "text/latex": [
       "$\\displaystyle \\sum_{\\sigma_{0} \\in \\uparrow \\downarrow}  c^{}_{p, \\sigma_{0}}$"
      ],
      "text/plain": [
       "<IPython.core.display.Math object>"
      ]
     },
     "execution_count": 19,
     "metadata": {},
     "output_type": "execute_result"
    }
   ],
   "source": [
    "(dr.sum((s,dr.spin_range),names.c_[p,s])).simplify().display()"
   ]
  },
  {
   "cell_type": "markdown",
   "metadata": {},
   "source": [
    "## Spin flip su(2)"
   ]
  },
  {
   "cell_type": "code",
   "execution_count": 20,
   "metadata": {},
   "outputs": [],
   "source": [
    "Sp = dr.sum(names.J_p[p])\n",
    "Sm = dr.sum(names.J_m[q])"
   ]
  },
  {
   "cell_type": "code",
   "execution_count": 21,
   "metadata": {},
   "outputs": [
    {
     "data": {
      "text/latex": [
       "$\\displaystyle  \\mathbf{J^+}_{p}$"
      ],
      "text/plain": [
       "<IPython.core.display.Math object>"
      ]
     },
     "execution_count": 21,
     "metadata": {},
     "output_type": "execute_result"
    }
   ],
   "source": [
    "Sp.display()"
   ]
  },
  {
   "cell_type": "code",
   "execution_count": 22,
   "metadata": {},
   "outputs": [
    {
     "data": {
      "text/latex": [
       "$\\displaystyle 2 \\delta_{p q}  \\mathbf{J^z}_{q}$"
      ],
      "text/plain": [
       "<IPython.core.display.Math object>"
      ]
     },
     "execution_count": 22,
     "metadata": {},
     "output_type": "execute_result"
    }
   ],
   "source": [
    "expr = dr.simplify( Sp * Sm - Sm * Sp )\n",
    "expr.display()"
   ]
  },
  {
   "cell_type": "markdown",
   "metadata": {},
   "source": [
    "## Relation between spin flip and bcs"
   ]
  },
  {
   "cell_type": "code",
   "execution_count": 23,
   "metadata": {},
   "outputs": [
    {
     "data": {
      "text/latex": [
       "$\\displaystyle  \\mathbf{J^+}_{p} \\mathbf{P^\\dagger}_{q} \\mathbf{J^-}_{q}$"
      ],
      "text/plain": [
       "<IPython.core.display.Math object>"
      ]
     },
     "execution_count": 23,
     "metadata": {},
     "output_type": "execute_result"
    }
   ],
   "source": [
    "expr2 = Sp * Pdag_q * Sm\n",
    "expr2.display()"
   ]
  },
  {
   "cell_type": "code",
   "execution_count": 24,
   "metadata": {},
   "outputs": [
    {
     "data": {
      "text/latex": [
       "$\\displaystyle  \\mathbf{P^\\dagger}_{q} \\mathbf{J^+}_{p} \\mathbf{J^-}_{q}$"
      ],
      "text/plain": [
       "<IPython.core.display.Math object>"
      ]
     },
     "execution_count": 24,
     "metadata": {},
     "output_type": "execute_result"
    }
   ],
   "source": [
    "expr2.simplify().display()"
   ]
  },
  {
   "cell_type": "markdown",
   "metadata": {},
   "source": [
    "## Unitary group operators"
   ]
  },
  {
   "cell_type": "code",
   "execution_count": 25,
   "metadata": {},
   "outputs": [
    {
     "data": {
      "text/latex": [
       "$\\displaystyle -  c^{}_{p, \\downarrow} c^{\\dagger}_{q, \\downarrow}  + 2 \\delta_{p q}  -  c^{}_{p, \\uparrow} c^{\\dagger}_{q, \\uparrow}$"
      ],
      "text/plain": [
       "<IPython.core.display.Math object>"
      ]
     },
     "execution_count": 25,
     "metadata": {},
     "output_type": "execute_result"
    }
   ],
   "source": [
    "e_ = names.e_\n",
    "expr = dr.simplify(e_[q,p])\n",
    "expr.display()"
   ]
  },
  {
   "cell_type": "markdown",
   "metadata": {},
   "source": [
    "## BCS with $c^\\dagger$"
   ]
  },
  {
   "cell_type": "code",
   "execution_count": 26,
   "metadata": {},
   "outputs": [
    {
     "data": {
      "text/latex": [
       "$\\displaystyle 0$"
      ],
      "text/plain": [
       "<IPython.core.display.Math object>"
      ]
     },
     "execution_count": 26,
     "metadata": {},
     "output_type": "execute_result"
    }
   ],
   "source": [
    "expr = dr.simplify(cdag_p | Pdag_q)\n",
    "expr.simplify().display()"
   ]
  },
  {
   "cell_type": "code",
   "execution_count": 27,
   "metadata": {},
   "outputs": [
    {
     "data": {
      "text/latex": [
       "$\\displaystyle  c^{\\dagger}_{p, \\downarrow}$"
      ],
      "text/plain": [
       "<IPython.core.display.Math object>"
      ]
     },
     "execution_count": 27,
     "metadata": {},
     "output_type": "execute_result"
    }
   ],
   "source": [
    "cdag_p.display()"
   ]
  },
  {
   "cell_type": "code",
   "execution_count": 28,
   "metadata": {},
   "outputs": [
    {
     "data": {
      "text/latex": [
       "$\\displaystyle \\delta_{p q}  c^{}_{p, \\uparrow}$"
      ],
      "text/plain": [
       "<IPython.core.display.Math object>"
      ]
     },
     "execution_count": 28,
     "metadata": {},
     "output_type": "execute_result"
    }
   ],
   "source": [
    "P_q = dr.sum(names.P_[q])\n",
    "expr = dr.simplify(cdag_p | P_q)\n",
    "expr.simplify().display()"
   ]
  },
  {
   "cell_type": "code",
   "execution_count": 29,
   "metadata": {},
   "outputs": [
    {
     "data": {
      "text/latex": [
       "$\\displaystyle -  \\delta_{p q}  c^{}_{p, \\downarrow}$"
      ],
      "text/plain": [
       "<IPython.core.display.Math object>"
      ]
     },
     "execution_count": 29,
     "metadata": {},
     "output_type": "execute_result"
    }
   ],
   "source": [
    "cdag_pup = dr.sum(names.c_dag[p, UP])\n",
    "expr = dr.simplify(cdag_pup | P_q)\n",
    "expr.simplify().display()"
   ]
  },
  {
   "cell_type": "code",
   "execution_count": 30,
   "metadata": {},
   "outputs": [
    {
     "data": {
      "text/latex": [
       "$\\displaystyle \\delta_{p q}  c^{\\dagger}_{p, \\downarrow}$"
      ],
      "text/plain": [
       "<IPython.core.display.Math object>"
      ]
     },
     "execution_count": 30,
     "metadata": {},
     "output_type": "execute_result"
    }
   ],
   "source": [
    "c_pup = c_p\n",
    "c_pdn = dr.sum(names.c_[p, DOWN])\n",
    "expr = (c_pup | Pdag_q).simplify()\n",
    "expr.display()"
   ]
  },
  {
   "cell_type": "code",
   "execution_count": 31,
   "metadata": {},
   "outputs": [
    {
     "data": {
      "text/latex": [
       "$\\displaystyle -  \\delta_{p q}  c^{\\dagger}_{p, \\uparrow}$"
      ],
      "text/plain": [
       "<IPython.core.display.Math object>"
      ]
     },
     "execution_count": 31,
     "metadata": {},
     "output_type": "execute_result"
    }
   ],
   "source": [
    "expr = (c_pdn | Pdag_q).simplify()\n",
    "expr.display()"
   ]
  },
  {
   "cell_type": "code",
   "execution_count": 32,
   "metadata": {},
   "outputs": [
    {
     "data": {
      "text/latex": [
       "$\\displaystyle \\delta_{p q}  c^{}_{p, \\uparrow}$"
      ],
      "text/plain": [
       "<IPython.core.display.Math object>"
      ]
     },
     "execution_count": 32,
     "metadata": {},
     "output_type": "execute_result"
    }
   ],
   "source": [
    "Nq = dr.sum(names.N_[q])\n",
    "expr = (c_pup | Nq).simplify()\n",
    "expr.display()"
   ]
  },
  {
   "cell_type": "markdown",
   "metadata": {},
   "source": [
    "## SU2 with $c^\\dagger$"
   ]
  },
  {
   "cell_type": "code",
   "execution_count": 33,
   "metadata": {},
   "outputs": [],
   "source": [
    "Jm_q = dr.sum(names.J_m[q])\n",
    "Jp_q = dr.sum(names.J_p[q])\n",
    "Jz_q = dr.sum(names.J_z[q])"
   ]
  },
  {
   "cell_type": "code",
   "execution_count": 34,
   "metadata": {},
   "outputs": [
    {
     "data": {
      "text/latex": [
       "$\\displaystyle -  \\delta_{p q}  c^{\\dagger}_{p, \\downarrow}$"
      ],
      "text/plain": [
       "<IPython.core.display.Math object>"
      ]
     },
     "execution_count": 34,
     "metadata": {},
     "output_type": "execute_result"
    }
   ],
   "source": [
    "(cdag_pup | Jm_q).simplify().display()"
   ]
  },
  {
   "cell_type": "code",
   "execution_count": 35,
   "metadata": {},
   "outputs": [
    {
     "data": {
      "text/latex": [
       "$\\displaystyle -  \\frac{\\delta_{p q}}{2}  c^{\\dagger}_{p, \\uparrow}$"
      ],
      "text/plain": [
       "<IPython.core.display.Math object>"
      ]
     },
     "execution_count": 35,
     "metadata": {},
     "output_type": "execute_result"
    }
   ],
   "source": [
    "(cdag_pup | Jz_q).simplify().display()"
   ]
  },
  {
   "cell_type": "code",
   "execution_count": 36,
   "metadata": {},
   "outputs": [
    {
     "data": {
      "text/latex": [
       "$\\displaystyle \\frac{\\delta_{p q}}{2}  c^{}_{p, \\uparrow}$"
      ],
      "text/plain": [
       "<IPython.core.display.Math object>"
      ]
     },
     "execution_count": 36,
     "metadata": {},
     "output_type": "execute_result"
    }
   ],
   "source": [
    "(c_pup | Jz_q).simplify().display()"
   ]
  },
  {
   "cell_type": "markdown",
   "metadata": {},
   "source": [
    "## Extract SU2 and Pairing operators"
   ]
  },
  {
   "cell_type": "code",
   "execution_count": 37,
   "metadata": {},
   "outputs": [],
   "source": [
    "epp = e_[p,p]"
   ]
  },
  {
   "cell_type": "code",
   "execution_count": 38,
   "metadata": {},
   "outputs": [
    {
     "data": {
      "text/latex": [
       "$\\displaystyle  c^{\\dagger}_{p, \\uparrow} c^{}_{p, \\uparrow}  +  c^{\\dagger}_{p, \\downarrow} c^{}_{p, \\downarrow}$"
      ],
      "text/plain": [
       "<IPython.core.display.Math object>"
      ]
     },
     "execution_count": 38,
     "metadata": {},
     "output_type": "execute_result"
    }
   ],
   "source": [
    "dr.simplify(epp).display()"
   ]
  },
  {
   "cell_type": "code",
   "execution_count": 39,
   "metadata": {},
   "outputs": [
    {
     "data": {
      "text/latex": [
       "$\\displaystyle  \\mathbf{N}_{p}$"
      ],
      "text/plain": [
       "<IPython.core.display.Math object>"
      ]
     },
     "execution_count": 39,
     "metadata": {},
     "output_type": "execute_result"
    }
   ],
   "source": [
    "num_op = dr.extract_su2(dr.sum(epp))\n",
    "num_op.simplify().display()"
   ]
  },
  {
   "cell_type": "code",
   "execution_count": 40,
   "metadata": {},
   "outputs": [
    {
     "data": {
      "text/latex": [
       "$\\displaystyle \\delta_{p q}  c^{\\dagger}_{p, \\uparrow} c^{}_{q, \\uparrow}  + \\delta_{p q}  c^{\\dagger}_{p, \\downarrow} c^{}_{q, \\downarrow} - 2  c^{\\dagger}_{p, \\uparrow} c^{\\dagger}_{p, \\downarrow} c^{}_{q, \\uparrow} c^{}_{q, \\downarrow}$"
      ],
      "text/plain": [
       "<IPython.core.display.Math object>"
      ]
     },
     "execution_count": 40,
     "metadata": {},
     "output_type": "execute_result"
    }
   ],
   "source": [
    "# t = IndexedBase('t')\n",
    "epq2 = dr.simplify(dr.sum(e_[p,q]*e_[p,q]))\n",
    "epq2.display()"
   ]
  },
  {
   "cell_type": "code",
   "execution_count": 41,
   "metadata": {},
   "outputs": [
    {
     "data": {
      "text/plain": [
       "drudge.drudge.Tensor"
      ]
     },
     "execution_count": 41,
     "metadata": {},
     "output_type": "execute_result"
    }
   ],
   "source": [
    "type(epq2)"
   ]
  },
  {
   "cell_type": "code",
   "execution_count": 42,
   "metadata": {
    "scrolled": true
   },
   "outputs": [
    {
     "data": {
      "text/latex": [
       "$\\displaystyle \\delta_{p q}  c^{\\dagger}_{p, \\uparrow} c^{}_{p, \\uparrow}  + \\delta_{p q}  c^{\\dagger}_{p, \\downarrow} c^{}_{p, \\downarrow} - 2  c^{\\dagger}_{p, \\uparrow} c^{\\dagger}_{p, \\downarrow} c^{}_{q, \\uparrow} c^{}_{q, \\downarrow}$"
      ],
      "text/plain": [
       "<IPython.core.display.Math object>"
      ]
     },
     "execution_count": 42,
     "metadata": {},
     "output_type": "execute_result"
    }
   ],
   "source": [
    "epq2 = dr.canon_indices(epq2)\n",
    "epq2.display()"
   ]
  },
  {
   "cell_type": "code",
   "execution_count": 43,
   "metadata": {},
   "outputs": [
    {
     "data": {
      "text/latex": [
       "$\\displaystyle  \\mathbf{P^\\dagger}_{p}$"
      ],
      "text/plain": [
       "<IPython.core.display.Math object>"
      ]
     },
     "execution_count": 43,
     "metadata": {},
     "output_type": "execute_result"
    }
   ],
   "source": [
    "pdag_fermi = dr.simplify(names.c_dag[p, UP]*names.c_dag[p, DOWN])\n",
    "dr.extract_su2(pdag_fermi).display()"
   ]
  },
  {
   "cell_type": "code",
   "execution_count": 44,
   "metadata": {},
   "outputs": [
    {
     "data": {
      "text/latex": [
       "$\\displaystyle -  \\mathbf{P}_{p}$"
      ],
      "text/plain": [
       "<IPython.core.display.Math object>"
      ]
     },
     "execution_count": 44,
     "metadata": {},
     "output_type": "execute_result"
    }
   ],
   "source": [
    "p_fermi = dr.simplify(names.c_[p, DOWN] * names.c_[p, UP])\n",
    "dr.extract_su2(p_fermi).display()"
   ]
  },
  {
   "cell_type": "code",
   "execution_count": 45,
   "metadata": {},
   "outputs": [
    {
     "data": {
      "text/latex": [
       "$\\displaystyle \\delta_{p q}  \\mathbf{N}_{p} - 2  \\mathbf{P^\\dagger}_{p} \\mathbf{P}_{q}$"
      ],
      "text/plain": [
       "<IPython.core.display.Math object>"
      ]
     },
     "execution_count": 45,
     "metadata": {},
     "output_type": "execute_result"
    }
   ],
   "source": [
    "epq2_bcs = dr.extract_su2(epq2)\n",
    "epq2_bcs.simplify().display()"
   ]
  },
  {
   "cell_type": "code",
   "execution_count": 46,
   "metadata": {},
   "outputs": [],
   "source": [
    "sp_fermi = dr.simplify(names.c_dag[p, UP] * names.c_[p, DOWN])"
   ]
  },
  {
   "cell_type": "code",
   "execution_count": 47,
   "metadata": {},
   "outputs": [
    {
     "data": {
      "text/latex": [
       "$\\displaystyle  c^{\\dagger}_{p, \\uparrow} c^{}_{p, \\downarrow}$"
      ],
      "text/plain": [
       "<IPython.core.display.Math object>"
      ]
     },
     "execution_count": 47,
     "metadata": {},
     "output_type": "execute_result"
    }
   ],
   "source": [
    "sp_fermi.display()"
   ]
  },
  {
   "cell_type": "code",
   "execution_count": 48,
   "metadata": {},
   "outputs": [
    {
     "data": {
      "text/latex": [
       "$\\displaystyle  c^{\\dagger}_{p, \\uparrow} c^{}_{p, \\downarrow}$"
      ],
      "text/plain": [
       "<IPython.core.display.Math object>"
      ]
     },
     "execution_count": 48,
     "metadata": {},
     "output_type": "execute_result"
    }
   ],
   "source": [
    "dr.extract_su2(sp_fermi).display()"
   ]
  },
  {
   "cell_type": "markdown",
   "metadata": {},
   "source": [
    "## Nil-potency"
   ]
  },
  {
   "cell_type": "code",
   "execution_count": 49,
   "metadata": {},
   "outputs": [],
   "source": [
    "expr = cdag_p*cdag_p"
   ]
  },
  {
   "cell_type": "code",
   "execution_count": 50,
   "metadata": {},
   "outputs": [
    {
     "data": {
      "text/latex": [
       "$\\displaystyle  c^{\\dagger}_{p, \\downarrow} c^{\\dagger}_{p, \\downarrow}$"
      ],
      "text/plain": [
       "<IPython.core.display.Math object>"
      ]
     },
     "execution_count": 50,
     "metadata": {},
     "output_type": "execute_result"
    }
   ],
   "source": [
    "expr.display()"
   ]
  },
  {
   "cell_type": "code",
   "execution_count": 51,
   "metadata": {},
   "outputs": [
    {
     "data": {
      "text/latex": [
       "$\\displaystyle 0$"
      ],
      "text/plain": [
       "<IPython.core.display.Math object>"
      ]
     },
     "execution_count": 51,
     "metadata": {},
     "output_type": "execute_result"
    }
   ],
   "source": [
    "expr.simplify().display()"
   ]
  },
  {
   "cell_type": "markdown",
   "metadata": {},
   "source": [
    "## AGP-DPQ RPA"
   ]
  },
  {
   "cell_type": "markdown",
   "metadata": {},
   "source": [
    "#### 1. Pairing Hamiltonian"
   ]
  },
  {
   "cell_type": "code",
   "execution_count": 52,
   "metadata": {},
   "outputs": [],
   "source": [
    "N = names.N\n",
    "Pdag = names.P_dag\n",
    "P = names.P_"
   ]
  },
  {
   "cell_type": "code",
   "execution_count": 53,
   "metadata": {},
   "outputs": [],
   "source": [
    "eps = IndexedBase('\\epsilon')\n",
    "G = Symbol('G')\n",
    "H = dr.einst(eps[p]*N[p]) - G*dr.sum((p,names.A), (q, names.A), Pdag[p] * P[q])\n",
    "Ham_fermi = dr.einst(eps[p]*e_[p,p]) \\\n",
    "    - G*dr.sum((p,names.A), (q, names.A), e_[p,q]*e_[p,q] - KroneckerDelta(p,q)*e_[p,q])/2"
   ]
  },
  {
   "cell_type": "code",
   "execution_count": 54,
   "metadata": {},
   "outputs": [
    {
     "data": {
      "text/latex": [
       "$\\displaystyle - \\sum_{p \\in A} \\sum_{q \\in A}  G  \\mathbf{P^\\dagger}_{p} \\mathbf{P}_{q}  + \\sum_{p \\in A} \\epsilon_{p}    \\mathbf{N}_{p}$"
      ],
      "text/plain": [
       "<IPython.core.display.Math object>"
      ]
     },
     "execution_count": 54,
     "metadata": {},
     "output_type": "execute_result"
    }
   ],
   "source": [
    "H = dr.simplify(H)\n",
    "H.display()"
   ]
  },
  {
   "cell_type": "code",
   "execution_count": 55,
   "metadata": {},
   "outputs": [
    {
     "data": {
      "text/latex": [
       "$\\displaystyle \\sum_{p \\in A} \\epsilon_{p}    c^{\\dagger}_{p, \\uparrow} c^{}_{p, \\uparrow}  + \\sum_{p \\in A} \\sum_{q \\in A} G  c^{\\dagger}_{p, \\uparrow} c^{\\dagger}_{p, \\downarrow} c^{}_{q, \\uparrow} c^{}_{q, \\downarrow}  + \\sum_{p \\in A} \\epsilon_{p}    c^{\\dagger}_{p, \\downarrow} c^{}_{p, \\downarrow}$"
      ],
      "text/plain": [
       "<IPython.core.display.Math object>"
      ]
     },
     "execution_count": 55,
     "metadata": {},
     "output_type": "execute_result"
    }
   ],
   "source": [
    "Ham_fermi = dr.simplify(Ham_fermi)\n",
    "Ham_fermi.display()"
   ]
  },
  {
   "cell_type": "code",
   "execution_count": 56,
   "metadata": {},
   "outputs": [],
   "source": [
    "eta = IndexedBase('\\eta')\n",
    "D_pq = dr.sum(eta[p]*e_[p,q] - eta[q]*e_[q,p])\n",
    "D_dag_pq = dr.sum(eta[p]*e_[q,p] - eta[q]*e_[p,q])"
   ]
  },
  {
   "cell_type": "code",
   "execution_count": 57,
   "metadata": {},
   "outputs": [
    {
     "data": {
      "text/latex": [
       "$\\displaystyle \\eta_{p}    c^{\\dagger}_{p, \\uparrow} c^{}_{q, \\uparrow}  + \\eta_{p}    c^{\\dagger}_{p, \\downarrow} c^{}_{q, \\downarrow} - \\eta_{q}    c^{\\dagger}_{q, \\uparrow} c^{}_{p, \\uparrow} - \\eta_{q}    c^{\\dagger}_{q, \\downarrow} c^{}_{p, \\downarrow}$"
      ],
      "text/plain": [
       "<IPython.core.display.Math object>"
      ]
     },
     "execution_count": 57,
     "metadata": {},
     "output_type": "execute_result"
    }
   ],
   "source": [
    "D_pq.display()"
   ]
  },
  {
   "cell_type": "code",
   "execution_count": 58,
   "metadata": {},
   "outputs": [
    {
     "data": {
      "text/latex": [
       "$\\displaystyle \\eta_{p}    c^{\\dagger}_{q, \\downarrow} c^{}_{p, \\downarrow} - \\eta_{q}    c^{\\dagger}_{p, \\downarrow} c^{}_{q, \\downarrow} - \\eta_{q}    c^{\\dagger}_{p, \\uparrow} c^{}_{q, \\uparrow}  + \\eta_{p}    c^{\\dagger}_{q, \\uparrow} c^{}_{p, \\uparrow}$"
      ],
      "text/plain": [
       "<IPython.core.display.Math object>"
      ]
     },
     "execution_count": 58,
     "metadata": {},
     "output_type": "execute_result"
    }
   ],
   "source": [
    "D_dag_pq.merge().display()"
   ]
  },
  {
   "cell_type": "code",
   "execution_count": 59,
   "metadata": {},
   "outputs": [
    {
     "data": {
      "text/latex": [
       "$\\displaystyle \\sum_{r \\in A} G \\eta_{p}    c^{}_{p, \\uparrow} c^{\\dagger}_{r, \\uparrow} c^{\\dagger}_{r, \\downarrow} c^{}_{q, \\downarrow} - \\epsilon_{q}  \\eta_{p}    c^{}_{p, \\downarrow} c^{\\dagger}_{q, \\downarrow} - \\epsilon_{p}  \\eta_{p}    c^{\\dagger}_{q, \\downarrow} c^{}_{p, \\downarrow} - \\epsilon_{q}  \\eta_{p}    c^{}_{p, \\uparrow} c^{\\dagger}_{q, \\uparrow}  + \\sum_{r \\in A} G \\eta_{p}    c^{\\dagger}_{q, \\downarrow} c^{\\dagger}_{p, \\uparrow} c^{}_{r, \\uparrow} c^{}_{r, \\downarrow}  + 2 \\delta_{p q} \\epsilon_{p}  \\eta_{p}   + \\sum_{r \\in A} G \\eta_{q}    c^{\\dagger}_{r, \\uparrow} c^{\\dagger}_{r, \\downarrow} c^{}_{p, \\downarrow} c^{}_{q, \\uparrow}  + \\epsilon_{q}  \\eta_{q}    c^{\\dagger}_{p, \\uparrow} c^{}_{q, \\uparrow} -  G \\eta_{p}    c^{\\dagger}_{p, \\uparrow} c^{}_{q, \\uparrow} - \\epsilon_{p}  \\eta_{q}    c^{\\dagger}_{p, \\uparrow} c^{}_{q, \\uparrow} - \\sum_{r \\in A}  G \\eta_{p}    c^{\\dagger}_{q, \\uparrow} c^{\\dagger}_{p, \\downarrow} c^{}_{r, \\uparrow} c^{}_{r, \\downarrow}  + \\sum_{r \\in A} G \\eta_{q}    c^{\\dagger}_{p, \\uparrow} c^{\\dagger}_{q, \\downarrow} c^{}_{r, \\uparrow} c^{}_{r, \\downarrow} - \\sum_{r \\in A}  G \\eta_{q}    c^{\\dagger}_{p, \\downarrow} c^{\\dagger}_{q, \\uparrow} c^{}_{r, \\uparrow} c^{}_{r, \\downarrow}  + \\epsilon_{q}  \\eta_{q}    c^{\\dagger}_{p, \\downarrow} c^{}_{q, \\downarrow} -  G \\eta_{p}    c^{\\dagger}_{p, \\downarrow} c^{}_{q, \\downarrow} - \\epsilon_{p}  \\eta_{q}    c^{\\dagger}_{p, \\downarrow} c^{}_{q, \\downarrow} - \\epsilon_{p}  \\eta_{p}    c^{\\dagger}_{q, \\uparrow} c^{}_{p, \\uparrow} - \\sum_{r \\in A}  G \\eta_{q}    c^{\\dagger}_{r, \\uparrow} c^{\\dagger}_{r, \\downarrow} c^{}_{p, \\uparrow} c^{}_{q, \\downarrow} - \\sum_{r \\in A}  G \\eta_{p}    c^{}_{p, \\downarrow} c^{\\dagger}_{r, \\uparrow} c^{\\dagger}_{r, \\downarrow} c^{}_{q, \\uparrow}$"
      ],
      "text/plain": [
       "<IPython.core.display.Math object>"
      ]
     },
     "execution_count": 59,
     "metadata": {},
     "output_type": "execute_result"
    }
   ],
   "source": [
    "term1 = dr.simplify( Ham_fermi | D_dag_pq )\n",
    "term1.display()"
   ]
  },
  {
   "cell_type": "code",
   "execution_count": 60,
   "metadata": {},
   "outputs": [
    {
     "data": {
      "text/latex": [
       "$\\displaystyle -  G \\eta_{p}^{2}    c^{}_{q, \\uparrow} c^{\\dagger}_{q, \\uparrow}  + G \\eta_{p}  \\eta_{q}    c^{}_{q, \\uparrow} c^{\\dagger}_{q, \\uparrow}  + G \\eta_{p}^{2}    c^{}_{p, \\uparrow} c^{\\dagger}_{p, \\downarrow} c^{\\dagger}_{q, \\uparrow} c^{}_{q, \\downarrow} -  G \\eta_{q}^{2}    c^{}_{p, \\uparrow} c^{\\dagger}_{q, \\uparrow} c^{}_{q, \\downarrow} c^{\\dagger}_{p, \\downarrow}  + G \\eta_{p}  \\eta_{q}    c^{}_{p, \\uparrow} c^{\\dagger}_{q, \\uparrow} c^{}_{q, \\downarrow} c^{\\dagger}_{p, \\downarrow} -  G \\eta_{p}^{2}    c^{\\dagger}_{p, \\uparrow} c^{}_{p, \\uparrow} c^{\\dagger}_{q, \\uparrow} c^{}_{q, \\uparrow} -  G \\eta_{q}^{2}    c^{\\dagger}_{p, \\uparrow} c^{}_{p, \\uparrow} c^{\\dagger}_{q, \\uparrow} c^{}_{q, \\uparrow}  + G \\eta_{p}  \\eta_{q}    c^{\\dagger}_{p, \\uparrow} c^{}_{p, \\uparrow} c^{\\dagger}_{q, \\uparrow} c^{}_{q, \\uparrow} -  G \\eta_{p}^{2}    c^{\\dagger}_{p, \\uparrow} c^{\\dagger}_{q, \\downarrow} c^{}_{p, \\downarrow} c^{}_{q, \\uparrow}  + G \\eta_{p}  \\eta_{q}    c^{\\dagger}_{p, \\uparrow} c^{\\dagger}_{q, \\downarrow} c^{}_{p, \\downarrow} c^{}_{q, \\uparrow} -  G \\eta_{p}^{2}    c^{\\dagger}_{p, \\downarrow} c^{}_{p, \\downarrow} c^{\\dagger}_{q, \\downarrow} c^{}_{q, \\downarrow} -  G \\eta_{q}^{2}    c^{\\dagger}_{p, \\downarrow} c^{}_{p, \\downarrow} c^{\\dagger}_{q, \\downarrow} c^{}_{q, \\downarrow}  + G \\eta_{p}  \\eta_{q}    c^{\\dagger}_{p, \\downarrow} c^{}_{p, \\downarrow} c^{\\dagger}_{q, \\downarrow} c^{}_{q, \\downarrow}  + 2 G \\eta_{p}  \\eta_{q}    c^{\\dagger}_{p, \\uparrow} c^{\\dagger}_{p, \\downarrow} c^{}_{q, \\uparrow} c^{}_{q, \\downarrow} -  G \\eta_{p}^{2}    c^{\\dagger}_{p, \\downarrow} c^{\\dagger}_{q, \\uparrow} c^{}_{p, \\uparrow} c^{}_{q, \\downarrow}  + G \\eta_{p}  \\eta_{q}    c^{\\dagger}_{p, \\downarrow} c^{\\dagger}_{q, \\uparrow} c^{}_{p, \\uparrow} c^{}_{q, \\downarrow} -  G \\eta_{q}^{2}    c^{}_{p, \\downarrow} c^{\\dagger}_{p, \\downarrow}  + G \\eta_{p}  \\eta_{q}    c^{}_{p, \\downarrow} c^{\\dagger}_{p, \\downarrow}  + G \\eta_{p}^{2}    c^{\\dagger}_{p, \\uparrow} c^{}_{p, \\uparrow} c^{}_{q, \\downarrow} c^{\\dagger}_{q, \\downarrow} -  G \\eta_{p}  \\eta_{q}    c^{\\dagger}_{p, \\uparrow} c^{}_{p, \\uparrow} c^{}_{q, \\downarrow} c^{\\dagger}_{q, \\downarrow}  + G \\eta_{q}^{2}    c^{\\dagger}_{p, \\uparrow} c^{}_{p, \\downarrow} c^{\\dagger}_{q, \\downarrow} c^{}_{q, \\uparrow} -  G \\eta_{p}  \\eta_{q}    c^{\\dagger}_{p, \\uparrow} c^{}_{p, \\downarrow} c^{\\dagger}_{q, \\downarrow} c^{}_{q, \\uparrow} -  G \\eta_{q}^{2}    c^{\\dagger}_{p, \\uparrow} c^{}_{p, \\uparrow} c^{\\dagger}_{q, \\downarrow} c^{}_{q, \\downarrow}  + G \\eta_{p}  \\eta_{q}    c^{\\dagger}_{p, \\uparrow} c^{}_{p, \\uparrow} c^{\\dagger}_{q, \\downarrow} c^{}_{q, \\downarrow}  + G \\eta_{q}^{2}    c^{}_{p, \\downarrow} c^{\\dagger}_{q, \\uparrow} c^{}_{q, \\uparrow} c^{\\dagger}_{p, \\downarrow} -  G \\eta_{p}  \\eta_{q}    c^{}_{p, \\downarrow} c^{\\dagger}_{q, \\uparrow} c^{}_{q, \\uparrow} c^{\\dagger}_{p, \\downarrow} -  G \\eta_{p}^{2}    c^{\\dagger}_{p, \\downarrow} c^{}_{p, \\downarrow} c^{}_{q, \\downarrow} c^{\\dagger}_{q, \\downarrow}  + G \\eta_{p}  \\eta_{q}    c^{\\dagger}_{p, \\downarrow} c^{}_{p, \\downarrow} c^{}_{q, \\downarrow} c^{\\dagger}_{q, \\downarrow}  + 2 G \\eta_{p}^{2}    c^{}_{p, \\uparrow} c^{\\dagger}_{p, \\downarrow} c^{}_{q, \\downarrow} c^{\\dagger}_{q, \\uparrow} -  2 G \\eta_{p}  \\eta_{q}    c^{}_{p, \\uparrow} c^{\\dagger}_{p, \\downarrow} c^{}_{q, \\downarrow} c^{\\dagger}_{q, \\uparrow}  + G \\eta_{q}^{2}    c^{}_{p, \\downarrow} c^{\\dagger}_{q, \\downarrow} c^{\\dagger}_{p, \\downarrow} c^{}_{q, \\downarrow} -  G \\eta_{q}^{2}    c^{\\dagger}_{p, \\downarrow} c^{}_{p, \\downarrow} c^{\\dagger}_{q, \\uparrow} c^{}_{q, \\uparrow}  + G \\eta_{p}  \\eta_{q}    c^{\\dagger}_{p, \\downarrow} c^{}_{p, \\downarrow} c^{\\dagger}_{q, \\uparrow} c^{}_{q, \\uparrow}  + G \\eta_{p}^{2}    c^{\\dagger}_{q, \\uparrow} c^{}_{q, \\uparrow}  + \\eta_{p}^{2}  \\epsilon_{p}    c^{\\dagger}_{q, \\uparrow} c^{}_{q, \\uparrow}  + \\eta_{q}^{2}  \\epsilon_{p}    c^{\\dagger}_{q, \\uparrow} c^{}_{q, \\uparrow} - \\eta_{p}^{2}  \\epsilon_{q}    c^{\\dagger}_{q, \\uparrow} c^{}_{q, \\uparrow} - \\eta_{q}^{2}  \\epsilon_{q}    c^{\\dagger}_{q, \\uparrow} c^{}_{q, \\uparrow} -  G \\eta_{q}^{2}    c^{}_{p, \\uparrow} c^{\\dagger}_{p, \\uparrow}  + G \\eta_{p}  \\eta_{q}    c^{}_{p, \\uparrow} c^{\\dagger}_{p, \\uparrow}  + G \\eta_{p}^{2}    c^{\\dagger}_{p, \\downarrow} c^{}_{p, \\downarrow} c^{}_{q, \\uparrow} c^{\\dagger}_{q, \\uparrow} -  G \\eta_{p}  \\eta_{q}    c^{\\dagger}_{p, \\downarrow} c^{}_{p, \\downarrow} c^{}_{q, \\uparrow} c^{\\dagger}_{q, \\uparrow} - \\sum_{r \\in A}  2 G \\eta_{q}^{2}    c^{\\dagger}_{q, \\uparrow} c^{\\dagger}_{q, \\downarrow} c^{}_{r, \\uparrow} c^{}_{r, \\downarrow}  + \\sum_{r \\in A} 2 G \\eta_{p}  \\eta_{q}    c^{\\dagger}_{q, \\uparrow} c^{\\dagger}_{q, \\downarrow} c^{}_{r, \\uparrow} c^{}_{r, \\downarrow}  + G \\eta_{q}^{2}    c^{}_{p, \\uparrow} c^{\\dagger}_{q, \\uparrow} c^{\\dagger}_{p, \\downarrow} c^{}_{q, \\downarrow}  + G \\eta_{q}^{2}    c^{\\dagger}_{p, \\uparrow} c^{}_{p, \\downarrow} c^{}_{q, \\uparrow} c^{\\dagger}_{q, \\downarrow} -  G \\eta_{p}^{2}    c^{\\dagger}_{p, \\uparrow} c^{}_{p, \\downarrow} c^{}_{q, \\uparrow} c^{\\dagger}_{q, \\downarrow}  + G \\eta_{p}  \\eta_{q}    c^{\\dagger}_{p, \\uparrow} c^{}_{p, \\downarrow} c^{}_{q, \\uparrow} c^{\\dagger}_{q, \\downarrow} -  G \\delta_{p q} \\eta_{p}^{2}    c^{\\dagger}_{p, \\uparrow} c^{}_{q, \\uparrow}  + G \\eta_{p}  \\eta_{q}    c^{\\dagger}_{p, \\uparrow} c^{}_{q, \\uparrow} c^{\\dagger}_{p, \\uparrow} c^{}_{q, \\uparrow} - \\sum_{r \\in A}  2 G \\eta_{p}^{2}    c^{}_{q, \\uparrow} c^{}_{q, \\downarrow} c^{\\dagger}_{r, \\uparrow} c^{\\dagger}_{r, \\downarrow}  + \\sum_{r \\in A} 2 G \\eta_{p}  \\eta_{q}    c^{}_{q, \\uparrow} c^{}_{q, \\downarrow} c^{\\dagger}_{r, \\uparrow} c^{\\dagger}_{r, \\downarrow}  + G \\eta_{p}^{2}    c^{\\dagger}_{q, \\downarrow} c^{}_{q, \\downarrow}  + \\eta_{p}^{2}  \\epsilon_{p}    c^{\\dagger}_{q, \\downarrow} c^{}_{q, \\downarrow}  + \\eta_{q}^{2}  \\epsilon_{p}    c^{\\dagger}_{q, \\downarrow} c^{}_{q, \\downarrow} - \\eta_{p}^{2}  \\epsilon_{q}    c^{\\dagger}_{q, \\downarrow} c^{}_{q, \\downarrow} - \\eta_{q}^{2}  \\epsilon_{q}    c^{\\dagger}_{q, \\downarrow} c^{}_{q, \\downarrow}  + G \\eta_{q}^{2}    c^{}_{p, \\downarrow} c^{\\dagger}_{q, \\downarrow} c^{\\dagger}_{p, \\uparrow} c^{}_{q, \\uparrow}  + G \\eta_{p}^{2}    c^{\\dagger}_{p, \\downarrow} c^{\\dagger}_{q, \\uparrow} c^{}_{p, \\downarrow} c^{}_{q, \\uparrow} -  G \\eta_{p}  \\eta_{q}    c^{\\dagger}_{p, \\downarrow} c^{\\dagger}_{q, \\uparrow} c^{}_{p, \\downarrow} c^{}_{q, \\uparrow} - \\sum_{r \\in A}  2 G \\eta_{q}^{2}    c^{}_{p, \\uparrow} c^{}_{p, \\downarrow} c^{\\dagger}_{r, \\uparrow} c^{\\dagger}_{r, \\downarrow}  + \\sum_{r \\in A} 2 G \\eta_{p}  \\eta_{q}    c^{}_{p, \\uparrow} c^{}_{p, \\downarrow} c^{\\dagger}_{r, \\uparrow} c^{\\dagger}_{r, \\downarrow} -  G \\eta_{q}^{2}    c^{}_{p, \\uparrow} c^{}_{p, \\downarrow} c^{\\dagger}_{q, \\uparrow} c^{\\dagger}_{q, \\downarrow}  + G \\eta_{p}  \\eta_{q}    c^{}_{p, \\uparrow} c^{}_{p, \\downarrow} c^{\\dagger}_{q, \\uparrow} c^{\\dagger}_{q, \\downarrow} -  G \\eta_{p}^{2}    c^{\\dagger}_{p, \\uparrow} c^{}_{p, \\uparrow} c^{}_{q, \\uparrow} c^{\\dagger}_{q, \\uparrow}  + G \\eta_{p}  \\eta_{q}    c^{\\dagger}_{p, \\uparrow} c^{}_{p, \\uparrow} c^{}_{q, \\uparrow} c^{\\dagger}_{q, \\uparrow} -  G \\eta_{p}^{2}    c^{}_{q, \\downarrow} c^{\\dagger}_{q, \\downarrow}  + G \\eta_{p}  \\eta_{q}    c^{}_{q, \\downarrow} c^{\\dagger}_{q, \\downarrow}  + G \\eta_{q}^{2}    c^{}_{p, \\uparrow} c^{\\dagger}_{q, \\downarrow} c^{}_{q, \\downarrow} c^{\\dagger}_{p, \\uparrow} -  G \\eta_{p}  \\eta_{q}    c^{}_{p, \\uparrow} c^{\\dagger}_{q, \\downarrow} c^{}_{q, \\downarrow} c^{\\dagger}_{p, \\uparrow}  + G \\eta_{q}^{2}    c^{\\dagger}_{p, \\uparrow} c^{}_{p, \\uparrow}  + \\eta_{p}^{2}  \\epsilon_{q}    c^{\\dagger}_{p, \\uparrow} c^{}_{p, \\uparrow}  + \\eta_{q}^{2}  \\epsilon_{q}    c^{\\dagger}_{p, \\uparrow} c^{}_{p, \\uparrow} - \\eta_{p}^{2}  \\epsilon_{p}    c^{\\dagger}_{p, \\uparrow} c^{}_{p, \\uparrow} - \\eta_{q}^{2}  \\epsilon_{p}    c^{\\dagger}_{p, \\uparrow} c^{}_{p, \\uparrow} -  G \\eta_{p}  \\eta_{q}    c^{\\dagger}_{p, \\uparrow} c^{}_{p, \\uparrow}  + G \\eta_{q}^{2}    c^{}_{p, \\downarrow} c^{}_{q, \\uparrow} c^{\\dagger}_{q, \\downarrow} c^{\\dagger}_{p, \\uparrow} -  G \\eta_{p}  \\eta_{q}    c^{}_{p, \\downarrow} c^{}_{q, \\uparrow} c^{\\dagger}_{q, \\downarrow} c^{\\dagger}_{p, \\uparrow} -  G \\delta_{p q} \\eta_{p}^{2}    c^{\\dagger}_{p, \\downarrow} c^{}_{q, \\downarrow}  + G \\eta_{p}  \\eta_{q}    c^{\\dagger}_{p, \\downarrow} c^{}_{q, \\downarrow} c^{\\dagger}_{p, \\downarrow} c^{}_{q, \\downarrow}  + G \\eta_{p}  \\eta_{q}    c^{\\dagger}_{p, \\uparrow} c^{}_{q, \\uparrow} c^{\\dagger}_{p, \\downarrow} c^{}_{q, \\downarrow}  + G \\eta_{q}^{2}    c^{}_{p, \\uparrow} c^{\\dagger}_{q, \\uparrow} c^{\\dagger}_{p, \\uparrow} c^{}_{q, \\uparrow}  + G \\eta_{p}^{2}    c^{\\dagger}_{p, \\uparrow} c^{\\dagger}_{q, \\downarrow} c^{}_{p, \\uparrow} c^{}_{q, \\downarrow} -  G \\eta_{p}  \\eta_{q}    c^{\\dagger}_{p, \\uparrow} c^{\\dagger}_{q, \\downarrow} c^{}_{p, \\uparrow} c^{}_{q, \\downarrow}  + G \\eta_{p}  \\eta_{q}    c^{\\dagger}_{p, \\downarrow} c^{}_{q, \\downarrow} c^{\\dagger}_{p, \\uparrow} c^{}_{q, \\uparrow} - \\sum_{r \\in A}  2 G \\eta_{p}^{2}    c^{\\dagger}_{p, \\uparrow} c^{\\dagger}_{p, \\downarrow} c^{}_{r, \\uparrow} c^{}_{r, \\downarrow}  + \\sum_{r \\in A} 2 G \\eta_{p}  \\eta_{q}    c^{\\dagger}_{p, \\uparrow} c^{\\dagger}_{p, \\downarrow} c^{}_{r, \\uparrow} c^{}_{r, \\downarrow} -  G \\eta_{q}^{2}    c^{}_{p, \\uparrow} c^{}_{p, \\downarrow} c^{\\dagger}_{q, \\downarrow} c^{\\dagger}_{q, \\uparrow}  + G \\eta_{p}  \\eta_{q}    c^{}_{p, \\uparrow} c^{}_{p, \\downarrow} c^{\\dagger}_{q, \\downarrow} c^{\\dagger}_{q, \\uparrow}  + G \\eta_{q}^{2}    c^{\\dagger}_{p, \\downarrow} c^{}_{p, \\downarrow}  + \\eta_{p}^{2}  \\epsilon_{q}    c^{\\dagger}_{p, \\downarrow} c^{}_{p, \\downarrow}  + \\eta_{q}^{2}  \\epsilon_{q}    c^{\\dagger}_{p, \\downarrow} c^{}_{p, \\downarrow} - \\eta_{p}^{2}  \\epsilon_{p}    c^{\\dagger}_{p, \\downarrow} c^{}_{p, \\downarrow} - \\eta_{q}^{2}  \\epsilon_{p}    c^{\\dagger}_{p, \\downarrow} c^{}_{p, \\downarrow} -  G \\eta_{p}  \\eta_{q}    c^{\\dagger}_{p, \\downarrow} c^{}_{p, \\downarrow}$"
      ],
      "text/plain": [
       "<IPython.core.display.Math object>"
      ]
     },
     "execution_count": 60,
     "metadata": {},
     "output_type": "execute_result"
    }
   ],
   "source": [
    "term2 = dr.simplify( D_pq | term1 )\n",
    "term2.display()"
   ]
  },
  {
   "cell_type": "code",
   "execution_count": 61,
   "metadata": {},
   "outputs": [
    {
     "data": {
      "text/latex": [
       "$\\displaystyle -  G \\eta_{p}^{2}    c^{}_{q, \\uparrow} c^{\\dagger}_{q, \\uparrow}  + G \\eta_{p}  \\eta_{q}    c^{}_{q, \\uparrow} c^{\\dagger}_{q, \\uparrow}  + G \\eta_{p}^{2}    c^{}_{p, \\uparrow} c^{\\dagger}_{p, \\downarrow} c^{\\dagger}_{q, \\uparrow} c^{}_{q, \\downarrow} -  G \\eta_{q}^{2}    c^{}_{p, \\uparrow} c^{\\dagger}_{q, \\uparrow} c^{}_{q, \\downarrow} c^{\\dagger}_{p, \\downarrow}  + G \\eta_{p}  \\eta_{q}    c^{}_{p, \\uparrow} c^{\\dagger}_{q, \\uparrow} c^{}_{q, \\downarrow} c^{\\dagger}_{p, \\downarrow} -  G \\eta_{p}^{2}    c^{\\dagger}_{p, \\uparrow} c^{}_{p, \\uparrow} c^{\\dagger}_{q, \\uparrow} c^{}_{q, \\uparrow} -  G \\eta_{q}^{2}    c^{\\dagger}_{p, \\uparrow} c^{}_{p, \\uparrow} c^{\\dagger}_{q, \\uparrow} c^{}_{q, \\uparrow}  + G \\eta_{p}  \\eta_{q}    c^{\\dagger}_{p, \\uparrow} c^{}_{p, \\uparrow} c^{\\dagger}_{q, \\uparrow} c^{}_{q, \\uparrow} -  G \\eta_{p}^{2}    c^{\\dagger}_{p, \\uparrow} c^{\\dagger}_{q, \\downarrow} c^{}_{p, \\downarrow} c^{}_{q, \\uparrow}  + G \\eta_{p}  \\eta_{q}    c^{\\dagger}_{p, \\uparrow} c^{\\dagger}_{q, \\downarrow} c^{}_{p, \\downarrow} c^{}_{q, \\uparrow} -  G \\eta_{p}^{2}    c^{\\dagger}_{p, \\downarrow} c^{}_{p, \\downarrow} c^{\\dagger}_{q, \\downarrow} c^{}_{q, \\downarrow} -  G \\eta_{q}^{2}    c^{\\dagger}_{p, \\downarrow} c^{}_{p, \\downarrow} c^{\\dagger}_{q, \\downarrow} c^{}_{q, \\downarrow}  + G \\eta_{p}  \\eta_{q}    c^{\\dagger}_{p, \\downarrow} c^{}_{p, \\downarrow} c^{\\dagger}_{q, \\downarrow} c^{}_{q, \\downarrow}  + 2 G \\eta_{p}  \\eta_{q}    c^{\\dagger}_{p, \\uparrow} c^{\\dagger}_{p, \\downarrow} c^{}_{q, \\uparrow} c^{}_{q, \\downarrow} -  G \\eta_{p}^{2}    c^{\\dagger}_{p, \\downarrow} c^{\\dagger}_{q, \\uparrow} c^{}_{p, \\uparrow} c^{}_{q, \\downarrow}  + G \\eta_{p}  \\eta_{q}    c^{\\dagger}_{p, \\downarrow} c^{\\dagger}_{q, \\uparrow} c^{}_{p, \\uparrow} c^{}_{q, \\downarrow} -  G \\eta_{q}^{2}    c^{}_{p, \\downarrow} c^{\\dagger}_{p, \\downarrow}  + G \\eta_{p}  \\eta_{q}    c^{}_{p, \\downarrow} c^{\\dagger}_{p, \\downarrow}  + G \\eta_{p}^{2}    c^{\\dagger}_{p, \\uparrow} c^{}_{p, \\uparrow} c^{}_{q, \\downarrow} c^{\\dagger}_{q, \\downarrow} -  G \\eta_{p}  \\eta_{q}    c^{\\dagger}_{p, \\uparrow} c^{}_{p, \\uparrow} c^{}_{q, \\downarrow} c^{\\dagger}_{q, \\downarrow}  + G \\eta_{q}^{2}    c^{\\dagger}_{p, \\uparrow} c^{}_{p, \\downarrow} c^{\\dagger}_{q, \\downarrow} c^{}_{q, \\uparrow} -  G \\eta_{p}  \\eta_{q}    c^{\\dagger}_{p, \\uparrow} c^{}_{p, \\downarrow} c^{\\dagger}_{q, \\downarrow} c^{}_{q, \\uparrow} -  G \\eta_{q}^{2}    c^{\\dagger}_{p, \\uparrow} c^{}_{p, \\uparrow} c^{\\dagger}_{q, \\downarrow} c^{}_{q, \\downarrow}  + G \\eta_{p}  \\eta_{q}    c^{\\dagger}_{p, \\uparrow} c^{}_{p, \\uparrow} c^{\\dagger}_{q, \\downarrow} c^{}_{q, \\downarrow}  + G \\eta_{q}^{2}    c^{}_{p, \\downarrow} c^{\\dagger}_{q, \\uparrow} c^{}_{q, \\uparrow} c^{\\dagger}_{p, \\downarrow} -  G \\eta_{p}  \\eta_{q}    c^{}_{p, \\downarrow} c^{\\dagger}_{q, \\uparrow} c^{}_{q, \\uparrow} c^{\\dagger}_{p, \\downarrow} -  G \\eta_{p}^{2}    c^{\\dagger}_{p, \\downarrow} c^{}_{p, \\downarrow} c^{}_{q, \\downarrow} c^{\\dagger}_{q, \\downarrow}  + G \\eta_{p}  \\eta_{q}    c^{\\dagger}_{p, \\downarrow} c^{}_{p, \\downarrow} c^{}_{q, \\downarrow} c^{\\dagger}_{q, \\downarrow}  + 2 G \\eta_{p}^{2}    c^{}_{p, \\uparrow} c^{\\dagger}_{p, \\downarrow} c^{}_{q, \\downarrow} c^{\\dagger}_{q, \\uparrow} -  2 G \\eta_{p}  \\eta_{q}    c^{}_{p, \\uparrow} c^{\\dagger}_{p, \\downarrow} c^{}_{q, \\downarrow} c^{\\dagger}_{q, \\uparrow}  + G \\eta_{q}^{2}    c^{}_{p, \\downarrow} c^{\\dagger}_{q, \\downarrow} c^{\\dagger}_{p, \\downarrow} c^{}_{q, \\downarrow} -  G \\eta_{q}^{2}    c^{\\dagger}_{p, \\downarrow} c^{}_{p, \\downarrow} c^{\\dagger}_{q, \\uparrow} c^{}_{q, \\uparrow}  + G \\eta_{p}  \\eta_{q}    c^{\\dagger}_{p, \\downarrow} c^{}_{p, \\downarrow} c^{\\dagger}_{q, \\uparrow} c^{}_{q, \\uparrow}  + G \\eta_{p}^{2}    c^{\\dagger}_{q, \\uparrow} c^{}_{q, \\uparrow}  + \\eta_{p}^{2}  \\epsilon_{p}    c^{\\dagger}_{q, \\uparrow} c^{}_{q, \\uparrow}  + \\eta_{q}^{2}  \\epsilon_{p}    c^{\\dagger}_{q, \\uparrow} c^{}_{q, \\uparrow} - \\eta_{p}^{2}  \\epsilon_{q}    c^{\\dagger}_{q, \\uparrow} c^{}_{q, \\uparrow} - \\eta_{q}^{2}  \\epsilon_{q}    c^{\\dagger}_{q, \\uparrow} c^{}_{q, \\uparrow} -  G \\eta_{q}^{2}    c^{}_{p, \\uparrow} c^{\\dagger}_{p, \\uparrow}  + G \\eta_{p}  \\eta_{q}    c^{}_{p, \\uparrow} c^{\\dagger}_{p, \\uparrow}  + G \\eta_{p}^{2}    c^{\\dagger}_{p, \\downarrow} c^{}_{p, \\downarrow} c^{}_{q, \\uparrow} c^{\\dagger}_{q, \\uparrow} -  G \\eta_{p}  \\eta_{q}    c^{\\dagger}_{p, \\downarrow} c^{}_{p, \\downarrow} c^{}_{q, \\uparrow} c^{\\dagger}_{q, \\uparrow} - \\sum_{r \\in A}  2 G \\eta_{q}^{2}    c^{\\dagger}_{q, \\uparrow} c^{\\dagger}_{q, \\downarrow} c^{}_{r, \\uparrow} c^{}_{r, \\downarrow}  + \\sum_{r \\in A} 2 G \\eta_{p}  \\eta_{q}    c^{\\dagger}_{q, \\uparrow} c^{\\dagger}_{q, \\downarrow} c^{}_{r, \\uparrow} c^{}_{r, \\downarrow}  + G \\eta_{q}^{2}    c^{}_{p, \\uparrow} c^{\\dagger}_{q, \\uparrow} c^{\\dagger}_{p, \\downarrow} c^{}_{q, \\downarrow}  + G \\eta_{q}^{2}    c^{\\dagger}_{p, \\uparrow} c^{}_{p, \\downarrow} c^{}_{q, \\uparrow} c^{\\dagger}_{q, \\downarrow} -  G \\eta_{p}^{2}    c^{\\dagger}_{p, \\uparrow} c^{}_{p, \\downarrow} c^{}_{q, \\uparrow} c^{\\dagger}_{q, \\downarrow}  + G \\eta_{p}  \\eta_{q}    c^{\\dagger}_{p, \\uparrow} c^{}_{p, \\downarrow} c^{}_{q, \\uparrow} c^{\\dagger}_{q, \\downarrow} -  G \\delta_{p q} \\eta_{p}^{2}    c^{\\dagger}_{p, \\uparrow} c^{}_{q, \\uparrow}  + G \\eta_{p}  \\eta_{q}    c^{\\dagger}_{p, \\uparrow} c^{}_{q, \\uparrow} c^{\\dagger}_{p, \\uparrow} c^{}_{q, \\uparrow} - \\sum_{r \\in A}  2 G \\eta_{p}^{2}    c^{}_{q, \\uparrow} c^{}_{q, \\downarrow} c^{\\dagger}_{r, \\uparrow} c^{\\dagger}_{r, \\downarrow}  + \\sum_{r \\in A} 2 G \\eta_{p}  \\eta_{q}    c^{}_{q, \\uparrow} c^{}_{q, \\downarrow} c^{\\dagger}_{r, \\uparrow} c^{\\dagger}_{r, \\downarrow}  + G \\eta_{p}^{2}    c^{\\dagger}_{q, \\downarrow} c^{}_{q, \\downarrow}  + \\eta_{p}^{2}  \\epsilon_{p}    c^{\\dagger}_{q, \\downarrow} c^{}_{q, \\downarrow}  + \\eta_{q}^{2}  \\epsilon_{p}    c^{\\dagger}_{q, \\downarrow} c^{}_{q, \\downarrow} - \\eta_{p}^{2}  \\epsilon_{q}    c^{\\dagger}_{q, \\downarrow} c^{}_{q, \\downarrow} - \\eta_{q}^{2}  \\epsilon_{q}    c^{\\dagger}_{q, \\downarrow} c^{}_{q, \\downarrow}  + G \\eta_{q}^{2}    c^{}_{p, \\downarrow} c^{\\dagger}_{q, \\downarrow} c^{\\dagger}_{p, \\uparrow} c^{}_{q, \\uparrow}  + G \\eta_{p}^{2}    c^{\\dagger}_{p, \\downarrow} c^{\\dagger}_{q, \\uparrow} c^{}_{p, \\downarrow} c^{}_{q, \\uparrow} -  G \\eta_{p}  \\eta_{q}    c^{\\dagger}_{p, \\downarrow} c^{\\dagger}_{q, \\uparrow} c^{}_{p, \\downarrow} c^{}_{q, \\uparrow} - \\sum_{r \\in A}  2 G \\eta_{q}^{2}    c^{}_{p, \\uparrow} c^{}_{p, \\downarrow} c^{\\dagger}_{r, \\uparrow} c^{\\dagger}_{r, \\downarrow}  + \\sum_{r \\in A} 2 G \\eta_{p}  \\eta_{q}    c^{}_{p, \\uparrow} c^{}_{p, \\downarrow} c^{\\dagger}_{r, \\uparrow} c^{\\dagger}_{r, \\downarrow} -  G \\eta_{q}^{2}    c^{}_{p, \\uparrow} c^{}_{p, \\downarrow} c^{\\dagger}_{q, \\uparrow} c^{\\dagger}_{q, \\downarrow}  + G \\eta_{p}  \\eta_{q}    c^{}_{p, \\uparrow} c^{}_{p, \\downarrow} c^{\\dagger}_{q, \\uparrow} c^{\\dagger}_{q, \\downarrow} -  G \\eta_{p}^{2}    c^{\\dagger}_{p, \\uparrow} c^{}_{p, \\uparrow} c^{}_{q, \\uparrow} c^{\\dagger}_{q, \\uparrow}  + G \\eta_{p}  \\eta_{q}    c^{\\dagger}_{p, \\uparrow} c^{}_{p, \\uparrow} c^{}_{q, \\uparrow} c^{\\dagger}_{q, \\uparrow} -  G \\eta_{p}^{2}    c^{}_{q, \\downarrow} c^{\\dagger}_{q, \\downarrow}  + G \\eta_{p}  \\eta_{q}    c^{}_{q, \\downarrow} c^{\\dagger}_{q, \\downarrow}  + G \\eta_{q}^{2}    c^{}_{p, \\uparrow} c^{\\dagger}_{q, \\downarrow} c^{}_{q, \\downarrow} c^{\\dagger}_{p, \\uparrow} -  G \\eta_{p}  \\eta_{q}    c^{}_{p, \\uparrow} c^{\\dagger}_{q, \\downarrow} c^{}_{q, \\downarrow} c^{\\dagger}_{p, \\uparrow}  + G \\eta_{q}^{2}    c^{\\dagger}_{p, \\uparrow} c^{}_{p, \\uparrow}  + \\eta_{p}^{2}  \\epsilon_{q}    c^{\\dagger}_{p, \\uparrow} c^{}_{p, \\uparrow}  + \\eta_{q}^{2}  \\epsilon_{q}    c^{\\dagger}_{p, \\uparrow} c^{}_{p, \\uparrow} - \\eta_{p}^{2}  \\epsilon_{p}    c^{\\dagger}_{p, \\uparrow} c^{}_{p, \\uparrow} - \\eta_{q}^{2}  \\epsilon_{p}    c^{\\dagger}_{p, \\uparrow} c^{}_{p, \\uparrow} -  G \\eta_{p}  \\eta_{q}    c^{\\dagger}_{p, \\uparrow} c^{}_{p, \\uparrow}  + G \\eta_{q}^{2}    c^{}_{p, \\downarrow} c^{}_{q, \\uparrow} c^{\\dagger}_{q, \\downarrow} c^{\\dagger}_{p, \\uparrow} -  G \\eta_{p}  \\eta_{q}    c^{}_{p, \\downarrow} c^{}_{q, \\uparrow} c^{\\dagger}_{q, \\downarrow} c^{\\dagger}_{p, \\uparrow} -  G \\delta_{p q} \\eta_{p}^{2}    c^{\\dagger}_{p, \\downarrow} c^{}_{q, \\downarrow}  + G \\eta_{p}  \\eta_{q}    c^{\\dagger}_{p, \\downarrow} c^{}_{q, \\downarrow} c^{\\dagger}_{p, \\downarrow} c^{}_{q, \\downarrow}  + G \\eta_{p}  \\eta_{q}    c^{\\dagger}_{p, \\uparrow} c^{}_{q, \\uparrow} c^{\\dagger}_{p, \\downarrow} c^{}_{q, \\downarrow}  + G \\eta_{q}^{2}    c^{}_{p, \\uparrow} c^{\\dagger}_{q, \\uparrow} c^{\\dagger}_{p, \\uparrow} c^{}_{q, \\uparrow}  + G \\eta_{p}^{2}    c^{\\dagger}_{p, \\uparrow} c^{\\dagger}_{q, \\downarrow} c^{}_{p, \\uparrow} c^{}_{q, \\downarrow} -  G \\eta_{p}  \\eta_{q}    c^{\\dagger}_{p, \\uparrow} c^{\\dagger}_{q, \\downarrow} c^{}_{p, \\uparrow} c^{}_{q, \\downarrow}  + G \\eta_{p}  \\eta_{q}    c^{\\dagger}_{p, \\downarrow} c^{}_{q, \\downarrow} c^{\\dagger}_{p, \\uparrow} c^{}_{q, \\uparrow} - \\sum_{r \\in A}  2 G \\eta_{p}^{2}    c^{\\dagger}_{p, \\uparrow} c^{\\dagger}_{p, \\downarrow} c^{}_{r, \\uparrow} c^{}_{r, \\downarrow}  + \\sum_{r \\in A} 2 G \\eta_{p}  \\eta_{q}    c^{\\dagger}_{p, \\uparrow} c^{\\dagger}_{p, \\downarrow} c^{}_{r, \\uparrow} c^{}_{r, \\downarrow} -  G \\eta_{q}^{2}    c^{}_{p, \\uparrow} c^{}_{p, \\downarrow} c^{\\dagger}_{q, \\downarrow} c^{\\dagger}_{q, \\uparrow}  + G \\eta_{p}  \\eta_{q}    c^{}_{p, \\uparrow} c^{}_{p, \\downarrow} c^{\\dagger}_{q, \\downarrow} c^{\\dagger}_{q, \\uparrow}  + G \\eta_{q}^{2}    c^{\\dagger}_{p, \\downarrow} c^{}_{p, \\downarrow}  + \\eta_{p}^{2}  \\epsilon_{q}    c^{\\dagger}_{p, \\downarrow} c^{}_{p, \\downarrow}  + \\eta_{q}^{2}  \\epsilon_{q}    c^{\\dagger}_{p, \\downarrow} c^{}_{p, \\downarrow} - \\eta_{p}^{2}  \\epsilon_{p}    c^{\\dagger}_{p, \\downarrow} c^{}_{p, \\downarrow} - \\eta_{q}^{2}  \\epsilon_{p}    c^{\\dagger}_{p, \\downarrow} c^{}_{p, \\downarrow} -  G \\eta_{p}  \\eta_{q}    c^{\\dagger}_{p, \\downarrow} c^{}_{p, \\downarrow}$"
      ],
      "text/plain": [
       "<IPython.core.display.Math object>"
      ]
     },
     "execution_count": 61,
     "metadata": {},
     "output_type": "execute_result"
    }
   ],
   "source": [
    "# Amat_pq = dr.simplify((D_pq | (H | D_dag_pq)))\n",
    "Amat_pq = term2\n",
    "Amat_pq.display()"
   ]
  },
  {
   "cell_type": "code",
   "execution_count": 62,
   "metadata": {},
   "outputs": [
    {
     "data": {
      "text/latex": [
       "$\\displaystyle - \\left(G \\eta_{p}^{2} - G \\eta_{p} \\eta_{q}\\right)  c^{}_{q, \\uparrow} c^{\\dagger}_{q, \\uparrow}  + G \\eta_{p}^{2}    c^{}_{p, \\uparrow} c^{\\dagger}_{p, \\downarrow} c^{\\dagger}_{q, \\uparrow} c^{}_{q, \\downarrow}  + \\left(G \\eta_{p} \\eta_{q} - G \\eta_{q}^{2}\\right)  c^{}_{p, \\uparrow} c^{\\dagger}_{q, \\uparrow} c^{}_{q, \\downarrow} c^{\\dagger}_{p, \\downarrow} - \\left(G \\eta_{p}^{2} - G \\eta_{p} \\eta_{q} + G \\eta_{q}^{2}\\right)  c^{\\dagger}_{p, \\uparrow} c^{}_{p, \\uparrow} c^{\\dagger}_{q, \\uparrow} c^{}_{q, \\uparrow} - \\left(G \\eta_{p}^{2} - G \\eta_{p} \\eta_{q}\\right)  c^{\\dagger}_{p, \\uparrow} c^{\\dagger}_{q, \\downarrow} c^{}_{p, \\downarrow} c^{}_{q, \\uparrow} - \\left(G \\eta_{p}^{2} - G \\eta_{p} \\eta_{q} + G \\eta_{q}^{2}\\right)  c^{\\dagger}_{p, \\downarrow} c^{}_{p, \\downarrow} c^{\\dagger}_{q, \\downarrow} c^{}_{q, \\downarrow} - \\left(G \\eta_{p}^{2} - G \\eta_{p} \\eta_{q}\\right)  c^{\\dagger}_{p, \\downarrow} c^{\\dagger}_{q, \\uparrow} c^{}_{p, \\uparrow} c^{}_{q, \\downarrow}  + 2 G \\eta_{p}  \\eta_{q}    c^{\\dagger}_{p, \\uparrow} c^{\\dagger}_{p, \\downarrow} c^{}_{q, \\uparrow} c^{}_{q, \\downarrow}  + \\left(G \\eta_{p} \\eta_{q} - G \\eta_{q}^{2}\\right)  c^{}_{p, \\downarrow} c^{\\dagger}_{p, \\downarrow} - \\left(G \\eta_{p} \\eta_{q} - G \\eta_{q}^{2}\\right)  c^{\\dagger}_{p, \\uparrow} c^{}_{p, \\downarrow} c^{\\dagger}_{q, \\downarrow} c^{}_{q, \\uparrow}  + G \\eta_{q}^{2}    c^{}_{p, \\downarrow} c^{\\dagger}_{q, \\downarrow} c^{\\dagger}_{p, \\uparrow} c^{}_{q, \\uparrow}  + \\left(G \\eta_{p}^{2} - G \\eta_{p} \\eta_{q}\\right)  c^{\\dagger}_{p, \\uparrow} c^{}_{p, \\uparrow} c^{}_{q, \\downarrow} c^{\\dagger}_{q, \\downarrow}  + \\left(G \\eta_{p} \\eta_{q} - G \\eta_{q}^{2}\\right)  c^{\\dagger}_{p, \\uparrow} c^{}_{p, \\uparrow} c^{\\dagger}_{q, \\downarrow} c^{}_{q, \\downarrow} - \\left(G \\eta_{p} \\eta_{q} - G \\eta_{q}^{2}\\right)  c^{}_{p, \\downarrow} c^{\\dagger}_{q, \\uparrow} c^{}_{q, \\uparrow} c^{\\dagger}_{p, \\downarrow} - \\left(G \\eta_{p}^{2} - G \\eta_{p} \\eta_{q}\\right)  c^{\\dagger}_{p, \\downarrow} c^{}_{p, \\downarrow} c^{}_{q, \\downarrow} c^{\\dagger}_{q, \\downarrow}  + \\left(2 G \\eta_{p}^{2} - 2 G \\eta_{p} \\eta_{q}\\right)  c^{}_{p, \\uparrow} c^{\\dagger}_{p, \\downarrow} c^{}_{q, \\downarrow} c^{\\dagger}_{q, \\uparrow}  + G \\eta_{q}^{2}    c^{}_{p, \\downarrow} c^{\\dagger}_{q, \\downarrow} c^{\\dagger}_{p, \\downarrow} c^{}_{q, \\downarrow}  + \\left(G \\eta_{p} \\eta_{q} - G \\eta_{q}^{2}\\right)  c^{\\dagger}_{p, \\downarrow} c^{}_{p, \\downarrow} c^{\\dagger}_{q, \\uparrow} c^{}_{q, \\uparrow}  + \\left(G \\eta_{p}^{2} + \\epsilon_{p} \\eta_{p}^{2} + \\epsilon_{p} \\eta_{q}^{2} - \\epsilon_{q} \\eta_{p}^{2} - \\epsilon_{q} \\eta_{q}^{2}\\right)  c^{\\dagger}_{q, \\uparrow} c^{}_{q, \\uparrow}  + \\left(G \\eta_{p} \\eta_{q} - G \\eta_{q}^{2}\\right)  c^{}_{p, \\uparrow} c^{\\dagger}_{p, \\uparrow}  + \\left(G \\eta_{p}^{2} - G \\eta_{p} \\eta_{q}\\right)  c^{\\dagger}_{p, \\downarrow} c^{}_{p, \\downarrow} c^{}_{q, \\uparrow} c^{\\dagger}_{q, \\uparrow}  + \\sum_{r \\in A} \\left(2 G \\eta_{p} \\eta_{q} - 2 G \\eta_{q}^{2}\\right)  c^{\\dagger}_{q, \\uparrow} c^{\\dagger}_{q, \\downarrow} c^{}_{r, \\uparrow} c^{}_{r, \\downarrow}  + G \\eta_{q}^{2}    c^{}_{p, \\uparrow} c^{\\dagger}_{q, \\uparrow} c^{\\dagger}_{p, \\downarrow} c^{}_{q, \\downarrow} - \\left(G \\eta_{p}^{2} - G \\eta_{p} \\eta_{q} - G \\eta_{q}^{2}\\right)  c^{\\dagger}_{p, \\uparrow} c^{}_{p, \\downarrow} c^{}_{q, \\uparrow} c^{\\dagger}_{q, \\downarrow} -  G \\delta_{p q} \\eta_{p}^{2}    c^{\\dagger}_{p, \\uparrow} c^{}_{q, \\uparrow}  + G \\eta_{p}  \\eta_{q}    c^{\\dagger}_{p, \\uparrow} c^{}_{q, \\uparrow} c^{\\dagger}_{p, \\uparrow} c^{}_{q, \\uparrow} - \\sum_{r \\in A} \\left(2 G \\eta_{p}^{2} - 2 G \\eta_{p} \\eta_{q}\\right)  c^{}_{q, \\uparrow} c^{}_{q, \\downarrow} c^{\\dagger}_{r, \\uparrow} c^{\\dagger}_{r, \\downarrow}  + \\left(G \\eta_{p}^{2} + \\epsilon_{p} \\eta_{p}^{2} + \\epsilon_{p} \\eta_{q}^{2} - \\epsilon_{q} \\eta_{p}^{2} - \\epsilon_{q} \\eta_{q}^{2}\\right)  c^{\\dagger}_{q, \\downarrow} c^{}_{q, \\downarrow}  + \\left(G \\eta_{p}^{2} - G \\eta_{p} \\eta_{q}\\right)  c^{\\dagger}_{p, \\downarrow} c^{\\dagger}_{q, \\uparrow} c^{}_{p, \\downarrow} c^{}_{q, \\uparrow}  + \\sum_{r \\in A} \\left(2 G \\eta_{p} \\eta_{q} - 2 G \\eta_{q}^{2}\\right)  c^{}_{p, \\uparrow} c^{}_{p, \\downarrow} c^{\\dagger}_{r, \\uparrow} c^{\\dagger}_{r, \\downarrow}  + \\left(G \\eta_{p} \\eta_{q} - G \\eta_{q}^{2}\\right)  c^{}_{p, \\uparrow} c^{}_{p, \\downarrow} c^{\\dagger}_{q, \\uparrow} c^{\\dagger}_{q, \\downarrow} - \\left(G \\eta_{p}^{2} - G \\eta_{p} \\eta_{q}\\right)  c^{\\dagger}_{p, \\uparrow} c^{}_{p, \\uparrow} c^{}_{q, \\uparrow} c^{\\dagger}_{q, \\uparrow} - \\left(G \\eta_{p}^{2} - G \\eta_{p} \\eta_{q}\\right)  c^{}_{q, \\downarrow} c^{\\dagger}_{q, \\downarrow} - \\left(G \\eta_{p} \\eta_{q} - G \\eta_{q}^{2}\\right)  c^{}_{p, \\uparrow} c^{\\dagger}_{q, \\downarrow} c^{}_{q, \\downarrow} c^{\\dagger}_{p, \\uparrow} - \\left(G \\eta_{p} \\eta_{q} - G \\eta_{q}^{2} + \\epsilon_{p} \\eta_{p}^{2} + \\epsilon_{p} \\eta_{q}^{2} - \\epsilon_{q} \\eta_{p}^{2} - \\epsilon_{q} \\eta_{q}^{2}\\right)  c^{\\dagger}_{p, \\uparrow} c^{}_{p, \\uparrow} - \\left(G \\eta_{p} \\eta_{q} - G \\eta_{q}^{2}\\right)  c^{}_{p, \\downarrow} c^{}_{q, \\uparrow} c^{\\dagger}_{q, \\downarrow} c^{\\dagger}_{p, \\uparrow} -  G \\delta_{p q} \\eta_{p}^{2}    c^{\\dagger}_{p, \\downarrow} c^{}_{q, \\downarrow}  + G \\eta_{p}  \\eta_{q}    c^{\\dagger}_{p, \\downarrow} c^{}_{q, \\downarrow} c^{\\dagger}_{p, \\downarrow} c^{}_{q, \\downarrow}  + G \\eta_{p}  \\eta_{q}    c^{\\dagger}_{p, \\uparrow} c^{}_{q, \\uparrow} c^{\\dagger}_{p, \\downarrow} c^{}_{q, \\downarrow}  + G \\eta_{q}^{2}    c^{}_{p, \\uparrow} c^{\\dagger}_{q, \\uparrow} c^{\\dagger}_{p, \\uparrow} c^{}_{q, \\uparrow}  + \\left(G \\eta_{p}^{2} - G \\eta_{p} \\eta_{q}\\right)  c^{\\dagger}_{p, \\uparrow} c^{\\dagger}_{q, \\downarrow} c^{}_{p, \\uparrow} c^{}_{q, \\downarrow}  + G \\eta_{p}  \\eta_{q}    c^{\\dagger}_{p, \\downarrow} c^{}_{q, \\downarrow} c^{\\dagger}_{p, \\uparrow} c^{}_{q, \\uparrow} - \\sum_{r \\in A} \\left(2 G \\eta_{p}^{2} - 2 G \\eta_{p} \\eta_{q}\\right)  c^{\\dagger}_{p, \\uparrow} c^{\\dagger}_{p, \\downarrow} c^{}_{r, \\uparrow} c^{}_{r, \\downarrow}  + \\left(G \\eta_{p} \\eta_{q} - G \\eta_{q}^{2}\\right)  c^{}_{p, \\uparrow} c^{}_{p, \\downarrow} c^{\\dagger}_{q, \\downarrow} c^{\\dagger}_{q, \\uparrow} - \\left(G \\eta_{p} \\eta_{q} - G \\eta_{q}^{2} + \\epsilon_{p} \\eta_{p}^{2} + \\epsilon_{p} \\eta_{q}^{2} - \\epsilon_{q} \\eta_{p}^{2} - \\epsilon_{q} \\eta_{q}^{2}\\right)  c^{\\dagger}_{p, \\downarrow} c^{}_{p, \\downarrow}$"
      ],
      "text/plain": [
       "<IPython.core.display.Math object>"
      ]
     },
     "execution_count": 62,
     "metadata": {},
     "output_type": "execute_result"
    }
   ],
   "source": [
    "Amat_pq.merge().display()"
   ]
  },
  {
   "cell_type": "code",
   "execution_count": 63,
   "metadata": {},
   "outputs": [
    {
     "data": {
      "text/latex": [
       "$\\displaystyle - \\left(4 G \\eta_{p} \\eta_{q} - 4 G \\eta_{q}^{2} + \\epsilon_{p} \\eta_{p}^{2} + \\epsilon_{p} \\eta_{q}^{2} - \\epsilon_{q} \\eta_{p}^{2} - \\epsilon_{q} \\eta_{q}^{2}\\right)  \\mathbf{N}_{p}  + \\sum_{r \\in A} \\left(2 G \\eta_{p} \\eta_{q} - 2 G \\eta_{q}^{2}\\right)  \\mathbf{P^\\dagger}_{r} \\mathbf{P}_{p} - \\sum_{r \\in A} \\left(2 G \\eta_{p}^{2} - 2 G \\eta_{p} \\eta_{q}\\right)  \\mathbf{P^\\dagger}_{r} \\mathbf{P}_{q} - \\left(G \\eta_{p}^{2} - 2 G \\eta_{p} \\eta_{q} + G \\eta_{q}^{2}\\right)  \\mathbf{N}_{p} \\mathbf{N}_{q} - \\sum_{r \\in A} \\left(2 G \\eta_{p}^{2} - 2 G \\eta_{p} \\eta_{q}\\right)  \\mathbf{P^\\dagger}_{p} \\mathbf{P}_{r} - \\left(4 G \\eta_{p}^{2} - 8 G \\eta_{p} \\eta_{q} + 4 G \\eta_{q}^{2}\\right)   + \\sum_{r \\in A} \\left(2 G \\eta_{p} \\eta_{q} - 2 G \\eta_{q}^{2}\\right)  \\mathbf{P^\\dagger}_{q} \\mathbf{P}_{r}  + \\left(4 G \\eta_{p}^{2} - 4 G \\eta_{p} \\eta_{q} + \\epsilon_{p} \\eta_{p}^{2} + \\epsilon_{p} \\eta_{q}^{2} - \\epsilon_{q} \\eta_{p}^{2} - \\epsilon_{q} \\eta_{q}^{2}\\right)  \\mathbf{N}_{q}$"
      ],
      "text/plain": [
       "<IPython.core.display.Math object>"
      ]
     },
     "execution_count": 63,
     "metadata": {},
     "output_type": "execute_result"
    }
   ],
   "source": [
    "ans = dr.get_seniority_zero(Amat_pq)\n",
    "ans = dr.simplify(ans)\n",
    "ans.merge().display()"
   ]
  },
  {
   "cell_type": "markdown",
   "metadata": {},
   "source": [
    "-----"
   ]
  },
  {
   "cell_type": "code",
   "execution_count": 65,
   "metadata": {},
   "outputs": [],
   "source": [
    "from agp_fermi import _even_fermi_filter, _get_fermi_partitions, _generate_partitions"
   ]
  },
  {
   "cell_type": "code",
   "execution_count": 66,
   "metadata": {},
   "outputs": [
    {
     "data": {
      "text/plain": [
       "95"
      ]
     },
     "execution_count": 66,
     "metadata": {},
     "output_type": "execute_result"
    }
   ],
   "source": [
    "Amat_pq.n_terms"
   ]
  },
  {
   "cell_type": "code",
   "execution_count": 67,
   "metadata": {},
   "outputs": [
    {
     "data": {
      "text/plain": [
       "95"
      ]
     },
     "execution_count": 67,
     "metadata": {},
     "output_type": "execute_result"
    }
   ],
   "source": [
    "exp1 = Amat_pq.filter(lambda x: _even_fermi_filter(x, spec=dr._spec))\n",
    "exp1.n_terms"
   ]
  },
  {
   "cell_type": "code",
   "execution_count": 68,
   "metadata": {},
   "outputs": [
    {
     "data": {
      "text/latex": [
       "$\\displaystyle - \\left(2 G \\eta_{p}^{2} - 4 G \\eta_{p} \\eta_{q} + 2 G \\eta_{q}^{2}\\right)  c^{}_{p, \\uparrow} c^{\\dagger}_{p, \\downarrow} c^{\\dagger}_{q, \\uparrow} c^{}_{q, \\downarrow}  + G \\eta_{q}^{2}    c^{\\dagger}_{p, \\uparrow} c^{}_{p, \\uparrow} c^{\\dagger}_{q, \\uparrow} c^{}_{q, \\uparrow}  + G \\eta_{q}^{2}    c^{\\dagger}_{p, \\downarrow} c^{}_{p, \\downarrow} c^{\\dagger}_{q, \\downarrow} c^{}_{q, \\downarrow} -  2 G \\eta_{p}  \\eta_{q}    c^{\\dagger}_{p, \\uparrow} c^{\\dagger}_{p, \\downarrow} c^{}_{q, \\uparrow} c^{}_{q, \\downarrow} - \\left(G \\eta_{p}^{2} - G \\eta_{p} \\eta_{q}\\right)  c^{\\dagger}_{p, \\uparrow} c^{}_{p, \\uparrow} c^{\\dagger}_{q, \\downarrow} c^{}_{q, \\downarrow}  + 2 G \\eta_{p}  \\eta_{q}    \\mathbf{P^\\dagger}_{p} \\mathbf{P}_{q} - \\left(3 G \\eta_{p} \\eta_{q} - 3 G \\eta_{q}^{2} + \\epsilon_{p} \\eta_{p}^{2} + \\epsilon_{p} \\eta_{q}^{2} - \\epsilon_{q} \\eta_{p}^{2} - \\epsilon_{q} \\eta_{q}^{2}\\right)  \\mathbf{N}_{p} - \\sum_{r \\in A} \\left(2 G \\eta_{p}^{2} - 2 G \\eta_{p} \\eta_{q}\\right)  \\mathbf{P^\\dagger}_{r} \\mathbf{P}_{q}  + \\sum_{r \\in A} \\left(2 G \\eta_{p} \\eta_{q} - 2 G \\eta_{q}^{2}\\right)  \\mathbf{P^\\dagger}_{r} \\mathbf{P}_{p}  + \\left(\\frac{G \\eta_{p} \\eta_{q}}{2} - \\frac{G \\eta_{q}^{2}}{2}\\right)  \\mathbf{N}_{q} c^{\\dagger}_{p, \\uparrow} c^{}_{p, \\uparrow} - \\left(G \\eta_{p}^{2} - G \\eta_{p} \\eta_{q}\\right)  c^{\\dagger}_{p, \\downarrow} c^{}_{p, \\downarrow} c^{\\dagger}_{q, \\uparrow} c^{}_{q, \\uparrow} - \\left(4 G \\eta_{p}^{2} - 8 G \\eta_{p} \\eta_{q} + 4 G \\eta_{q}^{2}\\right)   + \\left(G \\eta_{p}^{2} - G \\eta_{p} \\eta_{q} - G \\eta_{q}^{2}\\right)  c^{\\dagger}_{q, \\uparrow} c^{}_{q, \\uparrow} - \\left(2 G \\eta_{p}^{2} - 4 G \\eta_{p} \\eta_{q} + 2 G \\eta_{q}^{2}\\right)  c^{\\dagger}_{p, \\uparrow} c^{}_{p, \\downarrow} c^{}_{q, \\uparrow} c^{\\dagger}_{q, \\downarrow}  + \\left(G \\eta_{p}^{2} - G \\eta_{p} \\eta_{q} - G \\eta_{q}^{2}\\right)  c^{\\dagger}_{q, \\downarrow} c^{}_{q, \\downarrow} - \\left(\\frac{G \\eta_{p}^{2}}{2} - G \\eta_{p} \\eta_{q} + G \\eta_{q}^{2}\\right)  \\mathbf{N}_{p} \\mathbf{N}_{q}  + \\left(\\frac{G \\eta_{p} \\eta_{q}}{2} - \\frac{G \\eta_{q}^{2}}{2}\\right)  \\mathbf{N}_{q} c^{\\dagger}_{p, \\downarrow} c^{}_{p, \\downarrow} - \\sum_{r \\in A} \\left(2 G \\eta_{p}^{2} - 2 G \\eta_{p} \\eta_{q}\\right)  \\mathbf{P^\\dagger}_{p} \\mathbf{P}_{r}  + \\sum_{r \\in A} \\left(2 G \\eta_{p} \\eta_{q} - 2 G \\eta_{q}^{2}\\right)  \\mathbf{P^\\dagger}_{q} \\mathbf{P}_{r}  + \\left(2 G \\eta_{p} \\eta_{q} - 2 G \\eta_{q}^{2}\\right)  \\mathbf{P^\\dagger}_{q} \\mathbf{P}_{p} - \\left(G \\eta_{p} \\eta_{q} - G \\eta_{q}^{2}\\right)  c^{\\dagger}_{p, \\uparrow} c^{}_{p, \\uparrow} - \\left(G \\eta_{p} \\eta_{q} - G \\eta_{q}^{2}\\right)  c^{\\dagger}_{p, \\downarrow} c^{}_{p, \\downarrow}  + \\left(3 G \\eta_{p}^{2} - 3 G \\eta_{p} \\eta_{q} + G \\eta_{q}^{2} + \\epsilon_{p} \\eta_{p}^{2} + \\epsilon_{p} \\eta_{q}^{2} - \\epsilon_{q} \\eta_{p}^{2} - \\epsilon_{q} \\eta_{q}^{2}\\right)  \\mathbf{N}_{q}$"
      ],
      "text/plain": [
       "<IPython.core.display.Math object>"
      ]
     },
     "execution_count": 68,
     "metadata": {},
     "output_type": "execute_result"
    }
   ],
   "source": [
    "exp2 = dr.simplify( dr.simplify( dr.extract_su2(exp1) ) )\n",
    "exp2.merge().display()"
   ]
  },
  {
   "cell_type": "code",
   "execution_count": 69,
   "metadata": {},
   "outputs": [
    {
     "data": {
      "text/latex": [
       "$\\displaystyle - \\left(2 G \\eta_{p}^{2} - 4 G \\eta_{p} \\eta_{q} + 2 G \\eta_{q}^{2}\\right)  c^{}_{p, \\uparrow} c^{\\dagger}_{p, \\downarrow} c^{\\dagger}_{q, \\uparrow} c^{}_{q, \\downarrow}  + G \\eta_{q}^{2}    c^{\\dagger}_{p, \\uparrow} c^{}_{p, \\uparrow} c^{\\dagger}_{q, \\uparrow} c^{}_{q, \\uparrow}  + G \\eta_{q}^{2}    c^{\\dagger}_{p, \\downarrow} c^{}_{p, \\downarrow} c^{\\dagger}_{q, \\downarrow} c^{}_{q, \\downarrow} -  2 G \\eta_{p}  \\eta_{q}    c^{\\dagger}_{p, \\uparrow} c^{\\dagger}_{p, \\downarrow} c^{}_{q, \\uparrow} c^{}_{q, \\downarrow} - \\left(G \\eta_{p}^{2} - G \\eta_{p} \\eta_{q}\\right)  c^{\\dagger}_{p, \\uparrow} c^{}_{p, \\uparrow} c^{\\dagger}_{q, \\downarrow} c^{}_{q, \\downarrow}  + 2 G \\eta_{p}  \\eta_{q}    \\mathbf{P^\\dagger}_{p} \\mathbf{P}_{q} - \\left(3 G \\eta_{p} \\eta_{q} - 3 G \\eta_{q}^{2} + \\epsilon_{p} \\eta_{p}^{2} + \\epsilon_{p} \\eta_{q}^{2} - \\epsilon_{q} \\eta_{p}^{2} - \\epsilon_{q} \\eta_{q}^{2}\\right)  \\mathbf{N}_{p} - \\sum_{r \\in A} \\left(2 G \\eta_{p}^{2} - 2 G \\eta_{p} \\eta_{q}\\right)  \\mathbf{P^\\dagger}_{r} \\mathbf{P}_{q}  + \\sum_{r \\in A} \\left(2 G \\eta_{p} \\eta_{q} - 2 G \\eta_{q}^{2}\\right)  \\mathbf{P^\\dagger}_{r} \\mathbf{P}_{p}  + \\left(\\frac{G \\eta_{p} \\eta_{q}}{2} - \\frac{G \\eta_{q}^{2}}{2}\\right)  \\mathbf{N}_{q} c^{\\dagger}_{p, \\uparrow} c^{}_{p, \\uparrow} - \\left(G \\eta_{p}^{2} - G \\eta_{p} \\eta_{q}\\right)  c^{\\dagger}_{p, \\downarrow} c^{}_{p, \\downarrow} c^{\\dagger}_{q, \\uparrow} c^{}_{q, \\uparrow} - \\left(4 G \\eta_{p}^{2} - 8 G \\eta_{p} \\eta_{q} + 4 G \\eta_{q}^{2}\\right)   + \\left(G \\eta_{p}^{2} - G \\eta_{p} \\eta_{q} - G \\eta_{q}^{2}\\right)  c^{\\dagger}_{q, \\uparrow} c^{}_{q, \\uparrow} - \\left(2 G \\eta_{p}^{2} - 4 G \\eta_{p} \\eta_{q} + 2 G \\eta_{q}^{2}\\right)  c^{\\dagger}_{p, \\uparrow} c^{}_{p, \\downarrow} c^{}_{q, \\uparrow} c^{\\dagger}_{q, \\downarrow}  + \\left(G \\eta_{p}^{2} - G \\eta_{p} \\eta_{q} - G \\eta_{q}^{2}\\right)  c^{\\dagger}_{q, \\downarrow} c^{}_{q, \\downarrow} - \\left(\\frac{G \\eta_{p}^{2}}{2} - G \\eta_{p} \\eta_{q} + G \\eta_{q}^{2}\\right)  \\mathbf{N}_{p} \\mathbf{N}_{q}  + \\left(\\frac{G \\eta_{p} \\eta_{q}}{2} - \\frac{G \\eta_{q}^{2}}{2}\\right)  \\mathbf{N}_{q} c^{\\dagger}_{p, \\downarrow} c^{}_{p, \\downarrow} - \\sum_{r \\in A} \\left(2 G \\eta_{p}^{2} - 2 G \\eta_{p} \\eta_{q}\\right)  \\mathbf{P^\\dagger}_{p} \\mathbf{P}_{r}  + \\sum_{r \\in A} \\left(2 G \\eta_{p} \\eta_{q} - 2 G \\eta_{q}^{2}\\right)  \\mathbf{P^\\dagger}_{q} \\mathbf{P}_{r}  + \\left(2 G \\eta_{p} \\eta_{q} - 2 G \\eta_{q}^{2}\\right)  \\mathbf{P^\\dagger}_{q} \\mathbf{P}_{p} - \\left(G \\eta_{p} \\eta_{q} - G \\eta_{q}^{2}\\right)  c^{\\dagger}_{p, \\uparrow} c^{}_{p, \\uparrow} - \\left(G \\eta_{p} \\eta_{q} - G \\eta_{q}^{2}\\right)  c^{\\dagger}_{p, \\downarrow} c^{}_{p, \\downarrow}  + \\left(3 G \\eta_{p}^{2} - 3 G \\eta_{p} \\eta_{q} + G \\eta_{q}^{2} + \\epsilon_{p} \\eta_{p}^{2} + \\epsilon_{p} \\eta_{q}^{2} - \\epsilon_{q} \\eta_{p}^{2} - \\epsilon_{q} \\eta_{q}^{2}\\right)  \\mathbf{N}_{q}$"
      ],
      "text/plain": [
       "<IPython.core.display.Math object>"
      ]
     },
     "execution_count": 69,
     "metadata": {},
     "output_type": "execute_result"
    }
   ],
   "source": [
    "exp3 = exp2.bind(lambda x: _get_fermi_partitions(x, spec=dr._spec))\n",
    "exp3 = dr.simplify(exp3)\n",
    "exp3.merge().display()"
   ]
  },
  {
   "cell_type": "code",
   "execution_count": 70,
   "metadata": {},
   "outputs": [
    {
     "data": {
      "text/latex": [
       "$\\displaystyle - \\left(4 G \\eta_{p} \\eta_{q} - 4 G \\eta_{q}^{2} + \\epsilon_{p} \\eta_{p}^{2} + \\epsilon_{p} \\eta_{q}^{2} - \\epsilon_{q} \\eta_{p}^{2} - \\epsilon_{q} \\eta_{q}^{2}\\right)  \\mathbf{N}_{p}  + \\sum_{r \\in A} \\left(2 G \\eta_{p} \\eta_{q} - 2 G \\eta_{q}^{2}\\right)  \\mathbf{P^\\dagger}_{r} \\mathbf{P}_{p} - \\left(2 G \\eta_{p}^{2} - 4 G \\eta_{p} \\eta_{q} + 2 G \\eta_{q}^{2}\\right)  c^{}_{p, \\uparrow} c^{\\dagger}_{p, \\downarrow} c^{\\dagger}_{q, \\uparrow} c^{}_{q, \\downarrow} - \\sum_{r \\in A} \\left(2 G \\eta_{p}^{2} - 2 G \\eta_{p} \\eta_{q}\\right)  \\mathbf{P^\\dagger}_{r} \\mathbf{P}_{q} - \\left(2 G \\eta_{p}^{2} - 4 G \\eta_{p} \\eta_{q} + 2 G \\eta_{q}^{2}\\right)  c^{\\dagger}_{p, \\uparrow} c^{}_{p, \\downarrow} c^{}_{q, \\uparrow} c^{\\dagger}_{q, \\downarrow} - \\left(G \\eta_{p}^{2} - 2 G \\eta_{p} \\eta_{q} + G \\eta_{q}^{2}\\right)  \\mathbf{N}_{p} \\mathbf{N}_{q} - \\sum_{r \\in A} \\left(2 G \\eta_{p}^{2} - 2 G \\eta_{p} \\eta_{q}\\right)  \\mathbf{P^\\dagger}_{p} \\mathbf{P}_{r} - \\left(4 G \\eta_{p}^{2} - 8 G \\eta_{p} \\eta_{q} + 4 G \\eta_{q}^{2}\\right)   + \\sum_{r \\in A} \\left(2 G \\eta_{p} \\eta_{q} - 2 G \\eta_{q}^{2}\\right)  \\mathbf{P^\\dagger}_{q} \\mathbf{P}_{r}  + \\left(4 G \\eta_{p}^{2} - 4 G \\eta_{p} \\eta_{q} + \\epsilon_{p} \\eta_{p}^{2} + \\epsilon_{p} \\eta_{q}^{2} - \\epsilon_{q} \\eta_{p}^{2} - \\epsilon_{q} \\eta_{q}^{2}\\right)  \\mathbf{N}_{q}  + \\left(2 G \\eta_{p} \\eta_{q} - 2 G \\eta_{q}^{2}\\right)  \\mathbf{P^\\dagger}_{q} \\mathbf{P}_{p}$"
      ],
      "text/plain": [
       "<IPython.core.display.Math object>"
      ]
     },
     "execution_count": 70,
     "metadata": {},
     "output_type": "execute_result"
    }
   ],
   "source": [
    "exp4 = dr.simplify(exp3)\n",
    "exp4 = dr.simplify(dr.simplify(dr.extract_su2(exp4)))\n",
    "exp4.merge().display()"
   ]
  },
  {
   "cell_type": "code",
   "execution_count": null,
   "metadata": {},
   "outputs": [],
   "source": []
  }
 ],
 "metadata": {
  "kernelspec": {
   "display_name": "Python 3",
   "language": "python",
   "name": "python3"
  },
  "language_info": {
   "codemirror_mode": {
    "name": "ipython",
    "version": 3
   },
   "file_extension": ".py",
   "mimetype": "text/x-python",
   "name": "python",
   "nbconvert_exporter": "python",
   "pygments_lexer": "ipython3",
   "version": "3.7.3"
  }
 },
 "nbformat": 4,
 "nbformat_minor": 2
}
