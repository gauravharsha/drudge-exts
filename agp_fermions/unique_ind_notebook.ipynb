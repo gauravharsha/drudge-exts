{
 "cells": [
  {
   "cell_type": "code",
   "execution_count": 1,
   "metadata": {},
   "outputs": [],
   "source": [
    "from sympy import *\n",
    "# from dummy_spark import SparkContext\n",
    "from pyspark import SparkContext\n",
    "from drudge import *\n",
    "from agp_fermi1 import *"
   ]
  },
  {
   "cell_type": "code",
   "execution_count": 2,
   "metadata": {},
   "outputs": [],
   "source": [
    "ctx = SparkContext()"
   ]
  },
  {
   "cell_type": "code",
   "execution_count": 3,
   "metadata": {},
   "outputs": [],
   "source": [
    "dr = AGPFermi(ctx)"
   ]
  },
  {
   "cell_type": "code",
   "execution_count": 4,
   "metadata": {},
   "outputs": [],
   "source": [
    "names = dr.names"
   ]
  },
  {
   "cell_type": "code",
   "execution_count": 5,
   "metadata": {},
   "outputs": [],
   "source": [
    "e_ = names.e_\n",
    "p, q, r, s = dr.all_orb_dumms[:4]\n",
    "i, j = symbols('i j')"
   ]
  },
  {
   "cell_type": "code",
   "execution_count": 6,
   "metadata": {},
   "outputs": [],
   "source": [
    "eta = IndexedBase('eta')"
   ]
  },
  {
   "cell_type": "code",
   "execution_count": 15,
   "metadata": {},
   "outputs": [],
   "source": [
    "dr.purge_unique_indices()\n",
    "dr.unique_indices([p, q, r])\n",
    "dr.unique_indices([i, j])"
   ]
  },
  {
   "cell_type": "code",
   "execution_count": 16,
   "metadata": {},
   "outputs": [
    {
     "data": {
      "text/plain": [
       "[{p, q, r}, {i, j}]"
      ]
     },
     "execution_count": 16,
     "metadata": {},
     "output_type": "execute_result"
    }
   ],
   "source": [
    "dr.unique_del_lists"
   ]
  },
  {
   "cell_type": "code",
   "execution_count": 17,
   "metadata": {},
   "outputs": [],
   "source": [
    "D_ij = dr.simplify(dr.sum(eta[i]*e_[i, j] - eta[j]*e_[j, i]))\n",
    "DD_pr = dr.simplify(dr.sum(eta[p]*e_[r, p] - eta[r]*e_[p, r]))\n",
    "DD_qr = dr.simplify(dr.sum(eta[q]*e_[r, q] - eta[r]*e_[q, r]))"
   ]
  },
  {
   "cell_type": "code",
   "execution_count": 18,
   "metadata": {},
   "outputs": [],
   "source": [
    "DD_x_DD = dr.simplify(DD_pr*DD_qr)"
   ]
  },
  {
   "cell_type": "code",
   "execution_count": 19,
   "metadata": {},
   "outputs": [
    {
     "data": {
      "text/latex": [
       "$\\displaystyle - \\eta_{p}  \\eta_{r}    c^{}_{p, \\downarrow} c^{\\dagger}_{q, \\downarrow} c^{\\dagger}_{r, \\downarrow} c^{}_{r, \\downarrow} - \\eta_{p}  \\eta_{r}    c^{}_{p, \\uparrow} c^{\\dagger}_{q, \\downarrow} c^{\\dagger}_{r, \\uparrow} c^{}_{r, \\downarrow}  + \\eta_{q}  \\eta_{r}    c^{\\dagger}_{p, \\downarrow} c^{}_{q, \\uparrow} c^{\\dagger}_{r, \\uparrow} c^{}_{r, \\downarrow} - \\eta_{p}  \\eta_{q}    c^{}_{p, \\uparrow} c^{}_{q, \\downarrow} c^{\\dagger}_{r, \\uparrow} c^{\\dagger}_{r, \\downarrow} - \\eta_{p}  \\eta_{r}    c^{}_{p, \\uparrow} c^{\\dagger}_{q, \\uparrow} c^{\\dagger}_{r, \\uparrow} c^{}_{r, \\uparrow} - \\eta_{r}^{2}    c^{\\dagger}_{p, \\downarrow} c^{\\dagger}_{q, \\uparrow} c^{}_{r, \\downarrow} c^{}_{r, \\uparrow}  + \\eta_{q}  \\eta_{r}    c^{\\dagger}_{p, \\downarrow} c^{}_{q, \\downarrow} c^{\\dagger}_{r, \\downarrow} c^{}_{r, \\downarrow} - \\eta_{q}  \\eta_{r}    c^{\\dagger}_{p, \\downarrow} c^{}_{q, \\downarrow} - \\eta_{p}  \\eta_{r}    c^{}_{p, \\downarrow} c^{\\dagger}_{q, \\uparrow} c^{\\dagger}_{r, \\downarrow} c^{}_{r, \\uparrow}  + \\eta_{q}  \\eta_{r}    c^{\\dagger}_{p, \\uparrow} c^{}_{q, \\downarrow} c^{\\dagger}_{r, \\downarrow} c^{}_{r, \\uparrow} - \\eta_{q}  \\eta_{r}    c^{\\dagger}_{p, \\uparrow} c^{}_{q, \\uparrow}  + \\eta_{p}  \\eta_{q}    c^{}_{p, \\downarrow} c^{}_{q, \\uparrow} c^{\\dagger}_{r, \\uparrow} c^{\\dagger}_{r, \\downarrow}  + \\eta_{q}  \\eta_{r}    c^{\\dagger}_{p, \\uparrow} c^{}_{q, \\uparrow} c^{\\dagger}_{r, \\uparrow} c^{}_{r, \\uparrow}  + \\eta_{r}^{2}    c^{\\dagger}_{p, \\uparrow} c^{\\dagger}_{q, \\downarrow} c^{}_{r, \\downarrow} c^{}_{r, \\uparrow}$"
      ],
      "text/plain": [
       "<IPython.core.display.Math object>"
      ]
     },
     "execution_count": 19,
     "metadata": {},
     "output_type": "execute_result"
    }
   ],
   "source": [
    "DD_x_DD.display()"
   ]
  },
  {
   "cell_type": "code",
   "execution_count": 20,
   "metadata": {},
   "outputs": [],
   "source": [
    "metric_fermi = dr.simplify(dr.simplify(D_ij | DD_x_DD))"
   ]
  },
  {
   "cell_type": "code",
   "execution_count": 21,
   "metadata": {},
   "outputs": [],
   "source": [
    "metric_su2 = dr.simplify(dr.get_seniority_zero(metric_fermi))"
   ]
  },
  {
   "cell_type": "code",
   "execution_count": 22,
   "metadata": {},
   "outputs": [
    {
     "data": {
      "text/latex": [
       "$\\displaystyle - \\left(2 \\delta_{i p} \\delta_{j q} \\eta_{i}^{2} \\eta_{j} + 2 \\delta_{i q} \\delta_{j p} \\eta_{i}^{2} \\eta_{j}\\right)  \\mathbf{P^\\dagger}_{r} \\mathbf{P}_{j} - \\left(2 \\delta_{i p} \\delta_{j q} \\eta_{j} \\eta_{r}^{2} + 2 \\delta_{i q} \\delta_{j p} \\eta_{j} \\eta_{r}^{2}\\right)  \\mathbf{P^\\dagger}_{j} \\mathbf{P}_{r}  + \\left(\\delta_{i p} \\delta_{j q} \\eta_{j}^{2} \\eta_{r} + \\delta_{i q} \\delta_{j p} \\eta_{i}^{2} \\eta_{r}\\right)  \\mathbf{N}_{j} - \\left(\\frac{\\delta_{i p} \\delta_{j q} \\eta_{i}^{2} \\eta_{r}}{2} + \\frac{\\delta_{i p} \\delta_{j q} \\eta_{j}^{2} \\eta_{r}}{2} + \\frac{\\delta_{i q} \\delta_{j p} \\eta_{i}^{2} \\eta_{r}}{2} + \\frac{\\delta_{i q} \\delta_{j p} \\eta_{j}^{2} \\eta_{r}}{2}\\right)  \\mathbf{N}_{j} \\mathbf{N}_{r} - \\left(\\delta_{i p} \\delta_{j q} \\eta_{j}^{2} \\eta_{r} + \\delta_{i q} \\delta_{j p} \\eta_{i}^{2} \\eta_{r}\\right)  \\mathbf{N}_{i}  + \\left(\\frac{\\delta_{i p} \\delta_{j q} \\eta_{i}^{2} \\eta_{r}}{2} + \\frac{\\delta_{i p} \\delta_{j q} \\eta_{j}^{2} \\eta_{r}}{2} + \\frac{\\delta_{i q} \\delta_{j p} \\eta_{i}^{2} \\eta_{r}}{2} + \\frac{\\delta_{i q} \\delta_{j p} \\eta_{j}^{2} \\eta_{r}}{2}\\right)  \\mathbf{N}_{i} \\mathbf{N}_{r}  + \\left(2 \\delta_{i p} \\delta_{j q} \\eta_{i} \\eta_{r}^{2} + 2 \\delta_{i q} \\delta_{j p} \\eta_{i} \\eta_{r}^{2}\\right)  \\mathbf{P^\\dagger}_{i} \\mathbf{P}_{r}  + \\left(2 \\delta_{i p} \\delta_{j q} \\eta_{i} \\eta_{j}^{2} + 2 \\delta_{i q} \\delta_{j p} \\eta_{i} \\eta_{j}^{2}\\right)  \\mathbf{P^\\dagger}_{r} \\mathbf{P}_{i}$"
      ],
      "text/plain": [
       "<IPython.core.display.Math object>"
      ]
     },
     "execution_count": 22,
     "metadata": {},
     "output_type": "execute_result"
    }
   ],
   "source": [
    "metric_su2.merge().display()"
   ]
  },
  {
   "cell_type": "code",
   "execution_count": null,
   "metadata": {},
   "outputs": [],
   "source": []
  }
 ],
 "metadata": {
  "kernelspec": {
   "display_name": "Python 3",
   "language": "python",
   "name": "python3"
  },
  "language_info": {
   "codemirror_mode": {
    "name": "ipython",
    "version": 3
   },
   "file_extension": ".py",
   "mimetype": "text/x-python",
   "name": "python",
   "nbconvert_exporter": "python",
   "pygments_lexer": "ipython3",
   "version": "3.7.3"
  }
 },
 "nbformat": 4,
 "nbformat_minor": 2
}
