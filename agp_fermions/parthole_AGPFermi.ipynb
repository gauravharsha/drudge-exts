{
 "cells": [
  {
   "cell_type": "markdown",
   "metadata": {},
   "source": [
    "# Simple example for the particle-hole version of AGPFermi"
   ]
  },
  {
   "cell_type": "code",
   "execution_count": 1,
   "metadata": {},
   "outputs": [],
   "source": [
    "from sympy import *\n",
    "from dummy_spark import SparkContext\n",
    "# from pyspark import SparkContext\n",
    "from drudge import *\n",
    "from agp_fermi import *"
   ]
  },
  {
   "cell_type": "markdown",
   "metadata": {},
   "source": [
    "## Initialize environment"
   ]
  },
  {
   "cell_type": "code",
   "execution_count": 2,
   "metadata": {},
   "outputs": [],
   "source": [
    "ctx = SparkContext()"
   ]
  },
  {
   "cell_type": "code",
   "execution_count": 3,
   "metadata": {},
   "outputs": [],
   "source": [
    "dr = PartHoleAGPFermi(ctx)"
   ]
  },
  {
   "cell_type": "markdown",
   "metadata": {},
   "source": [
    "## Access the namespace"
   ]
  },
  {
   "cell_type": "code",
   "execution_count": 4,
   "metadata": {},
   "outputs": [],
   "source": [
    "names = dr.names"
   ]
  },
  {
   "cell_type": "code",
   "execution_count": 5,
   "metadata": {},
   "outputs": [],
   "source": [
    "e_ = names.e_\n",
    "p, q, r, s = dr.all_orb_dumms[:4]\n",
    "i, j, k, l = dr.part_dumms[:4]\n",
    "a, b, c, d = dr.hole_dumms[:4]"
   ]
  },
  {
   "cell_type": "markdown",
   "metadata": {},
   "source": [
    "## Declare occupied and virtual indices to be unique"
   ]
  },
  {
   "cell_type": "code",
   "execution_count": 6,
   "metadata": {},
   "outputs": [],
   "source": [
    "eta = IndexedBase('eta')"
   ]
  },
  {
   "cell_type": "code",
   "execution_count": 7,
   "metadata": {},
   "outputs": [],
   "source": [
    "dr.purge_unique_indices()\n",
    "dr.unique_indices([p, q, r])\n",
    "dr.unique_indices([i, j])\n",
    "dr.unique_indices([a, c])"
   ]
  },
  {
   "cell_type": "code",
   "execution_count": 8,
   "metadata": {},
   "outputs": [
    {
     "name": "stdout",
     "output_type": "stream",
     "text": [
      "[{p, q, r}, {i, j}, {c, a}]\n"
     ]
    }
   ],
   "source": [
    "print(dr.unique_del_lists)"
   ]
  },
  {
   "cell_type": "markdown",
   "metadata": {},
   "source": [
    "Check that the unique indices are removed from the pool of dummy indices.\n",
    "\n",
    "**Note:** Because there is no use of the all-orbital range in this version of drudge, we do not regard it with any importance"
   ]
  },
  {
   "cell_type": "code",
   "execution_count": 19,
   "metadata": {},
   "outputs": [
    {
     "name": "stdout",
     "output_type": "stream",
     "text": [
      "[i, j, k, l, i0, i1, i2, i3, i4, i5, i6, i7, i8, i9, i10, i11, i12, i13, i14, i15, i16, i17, i18, i19, i20, i21, i22, i23, i24, i25, i26, i27, i28, i29, i30, i31, i32, i33, i34, i35, i36, i37, i38, i39, i40, i41, i42, i43, i44, i45, i46, i47, i48, i49]\n",
      "[a, b, c, d, a0, a1, a2, a3, a4, a5, a6, a7, a8, a9, a10, a11, a12, a13, a14, a15, a16, a17, a18, a19, a20, a21, a22, a23, a24, a25, a26, a27, a28, a29, a30, a31, a32, a33, a34, a35, a36, a37, a38, a39, a40, a41, a42, a43, a44, a45, a46, a47, a48, a49]\n"
     ]
    }
   ],
   "source": [
    "print(names.O_dumms)\n",
    "print(names.V_dumms)"
   ]
  },
  {
   "cell_type": "markdown",
   "metadata": {},
   "source": [
    "## Calculation with operators and commutators"
   ]
  },
  {
   "cell_type": "code",
   "execution_count": 10,
   "metadata": {},
   "outputs": [],
   "source": [
    "N = names.N\n",
    "P = names.P\n",
    "Pdag = names.Pdag"
   ]
  },
  {
   "cell_type": "code",
   "execution_count": 11,
   "metadata": {},
   "outputs": [
    {
     "data": {
      "text/latex": [
       "$\\displaystyle \\sum_{k \\in O} \\sum_{b \\in V} t_{b,k}    \\mathbf{P^\\dagger}_{b} \\mathbf{P}_{k}$"
      ],
      "text/plain": [
       "<IPython.core.display.Math object>"
      ]
     },
     "execution_count": 11,
     "metadata": {},
     "output_type": "execute_result"
    }
   ],
   "source": [
    "t = IndexedBase('t')\n",
    "cluster = dr.einst(t[a, i] * P[i] * Pdag[a])\n",
    "cluster = cluster.simplify()\n",
    "cluster.display()"
   ]
  },
  {
   "cell_type": "code",
   "execution_count": 12,
   "metadata": {},
   "outputs": [
    {
     "data": {
      "text/latex": [
       "$\\displaystyle \\sum_{k \\in O} \\sum_{l \\in O} h_{k,l}    \\mathbf{P^\\dagger}_{k} \\mathbf{P}_{l}  + \\sum_{b \\in V} \\sum_{d \\in V} h_{b,d}    \\mathbf{P^\\dagger}_{b} \\mathbf{P}_{d}  + \\sum_{k \\in O} \\sum_{b \\in V} h_{b,k}    \\mathbf{P^\\dagger}_{b} \\mathbf{P}_{k}  + \\sum_{k \\in O} \\sum_{b \\in V} h_{k,b}    \\mathbf{P^\\dagger}_{k} \\mathbf{P}_{b}$"
      ],
      "text/plain": [
       "<IPython.core.display.Math object>"
      ]
     },
     "execution_count": 12,
     "metadata": {},
     "output_type": "execute_result"
    }
   ],
   "source": [
    "h = IndexedBase('h')\n",
    "ham1 = dr.einst(h[p, q] * Pdag[p] * P[q])\n",
    "ham1 = ham1.simplify()\n",
    "ham1.display()"
   ]
  },
  {
   "cell_type": "code",
   "execution_count": 13,
   "metadata": {},
   "outputs": [],
   "source": [
    "comm1 = dr.simplify(ham1 | cluster)"
   ]
  },
  {
   "cell_type": "code",
   "execution_count": 14,
   "metadata": {},
   "outputs": [
    {
     "data": {
      "text/latex": [
       "$\\displaystyle - \\sum_{k \\in O} \\sum_{l \\in O} \\sum_{b \\in V} h_{k,b}  t_{b,l}    \\mathbf{P^\\dagger}_{k} \\mathbf{N}_{b} \\mathbf{P}_{l} - \\sum_{k \\in O} \\sum_{b \\in V} \\sum_{d \\in V} h_{k,d}  t_{b,k}    \\mathbf{P^\\dagger}_{b} \\mathbf{P}_{d}  + \\sum_{k \\in O} \\sum_{l \\in O} \\sum_{b \\in V} h_{k,l}  t_{b,k}    \\mathbf{P^\\dagger}_{b} \\mathbf{N}_{k} \\mathbf{P}_{l} - \\sum_{k \\in O} \\sum_{l \\in O} \\sum_{b \\in V} h_{l,k}  t_{b,l}    \\mathbf{P^\\dagger}_{b} \\mathbf{P}_{k} - \\sum_{k \\in O} \\sum_{b \\in V} \\sum_{d \\in V} h_{b,d}  t_{d,k}    \\mathbf{P^\\dagger}_{b} \\mathbf{N}_{d} \\mathbf{P}_{k}  + \\sum_{k \\in O} \\sum_{b \\in V} \\sum_{d \\in V} h_{k,d}  t_{b,k}    \\mathbf{P^\\dagger}_{b} \\mathbf{N}_{k} \\mathbf{P}_{d}  + \\sum_{k \\in O} \\sum_{l \\in O} \\sum_{b \\in V} h_{k,b}  t_{b,l}    \\mathbf{P^\\dagger}_{k} \\mathbf{P}_{l}  + \\sum_{k \\in O} \\sum_{b \\in V} \\sum_{d \\in V} h_{b,d}  t_{d,k}    \\mathbf{P^\\dagger}_{b} \\mathbf{P}_{k}$"
      ],
      "text/plain": [
       "<IPython.core.display.Math object>"
      ]
     },
     "execution_count": 14,
     "metadata": {},
     "output_type": "execute_result"
    }
   ],
   "source": [
    "comm1.simplify().merge().map2amps(factor).display()"
   ]
  },
  {
   "cell_type": "code",
   "execution_count": 15,
   "metadata": {},
   "outputs": [],
   "source": [
    "from conf import rdm_list"
   ]
  },
  {
   "cell_type": "code",
   "execution_count": 16,
   "metadata": {},
   "outputs": [],
   "source": [
    "comm1_vev = dr.eval_agp(comm1, rdm_list)"
   ]
  },
  {
   "cell_type": "code",
   "execution_count": 17,
   "metadata": {},
   "outputs": [],
   "source": [
    "dr.purge_unique_indices()"
   ]
  },
  {
   "cell_type": "code",
   "execution_count": 18,
   "metadata": {},
   "outputs": [
    {
     "data": {
      "text/latex": [
       "$\\displaystyle - \\sum_{i \\in O} \\sum_{j \\in O} \\sum_{a \\in V} \\left(Z^{(02)}_{a,i} h_{j,i} t_{a,j} - Z^{(02)}_{i,j} h_{i,a} t_{a,j} - Z^{(13)}_{a,i,j} h_{i,j} t_{a,i} + Z^{(13)}_{i,a,j} h_{i,a} t_{a,j}\\right)  - \\sum_{i \\in O} \\sum_{a \\in V} \\sum_{b \\in V} \\left(Z^{(02)}_{a,b} h_{i,b} t_{a,i} - Z^{(02)}_{a,i} h_{a,b} t_{b,i} + Z^{(13)}_{a,b,i} h_{a,b} t_{b,i} - Z^{(13)}_{a,i,b} h_{i,b} t_{a,i}\\right) $"
      ],
      "text/plain": [
       "<IPython.core.display.Math object>"
      ]
     },
     "execution_count": 18,
     "metadata": {},
     "output_type": "execute_result"
    }
   ],
   "source": [
    "comm1_vev.simplify().merge().map2amps(factor).display()"
   ]
  }
 ],
 "metadata": {
  "kernelspec": {
   "display_name": "Python 3",
   "language": "python",
   "name": "python3"
  },
  "language_info": {
   "codemirror_mode": {
    "name": "ipython",
    "version": 3
   },
   "file_extension": ".py",
   "mimetype": "text/x-python",
   "name": "python",
   "nbconvert_exporter": "python",
   "pygments_lexer": "ipython3",
   "version": "3.7.9"
  }
 },
 "nbformat": 4,
 "nbformat_minor": 2
}
