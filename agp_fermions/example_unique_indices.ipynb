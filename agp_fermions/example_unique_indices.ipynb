{
 "cells": [
  {
   "cell_type": "markdown",
   "metadata": {},
   "source": [
    "# Example for usage of the `unique_indices` function "
   ]
  },
  {
   "cell_type": "code",
   "execution_count": 1,
   "metadata": {},
   "outputs": [],
   "source": [
    "from sympy import *\n",
    "from dummy_spark import SparkContext\n",
    "# from pyspark import SparkContext\n",
    "from drudge import *\n",
    "from agp_fermi import *"
   ]
  },
  {
   "cell_type": "markdown",
   "metadata": {},
   "source": [
    "## Initialize the environment"
   ]
  },
  {
   "cell_type": "code",
   "execution_count": 2,
   "metadata": {},
   "outputs": [],
   "source": [
    "ctx = SparkContext()"
   ]
  },
  {
   "cell_type": "code",
   "execution_count": 3,
   "metadata": {},
   "outputs": [],
   "source": [
    "dr = AGPFermi(ctx)"
   ]
  },
  {
   "cell_type": "code",
   "execution_count": 4,
   "metadata": {},
   "outputs": [],
   "source": [
    "names = dr.names"
   ]
  },
  {
   "cell_type": "markdown",
   "metadata": {},
   "source": [
    "## Define operators and symbols"
   ]
  },
  {
   "cell_type": "code",
   "execution_count": 5,
   "metadata": {},
   "outputs": [],
   "source": [
    "e_ = names.e_\n",
    "p, q, r, s = dr.all_orb_dumms[:4]\n",
    "i, j = symbols('i j')"
   ]
  },
  {
   "cell_type": "code",
   "execution_count": 6,
   "metadata": {},
   "outputs": [],
   "source": [
    "eta = IndexedBase('eta')"
   ]
  },
  {
   "cell_type": "markdown",
   "metadata": {},
   "source": [
    "## Declare indices to be unique"
   ]
  },
  {
   "cell_type": "code",
   "execution_count": 7,
   "metadata": {},
   "outputs": [
    {
     "name": "stdout",
     "output_type": "stream",
     "text": [
      "[{q, r, p}, {i, j}]\n"
     ]
    }
   ],
   "source": [
    "dr.unique_indices([p, q, r])\n",
    "dr.unique_indices([i, j])\n",
    "print(dr.unique_del_lists)"
   ]
  },
  {
   "cell_type": "markdown",
   "metadata": {},
   "source": [
    "Note that the indices declared to be unique are completely removed from the set of dummy indices."
   ]
  },
  {
   "cell_type": "code",
   "execution_count": 8,
   "metadata": {},
   "outputs": [
    {
     "name": "stdout",
     "output_type": "stream",
     "text": [
      "[s, p0, p1, p2, p3, p4, p5, p6, p7, p8, p9, p10, p11, p12, p13, p14, p15, p16, p17, p18, p19, p20, p21, p22, p23, p24, p25, p26, p27, p28, p29, p30, p31, p32, p33, p34, p35, p36, p37, p38, p39, p40, p41, p42, p43, p44, p45, p46, p47, p48, p49]\n"
     ]
    }
   ],
   "source": [
    "print(names.A_dumms)"
   ]
  },
  {
   "cell_type": "markdown",
   "metadata": {},
   "source": [
    "## Perform some calculation"
   ]
  },
  {
   "cell_type": "code",
   "execution_count": 9,
   "metadata": {},
   "outputs": [],
   "source": [
    "D_ij = dr.simplify(dr.sum(eta[i]*e_[i, j] - eta[j]*e_[j, i]))\n",
    "DD_pr = dr.simplify(dr.sum(eta[p]*e_[r, p] - eta[r]*e_[p, r]))\n",
    "DD_qr = dr.simplify(dr.sum(eta[q]*e_[r, q] - eta[r]*e_[q, r]))"
   ]
  },
  {
   "cell_type": "code",
   "execution_count": 10,
   "metadata": {},
   "outputs": [],
   "source": [
    "DD_x_DD = dr.simplify(DD_pr*DD_qr)"
   ]
  },
  {
   "cell_type": "code",
   "execution_count": 11,
   "metadata": {},
   "outputs": [
    {
     "data": {
      "text/latex": [
       "$\\displaystyle - \\eta_{q}  \\eta_{r}    c^{\\dagger}_{p, \\uparrow} c^{}_{q, \\uparrow} - \\eta_{p}  \\eta_{r}    c^{}_{p, \\uparrow} c^{\\dagger}_{q, \\downarrow} c^{\\dagger}_{r, \\uparrow} c^{}_{r, \\downarrow} - \\eta_{p}  \\eta_{r}    c^{}_{p, \\uparrow} c^{\\dagger}_{q, \\uparrow} c^{\\dagger}_{r, \\uparrow} c^{}_{r, \\uparrow} - \\eta_{p}  \\eta_{r}    c^{}_{p, \\downarrow} c^{\\dagger}_{q, \\uparrow} c^{\\dagger}_{r, \\downarrow} c^{}_{r, \\uparrow} - \\eta_{p}  \\eta_{r}    c^{}_{p, \\downarrow} c^{\\dagger}_{q, \\downarrow} c^{\\dagger}_{r, \\downarrow} c^{}_{r, \\downarrow}  + \\eta_{p}  \\eta_{q}    c^{}_{p, \\downarrow} c^{}_{q, \\uparrow} c^{\\dagger}_{r, \\uparrow} c^{\\dagger}_{r, \\downarrow}  + \\eta_{q}  \\eta_{r}    c^{\\dagger}_{p, \\downarrow} c^{}_{q, \\uparrow} c^{\\dagger}_{r, \\uparrow} c^{}_{r, \\downarrow} - \\eta_{r}^{2}    c^{\\dagger}_{p, \\downarrow} c^{\\dagger}_{q, \\uparrow} c^{}_{r, \\downarrow} c^{}_{r, \\uparrow} - \\eta_{q}  \\eta_{r}    c^{\\dagger}_{p, \\downarrow} c^{}_{q, \\downarrow}  + \\eta_{q}  \\eta_{r}    c^{\\dagger}_{p, \\downarrow} c^{}_{q, \\downarrow} c^{\\dagger}_{r, \\downarrow} c^{}_{r, \\downarrow}  + \\eta_{r}^{2}    c^{\\dagger}_{p, \\uparrow} c^{\\dagger}_{q, \\downarrow} c^{}_{r, \\downarrow} c^{}_{r, \\uparrow}  + \\eta_{q}  \\eta_{r}    c^{\\dagger}_{p, \\uparrow} c^{}_{q, \\uparrow} c^{\\dagger}_{r, \\uparrow} c^{}_{r, \\uparrow}  + \\eta_{q}  \\eta_{r}    c^{\\dagger}_{p, \\uparrow} c^{}_{q, \\downarrow} c^{\\dagger}_{r, \\downarrow} c^{}_{r, \\uparrow} - \\eta_{p}  \\eta_{q}    c^{}_{p, \\uparrow} c^{}_{q, \\downarrow} c^{\\dagger}_{r, \\uparrow} c^{\\dagger}_{r, \\downarrow}$"
      ],
      "text/plain": [
       "<IPython.core.display.Math object>"
      ]
     },
     "execution_count": 11,
     "metadata": {},
     "output_type": "execute_result"
    }
   ],
   "source": [
    "DD_x_DD.display()"
   ]
  },
  {
   "cell_type": "code",
   "execution_count": 12,
   "metadata": {},
   "outputs": [],
   "source": [
    "metric_fermi = dr.simplify(dr.simplify(D_ij | DD_x_DD))"
   ]
  },
  {
   "cell_type": "code",
   "execution_count": 13,
   "metadata": {},
   "outputs": [],
   "source": [
    "metric_su2 = dr.simplify(dr.get_seniority_zero(metric_fermi))"
   ]
  },
  {
   "cell_type": "code",
   "execution_count": 14,
   "metadata": {},
   "outputs": [
    {
     "data": {
      "text/latex": [
       "$\\displaystyle - \\left(2 \\delta_{i p} \\delta_{j q} \\eta_{j} \\eta_{r}^{2} + 2 \\delta_{i q} \\delta_{j p} \\eta_{j} \\eta_{r}^{2}\\right)  \\mathbf{P^\\dagger}_{j} \\mathbf{P}_{r}  + \\left(2 \\delta_{i p} \\delta_{j q} \\eta_{i} \\eta_{j}^{2} + 2 \\delta_{i q} \\delta_{j p} \\eta_{i} \\eta_{j}^{2}\\right)  \\mathbf{P^\\dagger}_{r} \\mathbf{P}_{i}  + \\left(\\delta_{i p} \\delta_{j q} \\eta_{j}^{2} \\eta_{r} + \\delta_{i q} \\delta_{j p} \\eta_{i}^{2} \\eta_{r}\\right)  \\mathbf{N}_{j}  + \\left(2 \\delta_{i p} \\delta_{j q} \\eta_{i} \\eta_{r}^{2} + 2 \\delta_{i q} \\delta_{j p} \\eta_{i} \\eta_{r}^{2}\\right)  \\mathbf{P^\\dagger}_{i} \\mathbf{P}_{r}  + \\left(\\frac{\\delta_{i p} \\delta_{j q} \\eta_{i}^{2} \\eta_{r}}{2} + \\frac{\\delta_{i p} \\delta_{j q} \\eta_{j}^{2} \\eta_{r}}{2} + \\frac{\\delta_{i q} \\delta_{j p} \\eta_{i}^{2} \\eta_{r}}{2} + \\frac{\\delta_{i q} \\delta_{j p} \\eta_{j}^{2} \\eta_{r}}{2}\\right)  \\mathbf{N}_{i} \\mathbf{N}_{r} - \\left(2 \\delta_{i p} \\delta_{j q} \\eta_{i}^{2} \\eta_{j} + 2 \\delta_{i q} \\delta_{j p} \\eta_{i}^{2} \\eta_{j}\\right)  \\mathbf{P^\\dagger}_{r} \\mathbf{P}_{j} - \\left(\\frac{\\delta_{i p} \\delta_{j q} \\eta_{i}^{2} \\eta_{r}}{2} + \\frac{\\delta_{i p} \\delta_{j q} \\eta_{j}^{2} \\eta_{r}}{2} + \\frac{\\delta_{i q} \\delta_{j p} \\eta_{i}^{2} \\eta_{r}}{2} + \\frac{\\delta_{i q} \\delta_{j p} \\eta_{j}^{2} \\eta_{r}}{2}\\right)  \\mathbf{N}_{j} \\mathbf{N}_{r} - \\left(\\delta_{i p} \\delta_{j q} \\eta_{j}^{2} \\eta_{r} + \\delta_{i q} \\delta_{j p} \\eta_{i}^{2} \\eta_{r}\\right)  \\mathbf{N}_{i}$"
      ],
      "text/plain": [
       "<IPython.core.display.Math object>"
      ]
     },
     "execution_count": 14,
     "metadata": {},
     "output_type": "execute_result"
    }
   ],
   "source": [
    "metric_su2.merge().display()"
   ]
  },
  {
   "cell_type": "markdown",
   "metadata": {},
   "source": [
    "## Purge the unique indices\n",
    "\n",
    "That is un-declare the indices to be unique"
   ]
  },
  {
   "cell_type": "code",
   "execution_count": 15,
   "metadata": {},
   "outputs": [
    {
     "name": "stdout",
     "output_type": "stream",
     "text": [
      "[]\n"
     ]
    }
   ],
   "source": [
    "dr.purge_unique_indices()\n",
    "print(dr.unique_del_lists)"
   ]
  }
 ],
 "metadata": {
  "kernelspec": {
   "display_name": "Python 3",
   "language": "python",
   "name": "python3"
  },
  "language_info": {
   "codemirror_mode": {
    "name": "ipython",
    "version": 3
   },
   "file_extension": ".py",
   "mimetype": "text/x-python",
   "name": "python",
   "nbconvert_exporter": "python",
   "pygments_lexer": "ipython3",
   "version": "3.7.9"
  }
 },
 "nbformat": 4,
 "nbformat_minor": 2
}
