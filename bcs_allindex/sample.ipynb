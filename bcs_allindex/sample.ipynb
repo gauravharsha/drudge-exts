{
 "cells": [
  {
   "cell_type": "markdown",
   "metadata": {},
   "source": [
    "# Example Notebook for tweaked BCS Module"
   ]
  },
  {
   "cell_type": "markdown",
   "metadata": {},
   "source": [
    "There is already a built-in drudge module for `ReducedBCSDrudge`, but this tweak helps deal with general indices (instead of the original particle-hole based module), and has an additional function to evaluate AGP expectation values."
   ]
  },
  {
   "cell_type": "markdown",
   "metadata": {},
   "source": [
    "### 1. Start by importing the modules as usual"
   ]
  },
  {
   "cell_type": "code",
   "execution_count": 1,
   "metadata": {},
   "outputs": [],
   "source": [
    "# from pyspark import SparkContext\n",
    "from dummy_spark import SparkContext\n",
    "from sympy import *\n",
    "from drudge import *\n",
    "from bcs import * # This is the tweaked module -- bcs.py\n",
    "\n",
    "ctx = SparkContext()\n",
    "dr = ReducedBCSDrudge(ctx)\n",
    "\n",
    "# Getting the namespace\n",
    "names = dr.names\n",
    "Pdag = names.Pdag\n",
    "P = names.P\n",
    "N = names.N\n",
    "p,q,r,s = dr.all_orb_dumms[:4]"
   ]
  },
  {
   "cell_type": "markdown",
   "metadata": {},
   "source": [
    "### 2. Define the various AGP-RDM's with their appropriate symmetry"
   ]
  },
  {
   "cell_type": "markdown",
   "metadata": {},
   "source": [
    "Note that this list can be large or small based on your application or needs."
   ]
  },
  {
   "cell_type": "code",
   "execution_count": 3,
   "metadata": {},
   "outputs": [],
   "source": [
    "#==================================== \n",
    "# AGP expected values:\n",
    "#====================================\n",
    "# case: z00 \n",
    "Z00 = IndexedBase('Z00')\n",
    "\n",
    "# case: z02 \n",
    "Z02 = IndexedBase('Z02')\n",
    "dr.set_symm(Z02,\n",
    "    Perm([1,0],IDENT),\n",
    "    valence=2\n",
    ")\n",
    "\n",
    "# case: z04\n",
    "Z04 = IndexedBase('Z04')\n",
    "dr.set_symm(Z04,\n",
    "            Perm([1,0,2,3],IDENT),\n",
    "            Perm([0,1,3,2],IDENT),\n",
    "            Perm([2,3,0,1],IDENT),\n",
    "            valence = 4\n",
    ")\n",
    "\n",
    "# case: z06\n",
    "Z06 = IndexedBase('Z06')\n",
    "dr.set_symm(Z06,\n",
    "            Perm([1,0,2,3,4,5],IDENT),\n",
    "            Perm([0,2,1,3,4,5],IDENT),\n",
    "            Perm([0,1,2,4,3,5],IDENT),\n",
    "            Perm([0,1,2,3,5,4],IDENT),\n",
    "            Perm([3,4,5,0,1,2],IDENT),\n",
    "            valence=6\n",
    ")\n",
    "\n",
    "# case: z08\n",
    "Z08 = IndexedBase('Z08')\n",
    "dr.set_symm(Z08,\n",
    "            Perm([1,0,2,3,4,5,6,7],IDENT),\n",
    "            Perm([0,2,1,3,4,5,6,7],IDENT),\n",
    "            Perm([0,1,3,2,4,5,6,7],IDENT),\n",
    "            Perm([0,1,2,3,5,4,6,7],IDENT),\n",
    "            Perm([0,1,2,3,4,6,5,7],IDENT),\n",
    "            Perm([0,1,2,3,4,5,7,6],IDENT),\n",
    "            Perm([4,5,6,7,0,1,2,3],IDENT),\n",
    "            valence=8\n",
    ")\n",
    "\n",
    "#--------------------------------------\n",
    "# case: z11\n",
    "Z11 = IndexedBase('Z11')\n",
    "\n",
    "# case: z13\n",
    "Z13 = IndexedBase('Z13')\n",
    "dr.set_symm(Z13,\n",
    "            Perm([2,1,0],IDENT),\n",
    "            valence=3\n",
    ") \n",
    "\n",
    "# case: z15\n",
    "Z15 = IndexedBase('Z15')\n",
    "dr.set_symm(Z15,\n",
    "            Perm([1,0,2,3,4],IDENT),\n",
    "            Perm([0,1,2,4,3],IDENT),\n",
    "            Perm([3,4,2,0,1],IDENT),\n",
    "            valence=5\n",
    ")\n",
    "\n",
    "# case: z17\n",
    "Z17 = IndexedBase('Z17')\n",
    "dr.set_symm(Z17,\n",
    "            Perm([1,0,2,3,4,5,6],IDENT),\n",
    "            Perm([0,2,1,3,4,5,6],IDENT),\n",
    "            Perm([0,1,2,3,5,4,6],IDENT),\n",
    "            Perm([0,1,2,3,4,6,5],IDENT),\n",
    "            Perm([4,5,6,3,0,1,2],IDENT),\n",
    "            valence=7\n",
    ")\n",
    "\n",
    "#--------------------------------------\n",
    "# case: z22\n",
    "Z22 = IndexedBase('Z22')\n",
    "dr.set_symm(Z22,\n",
    "            Perm([1,0],IDENT),\n",
    "            valence=2\n",
    ") \n",
    "\n",
    "# case: z24\n",
    "Z24 = IndexedBase('Z24')\n",
    "dr.set_symm(Z24,\n",
    "            Perm([3,1,2,0],IDENT),\n",
    "            Perm([0,2,1,3],IDENT),\n",
    "            valence=4\n",
    ") \n",
    "\n",
    "# case: z26\n",
    "Z26 = IndexedBase('Z26')\n",
    "dr.set_symm(Z26,\n",
    "            Perm([0,1,3,2,4,5],IDENT),\n",
    "            Perm([1,0,2,3,4,5],IDENT),\n",
    "            Perm([0,1,2,3,5,4],IDENT),\n",
    "            Perm([4,5,2,3,0,1],IDENT),\n",
    "            valence=6\n",
    ") \n",
    "\n",
    "#--------------------------------------\n",
    "#case:z33\n",
    "Z33 = IndexedBase('Z33')\n",
    "dr.set_symm(Z33,\n",
    "            Perm([1,0,2],IDENT),\n",
    "            Perm([0,2,1],IDENT),\n",
    "            valence=3\n",
    ")\n",
    "\n",
    "# case: z35\n",
    "Z35 = IndexedBase('Z35')\n",
    "dr.set_symm(Z35,\n",
    "            Perm([0,2,1,3,4],IDENT),\n",
    "            Perm([0,1,3,2,4],IDENT),\n",
    "            Perm([4,1,2,3,0],IDENT),\n",
    "            valence=5\n",
    ") \n",
    "\n",
    "#--------------------------------------\n",
    "# case: z44\n",
    "Z44 = IndexedBase('Z44')\n",
    "dr.set_symm(Z44,\n",
    "            Perm([1,0,2,3],IDENT),\n",
    "            Perm([0,2,1,3],IDENT),\n",
    "            Perm([0,1,3,2],IDENT),\n",
    "            valence=4\n",
    ") \n",
    "\n",
    "Zlist = [\n",
    "    [Z00, Z02, Z04, Z06, Z08], \n",
    "    [Z11, Z13, Z15, Z17], \n",
    "    [Z22, Z24, Z26], \n",
    "    [Z33, Z35], \n",
    "    [Z44]\n",
    "]"
   ]
  },
  {
   "cell_type": "markdown",
   "metadata": {},
   "source": [
    "### 3. Ready to Define expressions and evaluate expectations"
   ]
  },
  {
   "cell_type": "markdown",
   "metadata": {},
   "source": [
    "In this example, we define the Hamiltonian"
   ]
  },
  {
   "cell_type": "code",
   "execution_count": 4,
   "metadata": {},
   "outputs": [],
   "source": [
    "eps = IndexedBase('e')\n",
    "G = IndexedBase('G')\n",
    "\n",
    "# Impose symmetry on G\n",
    "dr.set_symm(G,\n",
    "    Perm([1,0],IDENT),\n",
    "    valence=2\n",
    ")\n",
    "\n",
    "# Define H:\n",
    "H2 = - dr.sum((p,  names.A), (q,  names.A), G[p,q]*Pdag[p]*P[q])\n",
    "H1 = dr.simplify( dr.einst(eps[p]*N[p] ) )\n",
    "H = H1 + H2"
   ]
  },
  {
   "cell_type": "markdown",
   "metadata": {},
   "source": [
    "Display the Hamiltonian"
   ]
  },
  {
   "cell_type": "code",
   "execution_count": 5,
   "metadata": {},
   "outputs": [
    {
     "data": {
      "text/latex": [
       "$$\\sum_{p \\in A} e_{p}    \\mathbf{N}_{p} - \\sum_{p \\in A} \\sum_{q \\in A} G_{p,q}    \\mathbf{P^\\dagger}_{p} \\mathbf{P}_{q}$$"
      ],
      "text/plain": [
       "<IPython.core.display.Math object>"
      ]
     },
     "execution_count": 5,
     "metadata": {},
     "output_type": "execute_result"
    }
   ],
   "source": [
    "H.simplify().display()"
   ]
  },
  {
   "cell_type": "markdown",
   "metadata": {},
   "source": [
    "Evaluate the expectation value over AGP. The function `eval_agp()` does this task -- it takes two inputs:\n",
    "* the expression\n",
    "* the list of RDM's (`Zlist`) that we defined above\n",
    "and returns the expectation value as a symbolic expression in terms of RDM's"
   ]
  },
  {
   "cell_type": "code",
   "execution_count": 6,
   "metadata": {},
   "outputs": [
    {
     "data": {
      "text/latex": [
       "$$\\sum_{p \\in A} Z^{(11)}_{p}  e_{p}  - \\sum_{p \\in A} \\sum_{q \\in A} G_{p,q}  Z^{(02)}_{p,q} $$"
      ],
      "text/plain": [
       "<IPython.core.display.Math object>"
      ]
     },
     "execution_count": 6,
     "metadata": {},
     "output_type": "execute_result"
    }
   ],
   "source": [
    "agp_energy = dr.eval_agp(H,Zlist)\n",
    "agp_energy = dr.simplify( agp_energy )\n",
    "agp_energy.display()"
   ]
  }
 ],
 "metadata": {
  "kernelspec": {
   "display_name": "Python 3",
   "language": "python",
   "name": "python3"
  },
  "language_info": {
   "codemirror_mode": {
    "name": "ipython",
    "version": 3
   },
   "file_extension": ".py",
   "mimetype": "text/x-python",
   "name": "python",
   "nbconvert_exporter": "python",
   "pygments_lexer": "ipython3",
   "version": "3.6.2"
  }
 },
 "nbformat": 4,
 "nbformat_minor": 2
}
